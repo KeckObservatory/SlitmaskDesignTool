{
 "cells": [
  {
   "cell_type": "markdown",
   "metadata": {},
   "source": [
    "### Build test cases.\n",
    "\n",
    "Reads file from the DeimosExamples directory, extract filename, center, PA\n",
    "\n"
   ]
  },
  {
   "cell_type": "code",
   "execution_count": 2,
   "metadata": {},
   "outputs": [],
   "source": [
    "import glob\n",
    "import sys\n",
    "import os\n",
    "\n",
    "sys.path.append(\"../DesignTool\")\n",
    "from smdtLibs.configFile import ConfigFile\n",
    "from targets import TargetList\n",
    "from smdtLibs.utils import toSexagecimal\n",
    "from smdtLibs.inOutChecker import InOutChecker\n",
    "from maskDesignFile import (\n",
    "    MaskDesignInputFitsFile,\n",
    "    MaskDesignOutputFitsFile,\n",
    "    outputAsList,\n",
    ")"
   ]
  },
  {
   "cell_type": "code",
   "execution_count": 3,
   "metadata": {},
   "outputs": [
    {
     "data": {
      "application/javascript": [
       "\n",
       "            setTimeout(function() {\n",
       "                var nbb_cell_id = 3;\n",
       "                var nbb_unformatted_code = \"%load_ext nb_black\";\n",
       "                var nbb_formatted_code = \"%load_ext nb_black\";\n",
       "                var nbb_cells = Jupyter.notebook.get_cells();\n",
       "                for (var i = 0; i < nbb_cells.length; ++i) {\n",
       "                    if (nbb_cells[i].input_prompt_number == nbb_cell_id) {\n",
       "                        if (nbb_cells[i].get_text() == nbb_unformatted_code) {\n",
       "                             nbb_cells[i].set_text(nbb_formatted_code);\n",
       "                        }\n",
       "                        break;\n",
       "                    }\n",
       "                }\n",
       "            }, 500);\n",
       "            "
      ],
      "text/plain": [
       "<IPython.core.display.Javascript object>"
      ]
     },
     "metadata": {},
     "output_type": "display_data"
    }
   ],
   "source": [
    "%load_ext nb_black"
   ]
  },
  {
   "cell_type": "code",
   "execution_count": 4,
   "metadata": {},
   "outputs": [
    {
     "data": {
      "application/javascript": [
       "\n",
       "            setTimeout(function() {\n",
       "                var nbb_cell_id = 4;\n",
       "                var nbb_unformatted_code = \"config_fname = \\\"../DesignTool/smdt.cfg\\\"\\nparam_fname = \\\"../DesignTool/params.cfg\\\"\\n\\nconfig = ConfigFile(config_fname)\\nconfig.properties[\\\"params\\\"] = ConfigFile(param_fname)\";\n",
       "                var nbb_formatted_code = \"config_fname = \\\"../DesignTool/smdt.cfg\\\"\\nparam_fname = \\\"../DesignTool/params.cfg\\\"\\n\\nconfig = ConfigFile(config_fname)\\nconfig.properties[\\\"params\\\"] = ConfigFile(param_fname)\";\n",
       "                var nbb_cells = Jupyter.notebook.get_cells();\n",
       "                for (var i = 0; i < nbb_cells.length; ++i) {\n",
       "                    if (nbb_cells[i].input_prompt_number == nbb_cell_id) {\n",
       "                        if (nbb_cells[i].get_text() == nbb_unformatted_code) {\n",
       "                             nbb_cells[i].set_text(nbb_formatted_code);\n",
       "                        }\n",
       "                        break;\n",
       "                    }\n",
       "                }\n",
       "            }, 500);\n",
       "            "
      ],
      "text/plain": [
       "<IPython.core.display.Javascript object>"
      ]
     },
     "metadata": {},
     "output_type": "display_data"
    }
   ],
   "source": [
    "config_fname = \"../DesignTool/smdt.cfg\"\n",
    "param_fname = \"../DesignTool/params.cfg\"\n",
    "\n",
    "config = ConfigFile(config_fname)\n",
    "config.properties[\"params\"] = ConfigFile(param_fname)"
   ]
  },
  {
   "cell_type": "code",
   "execution_count": 5,
   "metadata": {},
   "outputs": [
    {
     "data": {
      "application/javascript": [
       "\n",
       "            setTimeout(function() {\n",
       "                var nbb_cell_id = 5;\n",
       "                var nbb_unformatted_code = \"prefix = \\\"../DeimosExamples/**/\\\"\";\n",
       "                var nbb_formatted_code = \"prefix = \\\"../DeimosExamples/**/\\\"\";\n",
       "                var nbb_cells = Jupyter.notebook.get_cells();\n",
       "                for (var i = 0; i < nbb_cells.length; ++i) {\n",
       "                    if (nbb_cells[i].input_prompt_number == nbb_cell_id) {\n",
       "                        if (nbb_cells[i].get_text() == nbb_unformatted_code) {\n",
       "                             nbb_cells[i].set_text(nbb_formatted_code);\n",
       "                        }\n",
       "                        break;\n",
       "                    }\n",
       "                }\n",
       "            }, 500);\n",
       "            "
      ],
      "text/plain": [
       "<IPython.core.display.Javascript object>"
      ]
     },
     "metadata": {},
     "output_type": "display_data"
    }
   ],
   "source": [
    "prefix = \"../DeimosExamples/**/\""
   ]
  },
  {
   "cell_type": "code",
   "execution_count": 6,
   "metadata": {},
   "outputs": [
    {
     "data": {
      "application/javascript": [
       "\n",
       "            setTimeout(function() {\n",
       "                var nbb_cell_id = 6;\n",
       "                var nbb_unformatted_code = \"flist = glob.glob(prefix + \\\"*.fits\\\", recursive=True)\";\n",
       "                var nbb_formatted_code = \"flist = glob.glob(prefix + \\\"*.fits\\\", recursive=True)\";\n",
       "                var nbb_cells = Jupyter.notebook.get_cells();\n",
       "                for (var i = 0; i < nbb_cells.length; ++i) {\n",
       "                    if (nbb_cells[i].input_prompt_number == nbb_cell_id) {\n",
       "                        if (nbb_cells[i].get_text() == nbb_unformatted_code) {\n",
       "                             nbb_cells[i].set_text(nbb_formatted_code);\n",
       "                        }\n",
       "                        break;\n",
       "                    }\n",
       "                }\n",
       "            }, 500);\n",
       "            "
      ],
      "text/plain": [
       "<IPython.core.display.Javascript object>"
      ]
     },
     "metadata": {},
     "output_type": "display_data"
    }
   ],
   "source": [
    "flist = glob.glob(prefix + \"*.fits\", recursive=True)"
   ]
  },
  {
   "cell_type": "code",
   "execution_count": 22,
   "metadata": {
    "scrolled": false
   },
   "outputs": [
    {
     "name": "stdout",
     "output_type": "stream",
     "text": [
      "Failed  ../DeimosExamples/TravisBerger/M31_Field_2_Obs_5.fits\n",
      "Failed  ../DeimosExamples/TravisBerger/M31_Field_3_Obs_1.fits\n",
      "Failed  ../DeimosExamples/TravisBerger/M31_Field_4_Obs_3.fits\n",
      "Failed  ../DeimosExamples/TravisBerger/M31_Field_4_Obs_2.fits\n",
      "Failed  ../DeimosExamples/TravisBerger/M31_Field_2_Obs_1.fits\n",
      "Failed  ../DeimosExamples/TravisBerger/M31_Field_3_Obs_5.fits\n",
      "Failed  ../DeimosExamples/TravisBerger/M31_Field_2_Obs_4.fits\n",
      "Failed  ../DeimosExamples/TravisBerger/M31_Field_3_Obs_2.fits\n",
      "Failed  ../DeimosExamples/TravisBerger/M31_Field_4_Obs_5.fits\n",
      "Failed  ../DeimosExamples/TravisBerger/M31_Field_4_Obs_6.fits\n",
      "Failed  ../DeimosExamples/TravisBerger/M31_Field_2_Obs_2.fits\n",
      "Failed  ../DeimosExamples/TravisBerger/M31_Field_3_Obs_4.fits\n",
      "Failed  ../DeimosExamples/TravisBerger/M31_Field_2_Obs_6.fits\n",
      "Failed  ../DeimosExamples/TravisBerger/M31_Field_3_Obs_3.fits\n",
      "Failed  ../DeimosExamples/TravisBerger/M31_Field_4_Obs_4.fits\n",
      "Failed  ../DeimosExamples/TravisBerger/M31_Field_4_Obs_1.fits\n",
      "Failed  ../DeimosExamples/TravisBerger/M31_Field_3_Obs_6.fits\n",
      "Failed  ../DeimosExamples/TravisBerger/M31_Field_2_Obs_3.fits\n",
      "Failed  ../DeimosExamples/HaraldEbeling/ec97.fits\n",
      "Failed  ../DeimosExamples/HaraldEbeling/ec98.fits\n",
      "Failed  ../DeimosExamples/MarusaBradac/MACS2214_17B_1_final_deimos.fits\n",
      "Failed  ../DeimosExamples/MarusaBradac/A370_17B_1_final_deimos.fits\n",
      "Failed  ../DeimosExamples/experimentMasksShared/mask.fits\n"
     ]
    },
    {
     "data": {
      "application/javascript": [
       "\n",
       "            setTimeout(function() {\n",
       "                var nbb_cell_id = 22;\n",
       "                var nbb_unformatted_code = \"mdfList = glob.glob(prefix + \\\"*.fits\\\", recursive=True)\\n# print(\\\"list\\\", mdfList)\\noutfile = open(\\\"Test_All.py\\\", \\\"w\\\")\\nprint(\\\"#Using data from FITS files instead of .out files\\\", file=outfile)\\nprint(\\n    \\\"# Short name: {filename, cenRAdeg, cenDECdeg, PA, LST, selectFLAG}\\\", file=outfile\\n)\\nprint(\\\"Test_Inputs = {\\\", file=outfile)\\nsep = \\\"\\\"\\nchecked = set()\\nfor i, f in enumerate(mdfList):\\n    shortName = f.split(\\\"/\\\")[-1].replace(\\\".fits\\\", \\\"\\\")\\n    outFileName = f.replace(\\\".fits\\\", \\\".lst\\\")\\n    if not os.path.exists(outFileName):\\n        outFileName = f.replace(\\\".fits\\\", \\\".out\\\")\\n        if not os.path.exists(outFileName):\\n            print(\\\"Failed \\\", f)\\n            continue\\n\\n    mdf = MaskDesignInputFitsFile(f)\\n\\n    tlist = TargetList(outFileName, config=config)\\n\\n    # paDeg = mdf.maskdesign.PA_PNT[0]\\n    # cenRA, cenDEC = mdf.getCenter()\\n    if shortName in checked:\\n        shortName = f\\\"{shortName}_{i}\\\"\\n    checked.add(shortName)\\n\\n    buf = '(\\\"{}\\\",\\\"{}\\\",\\\"{}\\\",{},{},{})'.format(\\n        f,\\n        toSexagecimal(tlist.centerRADeg / 15).strip(),\\n        toSexagecimal(tlist.centerDEC).strip(),\\n        tlist.positionAngle,\\n        mdf.maskdesign.LST_PNT[0],\\n        True,\\n    )\\n    print(f'{sep}\\\"{shortName}\\\":', buf, end=\\\"\\\", file=outfile)\\n    sep = \\\",\\\\n\\\"\\n\\nprint(\\\"}\\\", file=outfile)\\noutfile.close()\";\n",
       "                var nbb_formatted_code = \"mdfList = glob.glob(prefix + \\\"*.fits\\\", recursive=True)\\n# print(\\\"list\\\", mdfList)\\noutfile = open(\\\"Test_All.py\\\", \\\"w\\\")\\nprint(\\\"#Using data from FITS files instead of .out files\\\", file=outfile)\\nprint(\\n    \\\"# Short name: {filename, cenRAdeg, cenDECdeg, PA, LST, selectFLAG}\\\", file=outfile\\n)\\nprint(\\\"Test_Inputs = {\\\", file=outfile)\\nsep = \\\"\\\"\\nchecked = set()\\nfor i, f in enumerate(mdfList):\\n    shortName = f.split(\\\"/\\\")[-1].replace(\\\".fits\\\", \\\"\\\")\\n    outFileName = f.replace(\\\".fits\\\", \\\".lst\\\")\\n    if not os.path.exists(outFileName):\\n        outFileName = f.replace(\\\".fits\\\", \\\".out\\\")\\n        if not os.path.exists(outFileName):\\n            print(\\\"Failed \\\", f)\\n            continue\\n\\n    mdf = MaskDesignInputFitsFile(f)\\n\\n    tlist = TargetList(outFileName, config=config)\\n\\n    # paDeg = mdf.maskdesign.PA_PNT[0]\\n    # cenRA, cenDEC = mdf.getCenter()\\n    if shortName in checked:\\n        shortName = f\\\"{shortName}_{i}\\\"\\n    checked.add(shortName)\\n\\n    buf = '(\\\"{}\\\",\\\"{}\\\",\\\"{}\\\",{},{},{})'.format(\\n        f,\\n        toSexagecimal(tlist.centerRADeg / 15).strip(),\\n        toSexagecimal(tlist.centerDEC).strip(),\\n        tlist.positionAngle,\\n        mdf.maskdesign.LST_PNT[0],\\n        True,\\n    )\\n    print(f'{sep}\\\"{shortName}\\\":', buf, end=\\\"\\\", file=outfile)\\n    sep = \\\",\\\\n\\\"\\n\\nprint(\\\"}\\\", file=outfile)\\noutfile.close()\";\n",
       "                var nbb_cells = Jupyter.notebook.get_cells();\n",
       "                for (var i = 0; i < nbb_cells.length; ++i) {\n",
       "                    if (nbb_cells[i].input_prompt_number == nbb_cell_id) {\n",
       "                        if (nbb_cells[i].get_text() == nbb_unformatted_code) {\n",
       "                             nbb_cells[i].set_text(nbb_formatted_code);\n",
       "                        }\n",
       "                        break;\n",
       "                    }\n",
       "                }\n",
       "            }, 500);\n",
       "            "
      ],
      "text/plain": [
       "<IPython.core.display.Javascript object>"
      ]
     },
     "metadata": {},
     "output_type": "display_data"
    }
   ],
   "source": [
    "mdfList = glob.glob(prefix + \"*.fits\", recursive=True)\n",
    "# print(\"list\", mdfList)\n",
    "outfile = open(\"Test_All.py\", \"w\")\n",
    "print(\"#Using data from FITS files instead of .out files\", file=outfile)\n",
    "print(\n",
    "    \"# Short name: {filename, cenRAdeg, cenDECdeg, PA, LST, selectFLAG}\", file=outfile\n",
    ")\n",
    "print(\"Test_Inputs = {\", file=outfile)\n",
    "sep = \"\"\n",
    "checked = set()\n",
    "for i, f in enumerate(mdfList):\n",
    "    shortName = f.split(\"/\")[-1].replace(\".fits\", \"\")\n",
    "    outFileName = f.replace(\".fits\", \".lst\")\n",
    "    if not os.path.exists(outFileName):\n",
    "        outFileName = f.replace(\".fits\", \".out\")\n",
    "        if not os.path.exists(outFileName):\n",
    "            print(\"Failed \", f)\n",
    "            continue\n",
    "\n",
    "    mdf = MaskDesignInputFitsFile(f)\n",
    "\n",
    "    tlist = TargetList(outFileName, config=config)\n",
    "\n",
    "    # paDeg = mdf.maskdesign.PA_PNT[0]\n",
    "    # cenRA, cenDEC = mdf.getCenter()\n",
    "    if shortName in checked:\n",
    "        shortName = f\"{shortName}_{i}\"\n",
    "    checked.add(shortName)\n",
    "\n",
    "    buf = '(\"{}\",\"{}\",\"{}\",{},{},{})'.format(\n",
    "        f,\n",
    "        toSexagecimal(tlist.centerRADeg / 15).strip(),\n",
    "        toSexagecimal(tlist.centerDEC).strip(),\n",
    "        tlist.positionAngle,\n",
    "        mdf.maskdesign.LST_PNT[0],\n",
    "        True,\n",
    "    )\n",
    "    print(f'{sep}\"{shortName}\":', buf, end=\"\", file=outfile)\n",
    "    sep = \",\\n\"\n",
    "\n",
    "print(\"}\", file=outfile)\n",
    "outfile.close()"
   ]
  },
  {
   "cell_type": "code",
   "execution_count": 23,
   "metadata": {},
   "outputs": [
    {
     "name": "stdout",
     "output_type": "stream",
     "text": [
      "#Using data from FITS files instead of .out files\r\n",
      "# Short name: {filename, cenRAdeg, cenDECdeg, PA, LST, selectFLAG}\r\n",
      "Test_Inputs = {\r\n",
      "\"LeoIa\": (\"../DeimosExamples/EvanKirby/LeoIa.fits\",\"10:08:28.65\",\"12:18:56.00\",106.0,-52.5,True),\r\n",
      "\"n2419c\": (\"../DeimosExamples/EvanKirby/n2419c.fits\",\"07:38:09.20\",\"38:51:12.00\",50.0,-30.0,True),\r\n",
      "\"CetusIII\": (\"../DeimosExamples/MihoIshigaki/CetusIII.fits\",\"02:05:10.30\",\"-04:15:11.50\",-52.0,15.0,True),\r\n",
      "\"DracoENG\": (\"../DeimosExamples/CarlosAlvarez/DracoENG.fits\",\"17:18:46.78\",\"57:55:12.60\",0.0,30.0,True),\r\n",
      "\"dec0Pa0\": (\"../DeimosExamples/Examples1/dec0Pa0.fits\",\"16:29:38.40\",\"00:54:39.60\",0.0,0.015,True),\r\n",
      "\"dec0Pa105\": (\"../DeimosExamples/Examples1/dec0Pa105.fits\",\"16:29:30.67\",\"00:55:10.70\",105.0,0.015,True),\r\n",
      "\"dec0Pa120\": (\"../DeimosExamples/Examples1/dec0Pa120.fits\",\"16:29:30.40\",\"00:51:11.70\",120.0,0.015,True),\r\n",
      "\"dec0Pa135\": (\"../DeimosExamples/Examples1/dec0Pa135.fits\",\"16:29:27.08\",\"00:54:39.60\",135.0,0.015,True),\r\n",
      "\"dec0Pa15\": (\"../DeimosExamples/Examples1/dec0Pa15.fits\",\"16:29:38.40\",\"00:54:39.60\",15.0,0.015,True),\r\n",
      "\"dec0Pa150\": (\"../DeimosExamples/Examples1/dec0Pa150.fits\",\"16:29:31.47\",\"00:53:39.60\",150.0,0.015,True),\r\n",
      "\"dec0Pa165\": (\"../DeimosExamples/Examples1/dec0Pa165.fits\",\"16:29:34.54\",\"00:54:24.10\",165.0,0.015,True),\r\n",
      "\"dec0Pa180\": (\"../DeimosExamples/Examples1/dec0Pa180.fits\",\"16:29:38.40\",\"00:54:39.60\",180.0,0.015,True),\r\n",
      "\"dec0Pa30\": (\"../DeimosExamples/Examples1/dec0Pa30.fits\",\"16:29:32.94\",\"00:54:17.60\",30.0,0.015,True),\r\n",
      "\"dec0Pa45\": (\"../DeimosExamples/Examples1/dec0Pa45.fits\",\"16:29:29.91\",\"00:53:57.20\",45.0,0.015,True),\r\n",
      "\"dec0Pa60\": (\"../DeimosExamples/Examples1/dec0Pa60.fits\",\"16:29:29.47\",\"00:54:31.60\",60.0,0.015,True),\r\n",
      "\"dec0Pa75\": (\"../DeimosExamples/Examples1/dec0Pa75.fits\",\"16:29:29.64\",\"00:55:06.50\",75.0,0.015,True),\r\n",
      "\"dec0Pa90\": (\"../DeimosExamples/Examples1/dec0Pa90.fits\",\"16:29:30.40\",\"00:54:39.60\",90.0,0.015,True),\r\n",
      "\"denseNoOverlappingMask\": (\"../DeimosExamples/experimentMasksShared/denseNoOverlappingMask.fits\",\"17:19:15.60\",\"57:55:55.20\",0.0,0.0,True),\r\n",
      "\"NoOverlapPa180L4500\": (\"../DeimosExamples/experimentMasksShared/NoOverlapPa180L4500.fits\",\"17:18:46.80\",\"57:58:55.20\",180.0,22.5,True),\r\n",
      "\"NoOverlapPa270L4500\": (\"../DeimosExamples/experimentMasksShared/NoOverlapPa270L4500.fits\",\"17:18:46.79\",\"58:01:55.20\",270.0,22.5,True),\r\n",
      "\"NoOverlapPa90L4500\": (\"../DeimosExamples/experimentMasksShared/NoOverlapPa90L4500.fits\",\"17:18:54.36\",\"57:58:55.20\",90.0,22.5,True),\r\n",
      "\"denseNoOverlapPa180\": (\"../DeimosExamples/experimentMasksShared/denseNoOverlapPa180.fits\",\"17:19:09.40\",\"57:55:55.10\",180.0,22.5,True),\r\n",
      "\"denseNoOverlapPa270\": (\"../DeimosExamples/experimentMasksShared/denseNoOverlapPa270.fits\",\"17:18:54.34\",\"57:56:55.20\",270.0,22.5,True),\r\n",
      "\"denseNoOverlappingPa90Mask\": (\"../DeimosExamples/experimentMasksShared/denseNoOverlappingPa90Mask.fits\",\"17:18:46.80\",\"57:58:55.20\",90.0,22.5,True),\r\n",
      "\"denseOverlappingMask\": (\"../DeimosExamples/experimentMasksShared/denseOverlappingMask.fits\",\"17:19:15.60\",\"57:55:55.20\",0.0,0.0,True),\r\n",
      "\"denseOverlappingPa90Mask\": (\"../DeimosExamples/experimentMasksShared/denseOverlappingPa90Mask.fits\",\"17:18:45.42\",\"57:58:55.20\",90.0,22.5,True),\r\n",
      "\"dec0Pa0_49\": (\"../DeimosExamples/Examples2/dec0Pa0.fits\",\"16:29:31.20\",\"00:54:39.60\",0.0,0.015,True),\r\n",
      "\"dec0Pa30_50\": (\"../DeimosExamples/Examples2/dec0Pa30.fits\",\"16:29:31.20\",\"00:54:39.60\",30.0,0.015,True),\r\n",
      "\"dec0Pa75_51\": (\"../DeimosExamples/Examples2/dec0Pa75.fits\",\"16:29:31.20\",\"00:54:39.60\",75.0,0.015,True),\r\n",
      "\"dec0Pa45_52\": (\"../DeimosExamples/Examples2/dec0Pa45.fits\",\"16:29:31.20\",\"00:54:39.60\",45.0,0.015,True),\r\n",
      "\"dec0Pa90_53\": (\"../DeimosExamples/Examples2/dec0Pa90.fits\",\"16:29:31.20\",\"00:54:39.60\",90.0,0.015,True),\r\n",
      "\"dec0Pa60_54\": (\"../DeimosExamples/Examples2/dec0Pa60.fits\",\"16:29:31.20\",\"00:54:39.60\",60.0,0.015,True),\r\n",
      "\"dec0Pa15_55\": (\"../DeimosExamples/Examples2/dec0Pa15.fits\",\"16:29:31.20\",\"00:54:39.60\",15.0,0.015,True),\r\n",
      "\"dec0Pa105_56\": (\"../DeimosExamples/Examples2/dec0Pa105.fits\",\"16:29:31.20\",\"00:54:39.60\",105.0,0.015,True),\r\n",
      "\"dec0Pa150_57\": (\"../DeimosExamples/Examples2/dec0Pa150.fits\",\"16:29:31.20\",\"00:54:39.60\",150.0,0.015,True),\r\n",
      "\"dec0Pa120_58\": (\"../DeimosExamples/Examples2/dec0Pa120.fits\",\"16:29:31.20\",\"00:54:39.60\",120.0,0.015,True),\r\n",
      "\"dec0Pa135_59\": (\"../DeimosExamples/Examples2/dec0Pa135.fits\",\"16:29:31.20\",\"00:54:39.60\",135.0,0.015,True),\r\n",
      "\"dec0Pa180_60\": (\"../DeimosExamples/Examples2/dec0Pa180.fits\",\"16:29:31.20\",\"00:54:39.60\",180.0,0.015,True),\r\n",
      "\"dec0Pa165_61\": (\"../DeimosExamples/Examples2/dec0Pa165.fits\",\"16:29:31.20\",\"00:54:39.60\",165.0,0.015,True),\r\n",
      "\"M53_GAIA_Gmag_le_16_hp4_out\": (\"../DeimosExamples/M53/M53_GAIA_Gmag_le_16_hp4_out.fits\",\"13:12:56.30\",\"18:09:57.10\",0.0,60.0,True),\r\n",
      "\"M53_GAIA_Gmag_le_16_hp0_out\": (\"../DeimosExamples/M53/M53_GAIA_Gmag_le_16_hp0_out.fits\",\"13:12:56.30\",\"18:09:57.10\",0.0,0.0,True),\r\n",
      "\"shortPA0\": (\"../DeimosExamples/SherryShort/shortPA0.fits\",\"07:38:13.20\",\"38:52:22.80\",0.0,-30.0,True),\r\n",
      "\"shortPA144\": (\"../DeimosExamples/SherryShort/shortPA144.fits\",\"07:38:13.20\",\"38:52:22.80\",144.0,-30.0,True),\r\n",
      "\"shortPA216\": (\"../DeimosExamples/SherryShort/shortPA216.fits\",\"07:38:13.20\",\"38:52:22.80\",216.0,-30.0,True),\r\n",
      "\"shortPA288\": (\"../DeimosExamples/SherryShort/shortPA288.fits\",\"07:38:13.20\",\"38:52:22.80\",288.0,-30.0,True),\r\n",
      "\"shortPA72\": (\"../DeimosExamples/SherryShort/shortPA72.fits\",\"07:38:13.20\",\"38:52:22.80\",72.0,-30.0,True)}\r\n"
     ]
    },
    {
     "data": {
      "application/javascript": [
       "\n",
       "            setTimeout(function() {\n",
       "                var nbb_cell_id = 23;\n",
       "                var nbb_unformatted_code = \"!cat Test_All.py\";\n",
       "                var nbb_formatted_code = \"!cat Test_All.py\";\n",
       "                var nbb_cells = Jupyter.notebook.get_cells();\n",
       "                for (var i = 0; i < nbb_cells.length; ++i) {\n",
       "                    if (nbb_cells[i].input_prompt_number == nbb_cell_id) {\n",
       "                        if (nbb_cells[i].get_text() == nbb_unformatted_code) {\n",
       "                             nbb_cells[i].set_text(nbb_formatted_code);\n",
       "                        }\n",
       "                        break;\n",
       "                    }\n",
       "                }\n",
       "            }, 500);\n",
       "            "
      ],
      "text/plain": [
       "<IPython.core.display.Javascript object>"
      ]
     },
     "metadata": {},
     "output_type": "display_data"
    }
   ],
   "source": [
    "!cat Test_All.py"
   ]
  },
  {
   "cell_type": "code",
   "execution_count": 24,
   "metadata": {},
   "outputs": [
    {
     "name": "stdout",
     "output_type": "stream",
     "text": [
      "  49  113 5349 Test_All.py\r\n"
     ]
    },
    {
     "data": {
      "application/javascript": [
       "\n",
       "            setTimeout(function() {\n",
       "                var nbb_cell_id = 24;\n",
       "                var nbb_unformatted_code = \"!wc Test_All.py\";\n",
       "                var nbb_formatted_code = \"!wc Test_All.py\";\n",
       "                var nbb_cells = Jupyter.notebook.get_cells();\n",
       "                for (var i = 0; i < nbb_cells.length; ++i) {\n",
       "                    if (nbb_cells[i].input_prompt_number == nbb_cell_id) {\n",
       "                        if (nbb_cells[i].get_text() == nbb_unformatted_code) {\n",
       "                             nbb_cells[i].set_text(nbb_formatted_code);\n",
       "                        }\n",
       "                        break;\n",
       "                    }\n",
       "                }\n",
       "            }, 500);\n",
       "            "
      ],
      "text/plain": [
       "<IPython.core.display.Javascript object>"
      ]
     },
     "metadata": {},
     "output_type": "display_data"
    }
   ],
   "source": [
    "!wc Test_All.py"
   ]
  },
  {
   "cell_type": "code",
   "execution_count": 25,
   "metadata": {},
   "outputs": [
    {
     "data": {
      "application/javascript": [
       "\n",
       "            setTimeout(function() {\n",
       "                var nbb_cell_id = 25;\n",
       "                var nbb_unformatted_code = \"a = set()\\na.add(\\\"abc\\\")\";\n",
       "                var nbb_formatted_code = \"a = set()\\na.add(\\\"abc\\\")\";\n",
       "                var nbb_cells = Jupyter.notebook.get_cells();\n",
       "                for (var i = 0; i < nbb_cells.length; ++i) {\n",
       "                    if (nbb_cells[i].input_prompt_number == nbb_cell_id) {\n",
       "                        if (nbb_cells[i].get_text() == nbb_unformatted_code) {\n",
       "                             nbb_cells[i].set_text(nbb_formatted_code);\n",
       "                        }\n",
       "                        break;\n",
       "                    }\n",
       "                }\n",
       "            }, 500);\n",
       "            "
      ],
      "text/plain": [
       "<IPython.core.display.Javascript object>"
      ]
     },
     "metadata": {},
     "output_type": "display_data"
    }
   ],
   "source": [
    "a = set()\n",
    "a.add(\"abc\")"
   ]
  },
  {
   "cell_type": "code",
   "execution_count": 16,
   "metadata": {},
   "outputs": [
    {
     "data": {
      "text/plain": [
       "True"
      ]
     },
     "execution_count": 16,
     "metadata": {},
     "output_type": "execute_result"
    },
    {
     "data": {
      "application/javascript": [
       "\n",
       "            setTimeout(function() {\n",
       "                var nbb_cell_id = 16;\n",
       "                var nbb_unformatted_code = \"\\\"abc\\\" in a\";\n",
       "                var nbb_formatted_code = \"\\\"abc\\\" in a\";\n",
       "                var nbb_cells = Jupyter.notebook.get_cells();\n",
       "                for (var i = 0; i < nbb_cells.length; ++i) {\n",
       "                    if (nbb_cells[i].input_prompt_number == nbb_cell_id) {\n",
       "                        if (nbb_cells[i].get_text() == nbb_unformatted_code) {\n",
       "                             nbb_cells[i].set_text(nbb_formatted_code);\n",
       "                        }\n",
       "                        break;\n",
       "                    }\n",
       "                }\n",
       "            }, 500);\n",
       "            "
      ],
      "text/plain": [
       "<IPython.core.display.Javascript object>"
      ]
     },
     "metadata": {},
     "output_type": "display_data"
    }
   ],
   "source": [
    "\"abc\" in a"
   ]
  },
  {
   "cell_type": "code",
   "execution_count": null,
   "metadata": {},
   "outputs": [],
   "source": []
  }
 ],
 "metadata": {
  "kernelspec": {
   "display_name": "Python 3",
   "language": "python",
   "name": "python3"
  },
  "language_info": {
   "codemirror_mode": {
    "name": "ipython",
    "version": 3
   },
   "file_extension": ".py",
   "mimetype": "text/x-python",
   "name": "python",
   "nbconvert_exporter": "python",
   "pygments_lexer": "ipython3",
   "version": "3.8.12"
  }
 },
 "nbformat": 4,
 "nbformat_minor": 4
}
