{
 "cells": [
  {
   "cell_type": "markdown",
   "metadata": {},
   "source": [
    "### Build test cases.\n",
    "\n",
    "Reads file from the DeimosExamples directory, extract filename, center, PA\n",
    "\n"
   ]
  },
  {
   "cell_type": "code",
   "execution_count": 1,
   "metadata": {},
   "outputs": [],
   "source": [
    "import glob\n",
    "import sys\n",
    "import os\n",
    "\n",
    "sys.path.append(\"../DesignTool\")\n",
    "from smdtLibs.configFile import ConfigFile\n",
    "from targets import TargetList\n",
    "from smdtLibs.utils import toSexagecimal\n",
    "from smdtLibs.inOutChecker import InOutChecker\n",
    "from maskDesignFile import (\n",
    "    MaskDesignInputFitsFile,\n",
    "    MaskDesignOutputFitsFile,\n",
    "    outputAsList)"
   ]
  },
  {
   "cell_type": "code",
   "execution_count": 2,
   "metadata": {},
   "outputs": [
    {
     "data": {
      "application/javascript": [
       "\n",
       "            setTimeout(function() {\n",
       "                var nbb_cell_id = 2;\n",
       "                var nbb_unformatted_code = \"%load_ext nb_black\";\n",
       "                var nbb_formatted_code = \"%load_ext nb_black\";\n",
       "                var nbb_cells = Jupyter.notebook.get_cells();\n",
       "                for (var i = 0; i < nbb_cells.length; ++i) {\n",
       "                    if (nbb_cells[i].input_prompt_number == nbb_cell_id) {\n",
       "                        if (nbb_cells[i].get_text() == nbb_unformatted_code) {\n",
       "                             nbb_cells[i].set_text(nbb_formatted_code);\n",
       "                        }\n",
       "                        break;\n",
       "                    }\n",
       "                }\n",
       "            }, 500);\n",
       "            "
      ],
      "text/plain": [
       "<IPython.core.display.Javascript object>"
      ]
     },
     "metadata": {},
     "output_type": "display_data"
    }
   ],
   "source": [
    "%load_ext nb_black"
   ]
  },
  {
   "cell_type": "code",
   "execution_count": 3,
   "metadata": {},
   "outputs": [
    {
     "data": {
      "application/javascript": [
       "\n",
       "            setTimeout(function() {\n",
       "                var nbb_cell_id = 3;\n",
       "                var nbb_unformatted_code = \"config_fname = \\\"../DesignTool/smdt.cfg\\\"\\nparam_fname = \\\"../DesignTool/params.cfg\\\"\\n\\nconfig = ConfigFile(config_fname)\\nconfig.properties[\\\"params\\\"] = ConfigFile(param_fname)\";\n",
       "                var nbb_formatted_code = \"config_fname = \\\"../DesignTool/smdt.cfg\\\"\\nparam_fname = \\\"../DesignTool/params.cfg\\\"\\n\\nconfig = ConfigFile(config_fname)\\nconfig.properties[\\\"params\\\"] = ConfigFile(param_fname)\";\n",
       "                var nbb_cells = Jupyter.notebook.get_cells();\n",
       "                for (var i = 0; i < nbb_cells.length; ++i) {\n",
       "                    if (nbb_cells[i].input_prompt_number == nbb_cell_id) {\n",
       "                        if (nbb_cells[i].get_text() == nbb_unformatted_code) {\n",
       "                             nbb_cells[i].set_text(nbb_formatted_code);\n",
       "                        }\n",
       "                        break;\n",
       "                    }\n",
       "                }\n",
       "            }, 500);\n",
       "            "
      ],
      "text/plain": [
       "<IPython.core.display.Javascript object>"
      ]
     },
     "metadata": {},
     "output_type": "display_data"
    }
   ],
   "source": [
    "config_fname = \"../DesignTool/smdt.cfg\"\n",
    "param_fname = \"../DesignTool/params.cfg\"\n",
    "\n",
    "config = ConfigFile(config_fname)\n",
    "config.properties[\"params\"] = ConfigFile(param_fname)"
   ]
  },
  {
   "cell_type": "code",
   "execution_count": 4,
   "metadata": {},
   "outputs": [
    {
     "data": {
      "application/javascript": [
       "\n",
       "            setTimeout(function() {\n",
       "                var nbb_cell_id = 4;\n",
       "                var nbb_unformatted_code = \"prefix = \\\"../DeimosExamples/Examples1//**/\\\"\";\n",
       "                var nbb_formatted_code = \"prefix = \\\"../DeimosExamples/Examples1//**/\\\"\";\n",
       "                var nbb_cells = Jupyter.notebook.get_cells();\n",
       "                for (var i = 0; i < nbb_cells.length; ++i) {\n",
       "                    if (nbb_cells[i].input_prompt_number == nbb_cell_id) {\n",
       "                        if (nbb_cells[i].get_text() == nbb_unformatted_code) {\n",
       "                             nbb_cells[i].set_text(nbb_formatted_code);\n",
       "                        }\n",
       "                        break;\n",
       "                    }\n",
       "                }\n",
       "            }, 500);\n",
       "            "
      ],
      "text/plain": [
       "<IPython.core.display.Javascript object>"
      ]
     },
     "metadata": {},
     "output_type": "display_data"
    }
   ],
   "source": [
    "prefix = \"../DeimosExamples/Examples1//**/\""
   ]
  },
  {
   "cell_type": "code",
   "execution_count": 5,
   "metadata": {},
   "outputs": [
    {
     "data": {
      "application/javascript": [
       "\n",
       "            setTimeout(function() {\n",
       "                var nbb_cell_id = 5;\n",
       "                var nbb_unformatted_code = \"flist = glob.glob(prefix + \\\"*.out\\\", recursive=True)\";\n",
       "                var nbb_formatted_code = \"flist = glob.glob(prefix + \\\"*.out\\\", recursive=True)\";\n",
       "                var nbb_cells = Jupyter.notebook.get_cells();\n",
       "                for (var i = 0; i < nbb_cells.length; ++i) {\n",
       "                    if (nbb_cells[i].input_prompt_number == nbb_cell_id) {\n",
       "                        if (nbb_cells[i].get_text() == nbb_unformatted_code) {\n",
       "                             nbb_cells[i].set_text(nbb_formatted_code);\n",
       "                        }\n",
       "                        break;\n",
       "                    }\n",
       "                }\n",
       "            }, 500);\n",
       "            "
      ],
      "text/plain": [
       "<IPython.core.display.Javascript object>"
      ]
     },
     "metadata": {},
     "output_type": "display_data"
    }
   ],
   "source": [
    "flist = glob.glob(prefix + \"*.out\", recursive=True)"
   ]
  },
  {
   "cell_type": "code",
   "execution_count": 6,
   "metadata": {},
   "outputs": [
    {
     "name": "stdout",
     "output_type": "stream",
     "text": [
      "../DeimosExamples/Examples1/dec0Pa0.out\n",
      "../DeimosExamples/Examples1/dec0Pa105.out\n",
      "../DeimosExamples/Examples1/dec0Pa120.out\n",
      "../DeimosExamples/Examples1/dec0Pa135.out\n",
      "../DeimosExamples/Examples1/dec0Pa150.out\n",
      "../DeimosExamples/Examples1/dec0Pa15.out\n",
      "../DeimosExamples/Examples1/dec0Pa165.out\n",
      "../DeimosExamples/Examples1/dec0Pa180.out\n",
      "../DeimosExamples/Examples1/dec0Pa30.out\n",
      "../DeimosExamples/Examples1/dec0Pa45.out\n",
      "../DeimosExamples/Examples1/dec0Pa60.out\n",
      "../DeimosExamples/Examples1/dec0Pa75.out\n",
      "../DeimosExamples/Examples1/dec0Pa90.out\n"
     ]
    },
    {
     "data": {
      "application/javascript": [
       "\n",
       "            setTimeout(function() {\n",
       "                var nbb_cell_id = 6;\n",
       "                var nbb_unformatted_code = \"out = {}\\nfor f in flist:\\n    print(f)\\n    tlist = TargetList(f, config=config)\\n    shortName = f.split(\\\"/\\\")[-1].replace(\\\".out\\\", \\\"\\\")\\n    fitsName = f.replace(\\\".out\\\", \\\".fits\\\")\\n    if not os.path.exists(fitsName):\\n        continue\\n    # Name: (fits file, RA Hrs, DEC deg, position angle deg, LST deg, enabled flag\\n    out[shortName] = (\\n        fitsName,\\n        toSexagecimal(tlist.centerRADeg / 15).strip(),\\n        toSexagecimal(tlist.centerDEC).strip(),\\n        tlist.positionAngle,\\n        True,\\n    )\";\n",
       "                var nbb_formatted_code = \"out = {}\\nfor f in flist:\\n    print(f)\\n    tlist = TargetList(f, config=config)\\n    shortName = f.split(\\\"/\\\")[-1].replace(\\\".out\\\", \\\"\\\")\\n    fitsName = f.replace(\\\".out\\\", \\\".fits\\\")\\n    if not os.path.exists(fitsName):\\n        continue\\n    # Name: (fits file, RA Hrs, DEC deg, position angle deg, LST deg, enabled flag\\n    out[shortName] = (\\n        fitsName,\\n        toSexagecimal(tlist.centerRADeg / 15).strip(),\\n        toSexagecimal(tlist.centerDEC).strip(),\\n        tlist.positionAngle,\\n        True,\\n    )\";\n",
       "                var nbb_cells = Jupyter.notebook.get_cells();\n",
       "                for (var i = 0; i < nbb_cells.length; ++i) {\n",
       "                    if (nbb_cells[i].input_prompt_number == nbb_cell_id) {\n",
       "                        if (nbb_cells[i].get_text() == nbb_unformatted_code) {\n",
       "                             nbb_cells[i].set_text(nbb_formatted_code);\n",
       "                        }\n",
       "                        break;\n",
       "                    }\n",
       "                }\n",
       "            }, 500);\n",
       "            "
      ],
      "text/plain": [
       "<IPython.core.display.Javascript object>"
      ]
     },
     "metadata": {},
     "output_type": "display_data"
    }
   ],
   "source": [
    "out = {}\n",
    "for f in flist:\n",
    "    print(f)\n",
    "    tlist = TargetList(f, config=config)\n",
    "    shortName = f.split(\"/\")[-1].replace(\".out\", \"\")\n",
    "    fitsName = f.replace(\".out\", \".fits\")\n",
    "    if not os.path.exists(fitsName):\n",
    "        continue\n",
    "    # Name: (fits file, RA Hrs, DEC deg, position angle deg, LST deg, enabled flag\n",
    "    out[shortName] = (\n",
    "        fitsName,\n",
    "        toSexagecimal(tlist.centerRADeg / 15).strip(),\n",
    "        toSexagecimal(tlist.centerDEC).strip(),\n",
    "        tlist.positionAngle,\n",
    "        True,\n",
    "    )"
   ]
  },
  {
   "cell_type": "raw",
   "metadata": {},
   "source": [
    "with open (\"Test_Inputs1.py\", \"w\") as fh:\n",
    "    print (\"Test_Inputs = \", end=\"\", file=fh)\n",
    "    print(out, file=fh)\n",
    "    print (out)"
   ]
  },
  {
   "cell_type": "code",
   "execution_count": 20,
   "metadata": {
    "scrolled": false
   },
   "outputs": [
    {
     "data": {
      "application/javascript": [
       "\n",
       "            setTimeout(function() {\n",
       "                var nbb_cell_id = 20;\n",
       "                var nbb_unformatted_code = \"mdfList = glob.glob(prefix + \\\"*.fits\\\", recursive=True)\\n\\noutfile = open(\\\"Test_Input1.py\\\", \\\"w\\\")\\nprint(\\\"#Using data from FITS files instead of .out files\\\", file=outfile)\\nprint(\\\"Test_Inputs = {\\\", file=outfile)\\nsep = \\\"\\\"\\nfor f in mdfList:\\n    shortName = f.split(\\\"/\\\")[-1].replace(\\\".fits\\\", \\\"\\\")\\n    outFileName = f.replace(\\\".fits\\\", \\\".out\\\")\\n    if not os.path.exists(outFileName):\\n        continue\\n\\n    mdf = MaskDesignInputFitsFile(f)\\n\\n    tlist = TargetList(outFileName, config=config)\\n\\n    paDeg = mdf.maskdesign.PA_PNT[0]\\n    cenRA, cenDEC = mdf.getCenter()\\n\\n    buf = '(\\\"{}\\\",\\\"{}\\\",\\\"{}\\\",{},{},{})'.format(\\n        f,\\n        toSexagecimal(tlist.centerRADeg / 15).strip(),\\n        toSexagecimal(tlist.centerDEC).strip(),\\n        tlist.positionAngle,\\n        mdf.maskdesign.LST_PNT[0],\\n        True,\\n    )\\n    print(f'{sep}\\\"{shortName}\\\":', buf, end=\\\"\\\", file=outfile)\\n    sep = \\\",\\\\n\\\"\\n\\nprint(\\\"}\\\", file=outfile)\\noutfile.close()\";\n",
       "                var nbb_formatted_code = \"mdfList = glob.glob(prefix + \\\"*.fits\\\", recursive=True)\\n\\noutfile = open(\\\"Test_Input1.py\\\", \\\"w\\\")\\nprint(\\\"#Using data from FITS files instead of .out files\\\", file=outfile)\\nprint(\\\"Test_Inputs = {\\\", file=outfile)\\nsep = \\\"\\\"\\nfor f in mdfList:\\n    shortName = f.split(\\\"/\\\")[-1].replace(\\\".fits\\\", \\\"\\\")\\n    outFileName = f.replace(\\\".fits\\\", \\\".out\\\")\\n    if not os.path.exists(outFileName):\\n        continue\\n\\n    mdf = MaskDesignInputFitsFile(f)\\n\\n    tlist = TargetList(outFileName, config=config)\\n\\n    paDeg = mdf.maskdesign.PA_PNT[0]\\n    cenRA, cenDEC = mdf.getCenter()\\n\\n    buf = '(\\\"{}\\\",\\\"{}\\\",\\\"{}\\\",{},{},{})'.format(\\n        f,\\n        toSexagecimal(tlist.centerRADeg / 15).strip(),\\n        toSexagecimal(tlist.centerDEC).strip(),\\n        tlist.positionAngle,\\n        mdf.maskdesign.LST_PNT[0],\\n        True,\\n    )\\n    print(f'{sep}\\\"{shortName}\\\":', buf, end=\\\"\\\", file=outfile)\\n    sep = \\\",\\\\n\\\"\\n\\nprint(\\\"}\\\", file=outfile)\\noutfile.close()\";\n",
       "                var nbb_cells = Jupyter.notebook.get_cells();\n",
       "                for (var i = 0; i < nbb_cells.length; ++i) {\n",
       "                    if (nbb_cells[i].input_prompt_number == nbb_cell_id) {\n",
       "                        if (nbb_cells[i].get_text() == nbb_unformatted_code) {\n",
       "                             nbb_cells[i].set_text(nbb_formatted_code);\n",
       "                        }\n",
       "                        break;\n",
       "                    }\n",
       "                }\n",
       "            }, 500);\n",
       "            "
      ],
      "text/plain": [
       "<IPython.core.display.Javascript object>"
      ]
     },
     "metadata": {},
     "output_type": "display_data"
    }
   ],
   "source": [
    "mdfList = glob.glob(prefix + \"*.fits\", recursive=True)\n",
    "\n",
    "outfile = open(\"Test_Input1.py\", \"w\")\n",
    "print(\"#Using data from FITS files instead of .out files\", file=outfile)\n",
    "print(\"Test_Inputs = {\", file=outfile)\n",
    "sep = \"\"\n",
    "for f in mdfList:\n",
    "    shortName = f.split(\"/\")[-1].replace(\".fits\", \"\")\n",
    "    outFileName = f.replace(\".fits\", \".out\")\n",
    "    if not os.path.exists(outFileName):\n",
    "        continue\n",
    "\n",
    "    mdf = MaskDesignInputFitsFile(f)\n",
    "\n",
    "    tlist = TargetList(outFileName, config=config)\n",
    "\n",
    "    paDeg = mdf.maskdesign.PA_PNT[0]\n",
    "    cenRA, cenDEC = mdf.getCenter()\n",
    "\n",
    "    buf = '(\"{}\",\"{}\",\"{}\",{},{},{})'.format(\n",
    "        f,\n",
    "        toSexagecimal(tlist.centerRADeg / 15).strip(),\n",
    "        toSexagecimal(tlist.centerDEC).strip(),\n",
    "        tlist.positionAngle,\n",
    "        mdf.maskdesign.LST_PNT[0],\n",
    "        True,\n",
    "    )\n",
    "    print(f'{sep}\"{shortName}\":', buf, end=\"\", file=outfile)\n",
    "    sep = \",\\n\"\n",
    "\n",
    "print(\"}\", file=outfile)\n",
    "outfile.close()"
   ]
  },
  {
   "cell_type": "code",
   "execution_count": 21,
   "metadata": {},
   "outputs": [
    {
     "name": "stdout",
     "output_type": "stream",
     "text": [
      "#Using data from FITS files instead of .out files\r\n",
      "Test_Inputs = {\r\n",
      "\"dec0Pa0\": (\"../DeimosExamples/Examples1/dec0Pa0.fits\",\"16:29:38.40\",\"00:54:39.60\",0.0,0.015,True),\r\n",
      "\"dec0Pa105\": (\"../DeimosExamples/Examples1/dec0Pa105.fits\",\"16:29:30.67\",\"00:55:10.70\",105.0,0.015,True),\r\n",
      "\"dec0Pa120\": (\"../DeimosExamples/Examples1/dec0Pa120.fits\",\"16:29:30.40\",\"00:51:11.70\",120.0,0.015,True),\r\n",
      "\"dec0Pa135\": (\"../DeimosExamples/Examples1/dec0Pa135.fits\",\"16:29:27.08\",\"00:54:39.60\",135.0,0.015,True),\r\n",
      "\"dec0Pa150\": (\"../DeimosExamples/Examples1/dec0Pa150.fits\",\"16:29:31.47\",\"00:53:39.60\",150.0,0.015,True),\r\n",
      "\"dec0Pa15\": (\"../DeimosExamples/Examples1/dec0Pa15.fits\",\"16:29:38.40\",\"00:54:39.60\",15.0,0.015,True),\r\n",
      "\"dec0Pa165\": (\"../DeimosExamples/Examples1/dec0Pa165.fits\",\"16:29:34.54\",\"00:54:24.10\",165.0,0.015,True),\r\n",
      "\"dec0Pa180\": (\"../DeimosExamples/Examples1/dec0Pa180.fits\",\"16:29:38.40\",\"00:54:39.60\",180.0,0.015,True),\r\n",
      "\"dec0Pa30\": (\"../DeimosExamples/Examples1/dec0Pa30.fits\",\"16:29:32.94\",\"00:54:17.60\",30.0,0.015,True),\r\n",
      "\"dec0Pa45\": (\"../DeimosExamples/Examples1/dec0Pa45.fits\",\"16:29:29.91\",\"00:53:57.20\",45.0,0.015,True),\r\n",
      "\"dec0Pa60\": (\"../DeimosExamples/Examples1/dec0Pa60.fits\",\"16:29:29.47\",\"00:54:31.60\",60.0,0.015,True),\r\n",
      "\"dec0Pa75\": (\"../DeimosExamples/Examples1/dec0Pa75.fits\",\"16:29:29.64\",\"00:55:06.50\",75.0,0.015,True),\r\n",
      "\"dec0Pa90\": (\"../DeimosExamples/Examples1/dec0Pa90.fits\",\"16:29:30.40\",\"00:54:39.60\",90.0,0.015,True)}\r\n"
     ]
    },
    {
     "data": {
      "application/javascript": [
       "\n",
       "            setTimeout(function() {\n",
       "                var nbb_cell_id = 21;\n",
       "                var nbb_unformatted_code = \"!cat Test_Input1.py\";\n",
       "                var nbb_formatted_code = \"!cat Test_Input1.py\";\n",
       "                var nbb_cells = Jupyter.notebook.get_cells();\n",
       "                for (var i = 0; i < nbb_cells.length; ++i) {\n",
       "                    if (nbb_cells[i].input_prompt_number == nbb_cell_id) {\n",
       "                        if (nbb_cells[i].get_text() == nbb_unformatted_code) {\n",
       "                             nbb_cells[i].set_text(nbb_formatted_code);\n",
       "                        }\n",
       "                        break;\n",
       "                    }\n",
       "                }\n",
       "            }, 500);\n",
       "            "
      ],
      "text/plain": [
       "<IPython.core.display.Javascript object>"
      ]
     },
     "metadata": {},
     "output_type": "display_data"
    }
   ],
   "source": [
    "!cat Test_Input1.py"
   ]
  },
  {
   "cell_type": "code",
   "execution_count": null,
   "metadata": {},
   "outputs": [],
   "source": [
    "!cat Test_InputM.py"
   ]
  },
  {
   "cell_type": "code",
   "execution_count": 17,
   "metadata": {},
   "outputs": [
    {
     "data": {
      "text/html": [
       "<div>\n",
       "<style scoped>\n",
       "    .dataframe tbody tr th:only-of-type {\n",
       "        vertical-align: middle;\n",
       "    }\n",
       "\n",
       "    .dataframe tbody tr th {\n",
       "        vertical-align: top;\n",
       "    }\n",
       "\n",
       "    .dataframe thead th {\n",
       "        text-align: right;\n",
       "    }\n",
       "</style>\n",
       "<table border=\"1\" class=\"dataframe\">\n",
       "  <thead>\n",
       "    <tr style=\"text-align: right;\">\n",
       "      <th></th>\n",
       "      <th>DesId</th>\n",
       "      <th>DesName</th>\n",
       "      <th>DesAuth</th>\n",
       "      <th>DesCreat</th>\n",
       "      <th>DesDate</th>\n",
       "      <th>DesNslit</th>\n",
       "      <th>DesNobj</th>\n",
       "      <th>ProjName</th>\n",
       "      <th>INSTRUME</th>\n",
       "      <th>MaskType</th>\n",
       "      <th>RA_PNT</th>\n",
       "      <th>DEC_PNT</th>\n",
       "      <th>RADEPNT</th>\n",
       "      <th>EQUINPNT</th>\n",
       "      <th>PA_PNT</th>\n",
       "      <th>DATE_PNT</th>\n",
       "      <th>LST_PNT</th>\n",
       "    </tr>\n",
       "  </thead>\n",
       "  <tbody>\n",
       "    <tr>\n",
       "      <th>0</th>\n",
       "      <td>1</td>\n",
       "      <td>...</td>\n",
       "      <td>sy &lt;syeh@keck.hawaii.edu&gt;                     ...</td>\n",
       "      <td>Dsimulator: Ver 0.0b                          ...</td>\n",
       "      <td>2021-03-23T00:50:32</td>\n",
       "      <td>415</td>\n",
       "      <td>419</td>\n",
       "      <td>test                                          ...</td>\n",
       "      <td>DEIMOS                                        ...</td>\n",
       "      <td>???                                           ...</td>\n",
       "      <td>247.376665</td>\n",
       "      <td>0.839619</td>\n",
       "      <td></td>\n",
       "      <td>2000.0</td>\n",
       "      <td>90.0</td>\n",
       "      <td>2021-03-25</td>\n",
       "      <td>0.015</td>\n",
       "    </tr>\n",
       "  </tbody>\n",
       "</table>\n",
       "</div>"
      ],
      "text/plain": [
       "   DesId                                            DesName  \\\n",
       "0      1                                                ...   \n",
       "\n",
       "                                             DesAuth  \\\n",
       "0  sy <syeh@keck.hawaii.edu>                     ...   \n",
       "\n",
       "                                            DesCreat              DesDate  \\\n",
       "0  Dsimulator: Ver 0.0b                          ...  2021-03-23T00:50:32   \n",
       "\n",
       "   DesNslit  DesNobj                                           ProjName  \\\n",
       "0       415      419  test                                          ...   \n",
       "\n",
       "                                            INSTRUME  \\\n",
       "0  DEIMOS                                        ...   \n",
       "\n",
       "                                            MaskType      RA_PNT   DEC_PNT  \\\n",
       "0  ???                                           ...  247.376665  0.839619   \n",
       "\n",
       "    RADEPNT  EQUINPNT  PA_PNT             DATE_PNT  LST_PNT  \n",
       "0              2000.0    90.0  2021-03-25             0.015  "
      ]
     },
     "execution_count": 17,
     "metadata": {},
     "output_type": "execute_result"
    },
    {
     "data": {
      "application/javascript": [
       "\n",
       "            setTimeout(function() {\n",
       "                var nbb_cell_id = 17;\n",
       "                var nbb_unformatted_code = \"mdf.maskdesign\";\n",
       "                var nbb_formatted_code = \"mdf.maskdesign\";\n",
       "                var nbb_cells = Jupyter.notebook.get_cells();\n",
       "                for (var i = 0; i < nbb_cells.length; ++i) {\n",
       "                    if (nbb_cells[i].input_prompt_number == nbb_cell_id) {\n",
       "                        if (nbb_cells[i].get_text() == nbb_unformatted_code) {\n",
       "                             nbb_cells[i].set_text(nbb_formatted_code);\n",
       "                        }\n",
       "                        break;\n",
       "                    }\n",
       "                }\n",
       "            }, 500);\n",
       "            "
      ],
      "text/plain": [
       "<IPython.core.display.Javascript object>"
      ]
     },
     "metadata": {},
     "output_type": "display_data"
    }
   ],
   "source": [
    "mdf.maskdesign"
   ]
  },
  {
   "cell_type": "code",
   "execution_count": null,
   "metadata": {},
   "outputs": [],
   "source": []
  }
 ],
 "metadata": {
  "kernelspec": {
   "display_name": "Python 3",
   "language": "python",
   "name": "python3"
  },
  "language_info": {
   "codemirror_mode": {
    "name": "ipython",
    "version": 3
   },
   "file_extension": ".py",
   "mimetype": "text/x-python",
   "name": "python",
   "nbconvert_exporter": "python",
   "pygments_lexer": "ipython3",
   "version": "3.8.8"
  }
 },
 "nbformat": 4,
 "nbformat_minor": 4
}
