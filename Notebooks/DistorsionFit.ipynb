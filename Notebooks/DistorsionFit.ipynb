{
 "cells": [
  {
   "cell_type": "markdown",
   "metadata": {},
   "source": [
    "# Calculate the distorsion polynomial coefficients\n",
    "\n",
    "Determines a common model for all test inputs\n",
    "Outputs the model coefficients"
   ]
  },
  {
   "cell_type": "code",
   "execution_count": 1,
   "metadata": {},
   "outputs": [],
   "source": [
    "%matplotlib notebook\n",
    "\n",
    "import sys\n",
    "import logging\n",
    "import numpy as np\n",
    "import math\n",
    "import matplotlib.pyplot as plt\n",
    "import pandas as pd\n",
    "\n",
    "sys.path.append(\"../DesignTool\")\n",
    "from smdtLibs.configFile import ConfigFile\n",
    "from targets import TargetList\n",
    "from smdtLibs.inOutChecker import InOutChecker\n",
    "from maskDesignFile import (\n",
    "    MaskDesignInputFitsFile,\n",
    "    MaskDesignOutputFitsFile,\n",
    "    outputAsList,\n",
    ")\n",
    "from maskLayouts import MaskLayouts, GuiderFOVs, shrinkMask\n",
    "from smdtLibs import utils, drawUtils\n",
    "from astropy.modeling import models, fitting\n",
    "\n",
    "from DistortionUtil import calcDistortionCoef\n",
    "\n",
    "#from Test_InputM import Test_Inputs\n",
    "from Test_Input1 import Test_Inputs"
   ]
  },
  {
   "cell_type": "code",
   "execution_count": 2,
   "metadata": {},
   "outputs": [
    {
     "data": {
      "application/javascript": [
       "\n",
       "            setTimeout(function() {\n",
       "                var nbb_cell_id = 2;\n",
       "                var nbb_unformatted_code = \"try:\\n    %load_ext nb_black\\nexcept:\\n    print(\\\"Ignore extension nb_black\\\")\\n    pass\";\n",
       "                var nbb_formatted_code = \"try:\\n    %load_ext nb_black\\nexcept:\\n    print(\\\"Ignore extension nb_black\\\")\\n    pass\";\n",
       "                var nbb_cells = Jupyter.notebook.get_cells();\n",
       "                for (var i = 0; i < nbb_cells.length; ++i) {\n",
       "                    if (nbb_cells[i].input_prompt_number == nbb_cell_id) {\n",
       "                        if (nbb_cells[i].get_text() == nbb_unformatted_code) {\n",
       "                             nbb_cells[i].set_text(nbb_formatted_code);\n",
       "                        }\n",
       "                        break;\n",
       "                    }\n",
       "                }\n",
       "            }, 500);\n",
       "            "
      ],
      "text/plain": [
       "<IPython.core.display.Javascript object>"
      ]
     },
     "metadata": {},
     "output_type": "display_data"
    }
   ],
   "source": [
    "try:\n",
    "    %load_ext nb_black\n",
    "except:\n",
    "    print(\"Ignore extension nb_black\")\n",
    "    pass"
   ]
  },
  {
   "cell_type": "code",
   "execution_count": 3,
   "metadata": {},
   "outputs": [
    {
     "data": {
      "application/javascript": [
       "\n",
       "            setTimeout(function() {\n",
       "                var nbb_cell_id = 3;\n",
       "                var nbb_unformatted_code = \"logging.disable()\";\n",
       "                var nbb_formatted_code = \"logging.disable()\";\n",
       "                var nbb_cells = Jupyter.notebook.get_cells();\n",
       "                for (var i = 0; i < nbb_cells.length; ++i) {\n",
       "                    if (nbb_cells[i].input_prompt_number == nbb_cell_id) {\n",
       "                        if (nbb_cells[i].get_text() == nbb_unformatted_code) {\n",
       "                             nbb_cells[i].set_text(nbb_formatted_code);\n",
       "                        }\n",
       "                        break;\n",
       "                    }\n",
       "                }\n",
       "            }, 500);\n",
       "            "
      ],
      "text/plain": [
       "<IPython.core.display.Javascript object>"
      ]
     },
     "metadata": {},
     "output_type": "display_data"
    }
   ],
   "source": [
    "logging.disable()"
   ]
  },
  {
   "cell_type": "markdown",
   "metadata": {},
   "source": [
    "## Read the config file and the parameter file"
   ]
  },
  {
   "cell_type": "code",
   "execution_count": 4,
   "metadata": {},
   "outputs": [
    {
     "data": {
      "application/javascript": [
       "\n",
       "            setTimeout(function() {\n",
       "                var nbb_cell_id = 4;\n",
       "                var nbb_unformatted_code = \"config_fname = \\\"../DesignTool/smdt.cfg\\\"\\nparam_fname = \\\"../DesignTool/params.cfg\\\"\\n\\nconfig = ConfigFile(config_fname)\\nconfig.properties[\\\"params\\\"] = ConfigFile(param_fname)\";\n",
       "                var nbb_formatted_code = \"config_fname = \\\"../DesignTool/smdt.cfg\\\"\\nparam_fname = \\\"../DesignTool/params.cfg\\\"\\n\\nconfig = ConfigFile(config_fname)\\nconfig.properties[\\\"params\\\"] = ConfigFile(param_fname)\";\n",
       "                var nbb_cells = Jupyter.notebook.get_cells();\n",
       "                for (var i = 0; i < nbb_cells.length; ++i) {\n",
       "                    if (nbb_cells[i].input_prompt_number == nbb_cell_id) {\n",
       "                        if (nbb_cells[i].get_text() == nbb_unformatted_code) {\n",
       "                             nbb_cells[i].set_text(nbb_formatted_code);\n",
       "                        }\n",
       "                        break;\n",
       "                    }\n",
       "                }\n",
       "            }, 500);\n",
       "            "
      ],
      "text/plain": [
       "<IPython.core.display.Javascript object>"
      ]
     },
     "metadata": {},
     "output_type": "display_data"
    }
   ],
   "source": [
    "config_fname = \"../DesignTool/smdt.cfg\"\n",
    "param_fname = \"../DesignTool/params.cfg\"\n",
    "\n",
    "config = ConfigFile(config_fname)\n",
    "config.properties[\"params\"] = ConfigFile(param_fname)"
   ]
  },
  {
   "cell_type": "code",
   "execution_count": null,
   "metadata": {},
   "outputs": [],
   "source": []
  },
  {
   "cell_type": "markdown",
   "metadata": {},
   "source": [
    "## The mask layout"
   ]
  },
  {
   "cell_type": "code",
   "execution_count": 5,
   "metadata": {},
   "outputs": [
    {
     "data": {
      "application/javascript": [
       "\n",
       "            setTimeout(function() {\n",
       "                var nbb_cell_id = 5;\n",
       "                var nbb_unformatted_code = \"layout = MaskLayouts[\\\"deimos\\\"]\\nguiderLayout = GuiderFOVs[\\\"deimos\\\"]\";\n",
       "                var nbb_formatted_code = \"layout = MaskLayouts[\\\"deimos\\\"]\\nguiderLayout = GuiderFOVs[\\\"deimos\\\"]\";\n",
       "                var nbb_cells = Jupyter.notebook.get_cells();\n",
       "                for (var i = 0; i < nbb_cells.length; ++i) {\n",
       "                    if (nbb_cells[i].input_prompt_number == nbb_cell_id) {\n",
       "                        if (nbb_cells[i].get_text() == nbb_unformatted_code) {\n",
       "                             nbb_cells[i].set_text(nbb_formatted_code);\n",
       "                        }\n",
       "                        break;\n",
       "                    }\n",
       "                }\n",
       "            }, 500);\n",
       "            "
      ],
      "text/plain": [
       "<IPython.core.display.Javascript object>"
      ]
     },
     "metadata": {},
     "output_type": "display_data"
    }
   ],
   "source": [
    "layout = MaskLayouts[\"deimos\"]\n",
    "guiderLayout = GuiderFOVs[\"deimos\"]"
   ]
  },
  {
   "cell_type": "raw",
   "metadata": {},
   "source": [
    "#\n",
    "# Test for one input file\n",
    "#\n",
    "mdf, cx, cy, tx, ty = project(Test_Inputs[\"n2419c\"], config, layout)\n",
    "xf, yf = fitModel(cx, cy, tx, ty)\n",
    "\n",
    "projX = xf(cx, cy)\n",
    "projY = yf(cx, cy)\n",
    "plt.figure(figsize=(12, 3))\n",
    "plt.scatter(tx, ty, fc=\"None\", ec=\"b\")\n",
    "# plt.scatter(cx, cy, fc=\"None\", ec=\"r\", marker='+')\n",
    "plt.scatter(projX, projY, fc=\"None\", ec=\"g\", marker=\"+\")\n",
    "\n",
    "\n",
    "xf, yf = fitModel(cx, cy, tx, ty)\n",
    "with np.printoptions(precision=6, suppress=True):\n",
    "    print(xf.parameters)\n",
    "    print(yf.parameters)"
   ]
  },
  {
   "cell_type": "code",
   "execution_count": null,
   "metadata": {},
   "outputs": [],
   "source": []
  },
  {
   "cell_type": "code",
   "execution_count": 6,
   "metadata": {},
   "outputs": [
    {
     "data": {
      "application/javascript": [
       "\n",
       "            setTimeout(function() {\n",
       "                var nbb_cell_id = 6;\n",
       "                var nbb_unformatted_code = \"def coeffNames(prefix, n):\\n    \\\"\\\"\\\"\\n    Generates coefficient names\\n    \\\"\\\"\\\"\\n    out = [prefix + \\\"00\\\"]\\n    out.extend([f\\\"{prefix}x{i}y0\\\" for i in range(1, n + 1)])\\n    out.extend([f\\\"{prefix}x0y{i}\\\" for i in range(1, n + 1)])\\n    for y in range(1, n):\\n        for x in range(1, n - y + 1):\\n            out.append(f\\\"{prefix}x{x}y{y}\\\")\\n    return out\";\n",
       "                var nbb_formatted_code = \"def coeffNames(prefix, n):\\n    \\\"\\\"\\\"\\n    Generates coefficient names\\n    \\\"\\\"\\\"\\n    out = [prefix + \\\"00\\\"]\\n    out.extend([f\\\"{prefix}x{i}y0\\\" for i in range(1, n + 1)])\\n    out.extend([f\\\"{prefix}x0y{i}\\\" for i in range(1, n + 1)])\\n    for y in range(1, n):\\n        for x in range(1, n - y + 1):\\n            out.append(f\\\"{prefix}x{x}y{y}\\\")\\n    return out\";\n",
       "                var nbb_cells = Jupyter.notebook.get_cells();\n",
       "                for (var i = 0; i < nbb_cells.length; ++i) {\n",
       "                    if (nbb_cells[i].input_prompt_number == nbb_cell_id) {\n",
       "                        if (nbb_cells[i].get_text() == nbb_unformatted_code) {\n",
       "                             nbb_cells[i].set_text(nbb_formatted_code);\n",
       "                        }\n",
       "                        break;\n",
       "                    }\n",
       "                }\n",
       "            }, 500);\n",
       "            "
      ],
      "text/plain": [
       "<IPython.core.display.Javascript object>"
      ]
     },
     "metadata": {},
     "output_type": "display_data"
    }
   ],
   "source": [
    "def coeffNames(prefix, n):\n",
    "    \"\"\"\n",
    "    Generates coefficient names\n",
    "    \"\"\"\n",
    "    out = [prefix + \"00\"]\n",
    "    out.extend([f\"{prefix}x{i}y0\" for i in range(1, n + 1)])\n",
    "    out.extend([f\"{prefix}x0y{i}\" for i in range(1, n + 1)])\n",
    "    for y in range(1, n):\n",
    "        for x in range(1, n - y + 1):\n",
    "            out.append(f\"{prefix}x{x}y{y}\")\n",
    "    return out"
   ]
  },
  {
   "cell_type": "code",
   "execution_count": 19,
   "metadata": {},
   "outputs": [
    {
     "data": {
      "application/javascript": [
       "\n",
       "            setTimeout(function() {\n",
       "                var nbb_cell_id = 19;\n",
       "                var nbb_unformatted_code = \"# Determines distortion coefficients for enabled input files.\\ncoeffs = []\\n\\nfor k, item in Test_Inputs.items():\\n    (input_fname, input_RA, input_DEC, fieldPA, hourAngle, enabled) = item\\n    if not enabled:\\n        continue\\n    mdf, (xfit, yfit) = calcDistortionCoef(item, config, layout, -1, 178.5)\\n\\n    a = [\\n        k,\\n        mdf.maskblu.RefWave[0],\\n        hourAngle,\\n        fieldPA,\\n    ]  # Reference wavelenght\\n    # XFit parameters (15)\\n    a.extend(list(xfit.parameters))\\n    # YFit parameters (15)\\n    a.extend(yfit.parameters)\\n    coeffs.append(a)\\n    # print(\\\", \\\".join([f\\\"{x}\\\" for x in a]))\";\n",
       "                var nbb_formatted_code = \"# Determines distortion coefficients for enabled input files.\\ncoeffs = []\\n\\nfor k, item in Test_Inputs.items():\\n    (input_fname, input_RA, input_DEC, fieldPA, hourAngle, enabled) = item\\n    if not enabled:\\n        continue\\n    mdf, (xfit, yfit) = calcDistortionCoef(item, config, layout, -1, 178.5)\\n\\n    a = [\\n        k,\\n        mdf.maskblu.RefWave[0],\\n        hourAngle,\\n        fieldPA,\\n    ]  # Reference wavelenght\\n    # XFit parameters (15)\\n    a.extend(list(xfit.parameters))\\n    # YFit parameters (15)\\n    a.extend(yfit.parameters)\\n    coeffs.append(a)\\n    # print(\\\", \\\".join([f\\\"{x}\\\" for x in a]))\";\n",
       "                var nbb_cells = Jupyter.notebook.get_cells();\n",
       "                for (var i = 0; i < nbb_cells.length; ++i) {\n",
       "                    if (nbb_cells[i].input_prompt_number == nbb_cell_id) {\n",
       "                        if (nbb_cells[i].get_text() == nbb_unformatted_code) {\n",
       "                             nbb_cells[i].set_text(nbb_formatted_code);\n",
       "                        }\n",
       "                        break;\n",
       "                    }\n",
       "                }\n",
       "            }, 500);\n",
       "            "
      ],
      "text/plain": [
       "<IPython.core.display.Javascript object>"
      ]
     },
     "metadata": {},
     "output_type": "display_data"
    }
   ],
   "source": [
    "# Determines distortion coefficients for enabled input files.\n",
    "coeffs = []\n",
    "\n",
    "for k, item in Test_Inputs.items():\n",
    "    (input_fname, input_RA, input_DEC, fieldPA, hourAngle, enabled) = item\n",
    "    if not enabled:\n",
    "        continue\n",
    "    mdf, (xfit, yfit) = calcDistortionCoef(item, config, layout, -1, 178.5)\n",
    "\n",
    "    a = [\n",
    "        k,\n",
    "        mdf.maskblu.RefWave[0],\n",
    "        hourAngle,\n",
    "        fieldPA,\n",
    "    ]  # Reference wavelenght\n",
    "    # XFit parameters (15)\n",
    "    a.extend(list(xfit.parameters))\n",
    "    # YFit parameters (15)\n",
    "    a.extend(yfit.parameters)\n",
    "    coeffs.append(a)\n",
    "    # print(\", \".join([f\"{x}\" for x in a]))"
   ]
  },
  {
   "cell_type": "code",
   "execution_count": 20,
   "metadata": {},
   "outputs": [
    {
     "data": {
      "text/html": [
       "<div>\n",
       "<style scoped>\n",
       "    .dataframe tbody tr th:only-of-type {\n",
       "        vertical-align: middle;\n",
       "    }\n",
       "\n",
       "    .dataframe tbody tr th {\n",
       "        vertical-align: top;\n",
       "    }\n",
       "\n",
       "    .dataframe thead th {\n",
       "        text-align: right;\n",
       "    }\n",
       "</style>\n",
       "<table border=\"1\" class=\"dataframe\">\n",
       "  <thead>\n",
       "    <tr style=\"text-align: right;\">\n",
       "      <th></th>\n",
       "      <th>Name</th>\n",
       "      <th>RefWave</th>\n",
       "      <th>HA</th>\n",
       "      <th>PA</th>\n",
       "      <th>X_00</th>\n",
       "      <th>Y_00</th>\n",
       "    </tr>\n",
       "  </thead>\n",
       "  <tbody>\n",
       "    <tr>\n",
       "      <th>0</th>\n",
       "      <td>dec0Pa0</td>\n",
       "      <td>320.0</td>\n",
       "      <td>0.015</td>\n",
       "      <td>0.0</td>\n",
       "      <td>350.164617</td>\n",
       "      <td>460.175915</td>\n",
       "    </tr>\n",
       "    <tr>\n",
       "      <th>1</th>\n",
       "      <td>dec0Pa105</td>\n",
       "      <td>320.0</td>\n",
       "      <td>0.015</td>\n",
       "      <td>105.0</td>\n",
       "      <td>291.098630</td>\n",
       "      <td>98.066426</td>\n",
       "    </tr>\n",
       "    <tr>\n",
       "      <th>2</th>\n",
       "      <td>dec0Pa120</td>\n",
       "      <td>320.0</td>\n",
       "      <td>0.015</td>\n",
       "      <td>120.0</td>\n",
       "      <td>-0.959443</td>\n",
       "      <td>-0.025448</td>\n",
       "    </tr>\n",
       "    <tr>\n",
       "      <th>3</th>\n",
       "      <td>dec0Pa135</td>\n",
       "      <td>320.0</td>\n",
       "      <td>0.015</td>\n",
       "      <td>135.0</td>\n",
       "      <td>-1.032966</td>\n",
       "      <td>-0.066617</td>\n",
       "    </tr>\n",
       "    <tr>\n",
       "      <th>4</th>\n",
       "      <td>dec0Pa150</td>\n",
       "      <td>320.0</td>\n",
       "      <td>0.015</td>\n",
       "      <td>150.0</td>\n",
       "      <td>-1.007216</td>\n",
       "      <td>-0.028267</td>\n",
       "    </tr>\n",
       "    <tr>\n",
       "      <th>5</th>\n",
       "      <td>dec0Pa15</td>\n",
       "      <td>320.0</td>\n",
       "      <td>0.015</td>\n",
       "      <td>15.0</td>\n",
       "      <td>201.975037</td>\n",
       "      <td>298.279707</td>\n",
       "    </tr>\n",
       "    <tr>\n",
       "      <th>6</th>\n",
       "      <td>dec0Pa165</td>\n",
       "      <td>320.0</td>\n",
       "      <td>0.015</td>\n",
       "      <td>165.0</td>\n",
       "      <td>-1.008034</td>\n",
       "      <td>0.039748</td>\n",
       "    </tr>\n",
       "    <tr>\n",
       "      <th>7</th>\n",
       "      <td>dec0Pa180</td>\n",
       "      <td>320.0</td>\n",
       "      <td>0.015</td>\n",
       "      <td>180.0</td>\n",
       "      <td>-1.002314</td>\n",
       "      <td>-0.041171</td>\n",
       "    </tr>\n",
       "    <tr>\n",
       "      <th>8</th>\n",
       "      <td>dec0Pa30</td>\n",
       "      <td>320.0</td>\n",
       "      <td>0.015</td>\n",
       "      <td>30.0</td>\n",
       "      <td>120.685341</td>\n",
       "      <td>165.262481</td>\n",
       "    </tr>\n",
       "    <tr>\n",
       "      <th>9</th>\n",
       "      <td>dec0Pa45</td>\n",
       "      <td>320.0</td>\n",
       "      <td>0.015</td>\n",
       "      <td>45.0</td>\n",
       "      <td>163.038342</td>\n",
       "      <td>149.071784</td>\n",
       "    </tr>\n",
       "    <tr>\n",
       "      <th>10</th>\n",
       "      <td>dec0Pa60</td>\n",
       "      <td>320.0</td>\n",
       "      <td>0.015</td>\n",
       "      <td>60.0</td>\n",
       "      <td>137.981892</td>\n",
       "      <td>161.101630</td>\n",
       "    </tr>\n",
       "    <tr>\n",
       "      <th>11</th>\n",
       "      <td>dec0Pa75</td>\n",
       "      <td>320.0</td>\n",
       "      <td>0.015</td>\n",
       "      <td>75.0</td>\n",
       "      <td>90.271053</td>\n",
       "      <td>119.502319</td>\n",
       "    </tr>\n",
       "    <tr>\n",
       "      <th>12</th>\n",
       "      <td>dec0Pa90</td>\n",
       "      <td>320.0</td>\n",
       "      <td>0.015</td>\n",
       "      <td>90.0</td>\n",
       "      <td>127.818787</td>\n",
       "      <td>133.754103</td>\n",
       "    </tr>\n",
       "  </tbody>\n",
       "</table>\n",
       "</div>"
      ],
      "text/plain": [
       "         Name  RefWave     HA     PA        X_00        Y_00\n",
       "0     dec0Pa0    320.0  0.015    0.0  350.164617  460.175915\n",
       "1   dec0Pa105    320.0  0.015  105.0  291.098630   98.066426\n",
       "2   dec0Pa120    320.0  0.015  120.0   -0.959443   -0.025448\n",
       "3   dec0Pa135    320.0  0.015  135.0   -1.032966   -0.066617\n",
       "4   dec0Pa150    320.0  0.015  150.0   -1.007216   -0.028267\n",
       "5    dec0Pa15    320.0  0.015   15.0  201.975037  298.279707\n",
       "6   dec0Pa165    320.0  0.015  165.0   -1.008034    0.039748\n",
       "7   dec0Pa180    320.0  0.015  180.0   -1.002314   -0.041171\n",
       "8    dec0Pa30    320.0  0.015   30.0  120.685341  165.262481\n",
       "9    dec0Pa45    320.0  0.015   45.0  163.038342  149.071784\n",
       "10   dec0Pa60    320.0  0.015   60.0  137.981892  161.101630\n",
       "11   dec0Pa75    320.0  0.015   75.0   90.271053  119.502319\n",
       "12   dec0Pa90    320.0  0.015   90.0  127.818787  133.754103"
      ]
     },
     "execution_count": 20,
     "metadata": {},
     "output_type": "execute_result"
    },
    {
     "data": {
      "application/javascript": [
       "\n",
       "            setTimeout(function() {\n",
       "                var nbb_cell_id = 20;\n",
       "                var nbb_unformatted_code = \"#\\n# Outputs results\\n#\\ncolNames = [\\\"Name\\\", \\\"RefWave\\\", \\\"HA\\\", \\\"PA\\\"]\\ncolNames.extend(coeffNames(\\\"X_\\\", 4))\\ncolNames.extend(coeffNames(\\\"Y_\\\", 4))\\n\\ncoeffsDf = pd.DataFrame(coeffs, columns=colNames)\\ncoeffsDf[[\\\"Name\\\", \\\"RefWave\\\", \\\"HA\\\", \\\"PA\\\", \\\"X_00\\\", \\\"Y_00\\\"]]\";\n",
       "                var nbb_formatted_code = \"#\\n# Outputs results\\n#\\ncolNames = [\\\"Name\\\", \\\"RefWave\\\", \\\"HA\\\", \\\"PA\\\"]\\ncolNames.extend(coeffNames(\\\"X_\\\", 4))\\ncolNames.extend(coeffNames(\\\"Y_\\\", 4))\\n\\ncoeffsDf = pd.DataFrame(coeffs, columns=colNames)\\ncoeffsDf[[\\\"Name\\\", \\\"RefWave\\\", \\\"HA\\\", \\\"PA\\\", \\\"X_00\\\", \\\"Y_00\\\"]]\";\n",
       "                var nbb_cells = Jupyter.notebook.get_cells();\n",
       "                for (var i = 0; i < nbb_cells.length; ++i) {\n",
       "                    if (nbb_cells[i].input_prompt_number == nbb_cell_id) {\n",
       "                        if (nbb_cells[i].get_text() == nbb_unformatted_code) {\n",
       "                             nbb_cells[i].set_text(nbb_formatted_code);\n",
       "                        }\n",
       "                        break;\n",
       "                    }\n",
       "                }\n",
       "            }, 500);\n",
       "            "
      ],
      "text/plain": [
       "<IPython.core.display.Javascript object>"
      ]
     },
     "metadata": {},
     "output_type": "display_data"
    }
   ],
   "source": [
    "#\n",
    "# Outputs results\n",
    "#\n",
    "colNames = [\"Name\", \"RefWave\", \"HA\", \"PA\"]\n",
    "colNames.extend(coeffNames(\"X_\", 4))\n",
    "colNames.extend(coeffNames(\"Y_\", 4))\n",
    "\n",
    "coeffsDf = pd.DataFrame(coeffs, columns=colNames)\n",
    "coeffsDf[[\"Name\", \"RefWave\", \"HA\", \"PA\", \"X_00\", \"Y_00\"]]"
   ]
  },
  {
   "cell_type": "code",
   "execution_count": 9,
   "metadata": {
    "scrolled": false
   },
   "outputs": [
    {
     "name": "stdout",
     "output_type": "stream",
     "text": [
      "distortionXCoeffs = \" 0.015000000000000005, 90.0, 113.69413285020211, 0.7789555154902353, 1.1497251565109003e-05, 3.936977228180445e-09, -1.827561099358528e-11, -1.3113472166384843, 0.005368285028252672, -9.349550586087523e-06, 5.8438248732431355e-09, 0.0021872830654965096, -6.797470952423714e-06, 6.791012723637494e-09, -4.4703874004820445e-08 \"\n",
      "distortionYCoeffs = \" 7.431722094700687e-11, 1.688226614852921e-11, 121.93020079735531, -0.12471085585563742, 3.9047174293852694e-05, 4.351661312369696e-09, -1.8207774694731938e-11, -0.3747035085257905, 0.005613722160842638, -9.64640900420385e-06, 5.901667936596928e-09, 0.0011840339706207439, -3.615280448936978e-06, 3.5740167068527536e-09, -1.2072464370064275e-07, 1.9346286756488762e-10, -2.841291949121306e-11 \"\n"
     ]
    },
    {
     "data": {
      "application/javascript": [
       "\n",
       "            setTimeout(function() {\n",
       "                var nbb_cell_id = 9;\n",
       "                var nbb_unformatted_code = \"#\\n# Averages the coefficients\\n#\\nstartidx = 2\\nxs = [f\\\"{coeffsDf[cn].mean()}\\\" for cn in colNames[startidx : startidx + 15]]\\nys = [f\\\"{coeffsDf[cn].mean()}\\\" for cn in colNames[startidx + 15 :]]\\n\\nprint('distortionXCoeffs = \\\"', \\\", \\\".join(xs), '\\\"')\\nprint('distortionYCoeffs = \\\"', \\\", \\\".join(ys), '\\\"')\\n#\\n# The output should be copied to smdt.cfg\\n#\";\n",
       "                var nbb_formatted_code = \"#\\n# Averages the coefficients\\n#\\nstartidx = 2\\nxs = [f\\\"{coeffsDf[cn].mean()}\\\" for cn in colNames[startidx : startidx + 15]]\\nys = [f\\\"{coeffsDf[cn].mean()}\\\" for cn in colNames[startidx + 15 :]]\\n\\nprint('distortionXCoeffs = \\\"', \\\", \\\".join(xs), '\\\"')\\nprint('distortionYCoeffs = \\\"', \\\", \\\".join(ys), '\\\"')\\n#\\n# The output should be copied to smdt.cfg\\n#\";\n",
       "                var nbb_cells = Jupyter.notebook.get_cells();\n",
       "                for (var i = 0; i < nbb_cells.length; ++i) {\n",
       "                    if (nbb_cells[i].input_prompt_number == nbb_cell_id) {\n",
       "                        if (nbb_cells[i].get_text() == nbb_unformatted_code) {\n",
       "                             nbb_cells[i].set_text(nbb_formatted_code);\n",
       "                        }\n",
       "                        break;\n",
       "                    }\n",
       "                }\n",
       "            }, 500);\n",
       "            "
      ],
      "text/plain": [
       "<IPython.core.display.Javascript object>"
      ]
     },
     "metadata": {},
     "output_type": "display_data"
    }
   ],
   "source": [
    "#\n",
    "# Averages the coefficients\n",
    "#\n",
    "startidx = 2\n",
    "xs = [f\"{coeffsDf[cn].mean()}\" for cn in colNames[startidx : startidx + 15]]\n",
    "ys = [f\"{coeffsDf[cn].mean()}\" for cn in colNames[startidx + 15 :]]\n",
    "\n",
    "print('distortionXCoeffs = \"', \", \".join(xs), '\"')\n",
    "print('distortionYCoeffs = \"', \", \".join(ys), '\"')\n",
    "#\n",
    "# The output should be copied to smdt.cfg\n",
    "#"
   ]
  },
  {
   "cell_type": "code",
   "execution_count": 10,
   "metadata": {},
   "outputs": [
    {
     "data": {
      "application/javascript": [
       "\n",
       "            setTimeout(function() {\n",
       "                var nbb_cell_id = 10;\n",
       "                var nbb_unformatted_code = \"mdf = MaskDesignInputFitsFile(\\n    \\\"../DeimosExamples/Examples1/dec0Pa105.fits\\\"\\n)\";\n",
       "                var nbb_formatted_code = \"mdf = MaskDesignInputFitsFile(\\\"../DeimosExamples/Examples1/dec0Pa105.fits\\\")\";\n",
       "                var nbb_cells = Jupyter.notebook.get_cells();\n",
       "                for (var i = 0; i < nbb_cells.length; ++i) {\n",
       "                    if (nbb_cells[i].input_prompt_number == nbb_cell_id) {\n",
       "                        if (nbb_cells[i].get_text() == nbb_unformatted_code) {\n",
       "                             nbb_cells[i].set_text(nbb_formatted_code);\n",
       "                        }\n",
       "                        break;\n",
       "                    }\n",
       "                }\n",
       "            }, 500);\n",
       "            "
      ],
      "text/plain": [
       "<IPython.core.display.Javascript object>"
      ]
     },
     "metadata": {},
     "output_type": "display_data"
    }
   ],
   "source": [
    "mdf = MaskDesignInputFitsFile(\"../DeimosExamples/Examples1/dec0Pa105.fits\")"
   ]
  },
  {
   "cell_type": "code",
   "execution_count": 11,
   "metadata": {},
   "outputs": [
    {
     "data": {
      "text/html": [
       "<div>\n",
       "<style scoped>\n",
       "    .dataframe tbody tr th:only-of-type {\n",
       "        vertical-align: middle;\n",
       "    }\n",
       "\n",
       "    .dataframe tbody tr th {\n",
       "        vertical-align: top;\n",
       "    }\n",
       "\n",
       "    .dataframe thead th {\n",
       "        text-align: right;\n",
       "    }\n",
       "</style>\n",
       "<table border=\"1\" class=\"dataframe\">\n",
       "  <thead>\n",
       "    <tr style=\"text-align: right;\">\n",
       "      <th></th>\n",
       "      <th>DesId</th>\n",
       "      <th>DesName</th>\n",
       "      <th>DesAuth</th>\n",
       "      <th>DesCreat</th>\n",
       "      <th>DesDate</th>\n",
       "      <th>DesNslit</th>\n",
       "      <th>DesNobj</th>\n",
       "      <th>ProjName</th>\n",
       "      <th>INSTRUME</th>\n",
       "      <th>MaskType</th>\n",
       "      <th>RA_PNT</th>\n",
       "      <th>DEC_PNT</th>\n",
       "      <th>RADEPNT</th>\n",
       "      <th>EQUINPNT</th>\n",
       "      <th>PA_PNT</th>\n",
       "      <th>DATE_PNT</th>\n",
       "      <th>LST_PNT</th>\n",
       "    </tr>\n",
       "  </thead>\n",
       "  <tbody>\n",
       "    <tr>\n",
       "      <th>0</th>\n",
       "      <td>1</td>\n",
       "      <td>...</td>\n",
       "      <td>sy &lt;syeh@keck.hawaii.edu&gt;                     ...</td>\n",
       "      <td>Dsimulator: Ver 0.0b                          ...</td>\n",
       "      <td>2021-03-23T00:53:59</td>\n",
       "      <td>451</td>\n",
       "      <td>455</td>\n",
       "      <td>test                                          ...</td>\n",
       "      <td>DEIMOS                                        ...</td>\n",
       "      <td>???                                           ...</td>\n",
       "      <td>247.358387</td>\n",
       "      <td>0.850802</td>\n",
       "      <td></td>\n",
       "      <td>2000.0</td>\n",
       "      <td>105.0</td>\n",
       "      <td>2021-03-25</td>\n",
       "      <td>0.015</td>\n",
       "    </tr>\n",
       "  </tbody>\n",
       "</table>\n",
       "</div>"
      ],
      "text/plain": [
       "   DesId                                            DesName  \\\n",
       "0      1                                                ...   \n",
       "\n",
       "                                             DesAuth  \\\n",
       "0  sy <syeh@keck.hawaii.edu>                     ...   \n",
       "\n",
       "                                            DesCreat              DesDate  \\\n",
       "0  Dsimulator: Ver 0.0b                          ...  2021-03-23T00:53:59   \n",
       "\n",
       "   DesNslit  DesNobj                                           ProjName  \\\n",
       "0       451      455  test                                          ...   \n",
       "\n",
       "                                            INSTRUME  \\\n",
       "0  DEIMOS                                        ...   \n",
       "\n",
       "                                            MaskType      RA_PNT   DEC_PNT  \\\n",
       "0  ???                                           ...  247.358387  0.850802   \n",
       "\n",
       "    RADEPNT  EQUINPNT  PA_PNT             DATE_PNT  LST_PNT  \n",
       "0              2000.0   105.0  2021-03-25             0.015  "
      ]
     },
     "execution_count": 11,
     "metadata": {},
     "output_type": "execute_result"
    },
    {
     "data": {
      "application/javascript": [
       "\n",
       "            setTimeout(function() {\n",
       "                var nbb_cell_id = 11;\n",
       "                var nbb_unformatted_code = \"mdf.maskdesign\";\n",
       "                var nbb_formatted_code = \"mdf.maskdesign\";\n",
       "                var nbb_cells = Jupyter.notebook.get_cells();\n",
       "                for (var i = 0; i < nbb_cells.length; ++i) {\n",
       "                    if (nbb_cells[i].input_prompt_number == nbb_cell_id) {\n",
       "                        if (nbb_cells[i].get_text() == nbb_unformatted_code) {\n",
       "                             nbb_cells[i].set_text(nbb_formatted_code);\n",
       "                        }\n",
       "                        break;\n",
       "                    }\n",
       "                }\n",
       "            }, 500);\n",
       "            "
      ],
      "text/plain": [
       "<IPython.core.display.Javascript object>"
      ]
     },
     "metadata": {},
     "output_type": "display_data"
    }
   ],
   "source": [
    "mdf.maskdesign"
   ]
  },
  {
   "cell_type": "code",
   "execution_count": 15,
   "metadata": {},
   "outputs": [
    {
     "data": {
      "text/html": [
       "<div>\n",
       "<style scoped>\n",
       "    .dataframe tbody tr th:only-of-type {\n",
       "        vertical-align: middle;\n",
       "    }\n",
       "\n",
       "    .dataframe tbody tr th {\n",
       "        vertical-align: top;\n",
       "    }\n",
       "\n",
       "    .dataframe thead th {\n",
       "        text-align: right;\n",
       "    }\n",
       "</style>\n",
       "<table border=\"1\" class=\"dataframe\">\n",
       "  <thead>\n",
       "    <tr style=\"text-align: right;\">\n",
       "      <th></th>\n",
       "      <th>BluId</th>\n",
       "      <th>DesId</th>\n",
       "      <th>BluName</th>\n",
       "      <th>guiname</th>\n",
       "      <th>BluObsvr</th>\n",
       "      <th>BluCreat</th>\n",
       "      <th>BluDate</th>\n",
       "      <th>LST_Use</th>\n",
       "      <th>Date_Use</th>\n",
       "      <th>TELESCOP</th>\n",
       "      <th>RefrAlg</th>\n",
       "      <th>AtmTempC</th>\n",
       "      <th>AtmPres</th>\n",
       "      <th>AtmHumid</th>\n",
       "      <th>AtmTTLap</th>\n",
       "      <th>RefWave</th>\n",
       "      <th>DistMeth</th>\n",
       "    </tr>\n",
       "  </thead>\n",
       "  <tbody>\n",
       "    <tr>\n",
       "      <th>0</th>\n",
       "      <td>1</td>\n",
       "      <td>1</td>\n",
       "      <td>...</td>\n",
       "      <td>test</td>\n",
       "      <td>sy &lt;syeh@keck.hawaii.edu&gt;                     ...</td>\n",
       "      <td>DSIMULATOR -- 02Jul25                         ...</td>\n",
       "      <td>2021-03-23T00:53:59</td>\n",
       "      <td>16.493</td>\n",
       "      <td>2021-03-25</td>\n",
       "      <td>Keck II                                       ...</td>\n",
       "      <td>SLALIB                                        ...</td>\n",
       "      <td>0.0</td>\n",
       "      <td>615.0</td>\n",
       "      <td>0.4</td>\n",
       "      <td>0.0065</td>\n",
       "      <td>320.0</td>\n",
       "      <td>INDEF                                         ...</td>\n",
       "    </tr>\n",
       "  </tbody>\n",
       "</table>\n",
       "</div>"
      ],
      "text/plain": [
       "   BluId  DesId                                            BluName   guiname  \\\n",
       "0      1      1                                                ...  test       \n",
       "\n",
       "                                            BluObsvr  \\\n",
       "0  sy <syeh@keck.hawaii.edu>                     ...   \n",
       "\n",
       "                                            BluCreat              BluDate  \\\n",
       "0  DSIMULATOR -- 02Jul25                         ...  2021-03-23T00:53:59   \n",
       "\n",
       "   LST_Use             Date_Use  \\\n",
       "0   16.493  2021-03-25            \n",
       "\n",
       "                                            TELESCOP  \\\n",
       "0  Keck II                                       ...   \n",
       "\n",
       "                                             RefrAlg  AtmTempC  AtmPres  \\\n",
       "0  SLALIB                                        ...       0.0    615.0   \n",
       "\n",
       "   AtmHumid  AtmTTLap  RefWave  \\\n",
       "0       0.4    0.0065    320.0   \n",
       "\n",
       "                                            DistMeth  \n",
       "0  INDEF                                         ...  "
      ]
     },
     "execution_count": 15,
     "metadata": {},
     "output_type": "execute_result"
    },
    {
     "data": {
      "application/javascript": [
       "\n",
       "            setTimeout(function() {\n",
       "                var nbb_cell_id = 15;\n",
       "                var nbb_unformatted_code = \"mdf.maskblu\";\n",
       "                var nbb_formatted_code = \"mdf.maskblu\";\n",
       "                var nbb_cells = Jupyter.notebook.get_cells();\n",
       "                for (var i = 0; i < nbb_cells.length; ++i) {\n",
       "                    if (nbb_cells[i].input_prompt_number == nbb_cell_id) {\n",
       "                        if (nbb_cells[i].get_text() == nbb_unformatted_code) {\n",
       "                             nbb_cells[i].set_text(nbb_formatted_code);\n",
       "                        }\n",
       "                        break;\n",
       "                    }\n",
       "                }\n",
       "            }, 500);\n",
       "            "
      ],
      "text/plain": [
       "<IPython.core.display.Javascript object>"
      ]
     },
     "metadata": {},
     "output_type": "display_data"
    }
   ],
   "source": [
    "mdf.maskblu"
   ]
  },
  {
   "cell_type": "code",
   "execution_count": 13,
   "metadata": {},
   "outputs": [
    {
     "data": {
      "text/plain": [
       "1.0995333333333333"
      ]
     },
     "execution_count": 13,
     "metadata": {},
     "output_type": "execute_result"
    },
    {
     "data": {
      "application/javascript": [
       "\n",
       "            setTimeout(function() {\n",
       "                var nbb_cell_id = 13;\n",
       "                var nbb_unformatted_code = \"16.493 / 15\";\n",
       "                var nbb_formatted_code = \"16.493 / 15\";\n",
       "                var nbb_cells = Jupyter.notebook.get_cells();\n",
       "                for (var i = 0; i < nbb_cells.length; ++i) {\n",
       "                    if (nbb_cells[i].input_prompt_number == nbb_cell_id) {\n",
       "                        if (nbb_cells[i].get_text() == nbb_unformatted_code) {\n",
       "                             nbb_cells[i].set_text(nbb_formatted_code);\n",
       "                        }\n",
       "                        break;\n",
       "                    }\n",
       "                }\n",
       "            }, 500);\n",
       "            "
      ],
      "text/plain": [
       "<IPython.core.display.Javascript object>"
      ]
     },
     "metadata": {},
     "output_type": "display_data"
    }
   ],
   "source": [
    "16.493 / 15"
   ]
  },
  {
   "cell_type": "code",
   "execution_count": null,
   "metadata": {},
   "outputs": [],
   "source": []
  }
 ],
 "metadata": {
  "kernelspec": {
   "display_name": "Python 3",
   "language": "python",
   "name": "python3"
  },
  "language_info": {
   "codemirror_mode": {
    "name": "ipython",
    "version": 3
   },
   "file_extension": ".py",
   "mimetype": "text/x-python",
   "name": "python",
   "nbconvert_exporter": "python",
   "pygments_lexer": "ipython3",
   "version": "3.8.8"
  }
 },
 "nbformat": 4,
 "nbformat_minor": 4
}
