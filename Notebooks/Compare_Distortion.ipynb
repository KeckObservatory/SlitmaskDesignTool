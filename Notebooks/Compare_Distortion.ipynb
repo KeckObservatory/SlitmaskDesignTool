{
 "cells": [
  {
   "cell_type": "code",
   "execution_count": 1,
   "id": "intense-trauma",
   "metadata": {},
   "outputs": [],
   "source": [
    "# Compare two distortion parameter sets"
   ]
  },
  {
   "cell_type": "code",
   "execution_count": 2,
   "id": "solar-mailing",
   "metadata": {},
   "outputs": [],
   "source": [
    "%matplotlib notebook\n",
    "\n",
    "import sys\n",
    "import logging\n",
    "import numpy as np\n",
    "import math\n",
    "import matplotlib.pyplot as plt\n",
    "import pandas as pd"
   ]
  },
  {
   "cell_type": "code",
   "execution_count": 3,
   "id": "detailed-cleaner",
   "metadata": {},
   "outputs": [
    {
     "data": {
      "application/javascript": [
       "\n",
       "            setTimeout(function() {\n",
       "                var nbb_cell_id = 3;\n",
       "                var nbb_unformatted_code = \"try:\\n    %load_ext nb_black\\nexcept:\\n    print(\\\"Ignore extension nb_black\\\")\\n    pass\";\n",
       "                var nbb_formatted_code = \"try:\\n    %load_ext nb_black\\nexcept:\\n    print(\\\"Ignore extension nb_black\\\")\\n    pass\";\n",
       "                var nbb_cells = Jupyter.notebook.get_cells();\n",
       "                for (var i = 0; i < nbb_cells.length; ++i) {\n",
       "                    if (nbb_cells[i].input_prompt_number == nbb_cell_id) {\n",
       "                        if (nbb_cells[i].get_text() == nbb_unformatted_code) {\n",
       "                             nbb_cells[i].set_text(nbb_formatted_code);\n",
       "                        }\n",
       "                        break;\n",
       "                    }\n",
       "                }\n",
       "            }, 500);\n",
       "            "
      ],
      "text/plain": [
       "<IPython.core.display.Javascript object>"
      ]
     },
     "metadata": {},
     "output_type": "display_data"
    }
   ],
   "source": [
    "try:\n",
    "    %load_ext nb_black\n",
    "except:\n",
    "    print(\"Ignore extension nb_black\")\n",
    "    pass"
   ]
  },
  {
   "cell_type": "code",
   "execution_count": 11,
   "id": "optional-implementation",
   "metadata": {},
   "outputs": [
    {
     "data": {
      "application/javascript": [
       "\n",
       "            setTimeout(function() {\n",
       "                var nbb_cell_id = 11;\n",
       "                var nbb_unformatted_code = \"defaultParams = {\\n\\\"distortionXCoeffs\\\" : (0.0, 1.0010824303722163, 1.3242766229529234e-06, 1.3792445834604317e-08, -2.463532596464153e-12, -0.016518403684644398, 6.519759791585958e-05, -1.0195242467142744e-07, 4.9693997060771776e-11, 3.373971375544053e-05, -1.2037073302898756e-07, 1.291317367024631e-10, -1.8721477161867468e-09, -2.779997846608835e-12, 2.0268808222095284e-12),\\n\\\"distortionYCoeffs\\\" : (0.0, -4.228466598699996e-06, 1.8119253713031443e-05, 5.4490105856318586e-12, 3.584882632339802e-13, 1.0106975095964592, -3.9478271612776755e-06, 7.358119571662486e-11, 6.00625177223552e-13, -5.217706048035278e-07, 1.7085867924943534e-09, -1.821910522807169e-12, -6.096932517146155e-09, 8.289035369362124e-14, -3.267466575093464e-14)\\n}\";\n",
       "                var nbb_formatted_code = \"defaultParams = {\\n    \\\"distortionXCoeffs\\\": (\\n        0.0,\\n        1.0010824303722163,\\n        1.3242766229529234e-06,\\n        1.3792445834604317e-08,\\n        -2.463532596464153e-12,\\n        -0.016518403684644398,\\n        6.519759791585958e-05,\\n        -1.0195242467142744e-07,\\n        4.9693997060771776e-11,\\n        3.373971375544053e-05,\\n        -1.2037073302898756e-07,\\n        1.291317367024631e-10,\\n        -1.8721477161867468e-09,\\n        -2.779997846608835e-12,\\n        2.0268808222095284e-12,\\n    ),\\n    \\\"distortionYCoeffs\\\": (\\n        0.0,\\n        -4.228466598699996e-06,\\n        1.8119253713031443e-05,\\n        5.4490105856318586e-12,\\n        3.584882632339802e-13,\\n        1.0106975095964592,\\n        -3.9478271612776755e-06,\\n        7.358119571662486e-11,\\n        6.00625177223552e-13,\\n        -5.217706048035278e-07,\\n        1.7085867924943534e-09,\\n        -1.821910522807169e-12,\\n        -6.096932517146155e-09,\\n        8.289035369362124e-14,\\n        -3.267466575093464e-14,\\n    ),\\n}\";\n",
       "                var nbb_cells = Jupyter.notebook.get_cells();\n",
       "                for (var i = 0; i < nbb_cells.length; ++i) {\n",
       "                    if (nbb_cells[i].input_prompt_number == nbb_cell_id) {\n",
       "                        if (nbb_cells[i].get_text() == nbb_unformatted_code) {\n",
       "                             nbb_cells[i].set_text(nbb_formatted_code);\n",
       "                        }\n",
       "                        break;\n",
       "                    }\n",
       "                }\n",
       "            }, 500);\n",
       "            "
      ],
      "text/plain": [
       "<IPython.core.display.Javascript object>"
      ]
     },
     "metadata": {},
     "output_type": "display_data"
    }
   ],
   "source": [
    "defaultParams = {\n",
    "    \"distortionXCoeffs\": (\n",
    "        0.0,\n",
    "        1.0010824303722163,\n",
    "        1.3242766229529234e-06,\n",
    "        1.3792445834604317e-08,\n",
    "        -2.463532596464153e-12,\n",
    "        -0.016518403684644398,\n",
    "        6.519759791585958e-05,\n",
    "        -1.0195242467142744e-07,\n",
    "        4.9693997060771776e-11,\n",
    "        3.373971375544053e-05,\n",
    "        -1.2037073302898756e-07,\n",
    "        1.291317367024631e-10,\n",
    "        -1.8721477161867468e-09,\n",
    "        -2.779997846608835e-12,\n",
    "        2.0268808222095284e-12,\n",
    "    ),\n",
    "    \"distortionYCoeffs\": (\n",
    "        0.0,\n",
    "        -4.228466598699996e-06,\n",
    "        1.8119253713031443e-05,\n",
    "        5.4490105856318586e-12,\n",
    "        3.584882632339802e-13,\n",
    "        1.0106975095964592,\n",
    "        -3.9478271612776755e-06,\n",
    "        7.358119571662486e-11,\n",
    "        6.00625177223552e-13,\n",
    "        -5.217706048035278e-07,\n",
    "        1.7085867924943534e-09,\n",
    "        -1.821910522807169e-12,\n",
    "        -6.096932517146155e-09,\n",
    "        8.289035369362124e-14,\n",
    "        -3.267466575093464e-14,\n",
    "    ),\n",
    "}"
   ]
  },
  {
   "cell_type": "code",
   "execution_count": 6,
   "id": "modern-pollution",
   "metadata": {},
   "outputs": [
    {
     "data": {
      "application/javascript": [
       "\n",
       "            setTimeout(function() {\n",
       "                var nbb_cell_id = 6;\n",
       "                var nbb_unformatted_code = \"# distortion parameters from fitting Examples1/*.fits\\nexample1 = {\\n    \\\"distortionXCoeffs\\\": (\\n        0.015000000000000005,\\n        90.0,\\n        113.69413285020211,\\n        0.7789555154902353,\\n        1.1497251565109003e-05,\\n        3.936977228180445e-09,\\n        -1.827561099358528e-11,\\n        -1.3113472166384843,\\n        0.005368285028252672,\\n        -9.349550586087523e-06,\\n        5.8438248732431355e-09,\\n        0.0021872830654965096,\\n        -6.797470952423714e-06,\\n        6.791012723637494e-09,\\n        -4.4703874004820445e-08,\\n    ),\\n    \\\"distortionYCoeffs\\\": (\\n        7.431722094700687e-11,\\n        1.688226614852921e-11,\\n        121.93020079735531,\\n        -0.12471085585563742,\\n        3.9047174293852694e-05,\\n        4.351661312369696e-09,\\n        -1.8207774694731938e-11,\\n        -0.3747035085257905,\\n        0.005613722160842638,\\n        -9.64640900420385e-06,\\n        5.901667936596928e-09,\\n        0.0011840339706207439,\\n        -3.615280448936978e-06,\\n        3.5740167068527536e-09,\\n        -1.2072464370064275e-07,\\n        1.9346286756488762e-10,\\n        -2.841291949121306e-11,\\n    ),\\n}\";\n",
       "                var nbb_formatted_code = \"# distortion parameters from fitting Examples1/*.fits\\nexample1 = {\\n    \\\"distortionXCoeffs\\\": (\\n        0.015000000000000005,\\n        90.0,\\n        113.69413285020211,\\n        0.7789555154902353,\\n        1.1497251565109003e-05,\\n        3.936977228180445e-09,\\n        -1.827561099358528e-11,\\n        -1.3113472166384843,\\n        0.005368285028252672,\\n        -9.349550586087523e-06,\\n        5.8438248732431355e-09,\\n        0.0021872830654965096,\\n        -6.797470952423714e-06,\\n        6.791012723637494e-09,\\n        -4.4703874004820445e-08,\\n    ),\\n    \\\"distortionYCoeffs\\\": (\\n        7.431722094700687e-11,\\n        1.688226614852921e-11,\\n        121.93020079735531,\\n        -0.12471085585563742,\\n        3.9047174293852694e-05,\\n        4.351661312369696e-09,\\n        -1.8207774694731938e-11,\\n        -0.3747035085257905,\\n        0.005613722160842638,\\n        -9.64640900420385e-06,\\n        5.901667936596928e-09,\\n        0.0011840339706207439,\\n        -3.615280448936978e-06,\\n        3.5740167068527536e-09,\\n        -1.2072464370064275e-07,\\n        1.9346286756488762e-10,\\n        -2.841291949121306e-11,\\n    ),\\n}\";\n",
       "                var nbb_cells = Jupyter.notebook.get_cells();\n",
       "                for (var i = 0; i < nbb_cells.length; ++i) {\n",
       "                    if (nbb_cells[i].input_prompt_number == nbb_cell_id) {\n",
       "                        if (nbb_cells[i].get_text() == nbb_unformatted_code) {\n",
       "                             nbb_cells[i].set_text(nbb_formatted_code);\n",
       "                        }\n",
       "                        break;\n",
       "                    }\n",
       "                }\n",
       "            }, 500);\n",
       "            "
      ],
      "text/plain": [
       "<IPython.core.display.Javascript object>"
      ]
     },
     "metadata": {},
     "output_type": "display_data"
    }
   ],
   "source": [
    "# distortion parameters from fitting Examples1/*.fits\n",
    "example1 = {\n",
    "    \"distortionXCoeffs\": (\n",
    "        0.015000000000000005,\n",
    "        90.0,\n",
    "        113.69413285020211,\n",
    "        0.7789555154902353,\n",
    "        1.1497251565109003e-05,\n",
    "        3.936977228180445e-09,\n",
    "        -1.827561099358528e-11,\n",
    "        -1.3113472166384843,\n",
    "        0.005368285028252672,\n",
    "        -9.349550586087523e-06,\n",
    "        5.8438248732431355e-09,\n",
    "        0.0021872830654965096,\n",
    "        -6.797470952423714e-06,\n",
    "        6.791012723637494e-09,\n",
    "        -4.4703874004820445e-08,\n",
    "    ),\n",
    "    \"distortionYCoeffs\": (\n",
    "        7.431722094700687e-11,\n",
    "        1.688226614852921e-11,\n",
    "        121.93020079735531,\n",
    "        -0.12471085585563742,\n",
    "        3.9047174293852694e-05,\n",
    "        4.351661312369696e-09,\n",
    "        -1.8207774694731938e-11,\n",
    "        -0.3747035085257905,\n",
    "        0.005613722160842638,\n",
    "        -9.64640900420385e-06,\n",
    "        5.901667936596928e-09,\n",
    "        0.0011840339706207439,\n",
    "        -3.615280448936978e-06,\n",
    "        3.5740167068527536e-09,\n",
    "        -1.2072464370064275e-07,\n",
    "        1.9346286756488762e-10,\n",
    "        -2.841291949121306e-11,\n",
    "    ),\n",
    "}"
   ]
  },
  {
   "cell_type": "code",
   "execution_count": 7,
   "id": "becoming-bridge",
   "metadata": {},
   "outputs": [
    {
     "data": {
      "text/plain": [
       "{'distortionXCoeffs': (0.015000000000000005,\n",
       "  90.0,\n",
       "  113.69413285020211,\n",
       "  0.7789555154902353,\n",
       "  1.1497251565109003e-05,\n",
       "  3.936977228180445e-09,\n",
       "  -1.827561099358528e-11,\n",
       "  -1.3113472166384843,\n",
       "  0.005368285028252672,\n",
       "  -9.349550586087523e-06,\n",
       "  5.8438248732431355e-09,\n",
       "  0.0021872830654965096,\n",
       "  -6.797470952423714e-06,\n",
       "  6.791012723637494e-09,\n",
       "  -4.4703874004820445e-08),\n",
       " 'distortionYCoeffs': (7.431722094700687e-11,\n",
       "  1.688226614852921e-11,\n",
       "  121.93020079735531,\n",
       "  -0.12471085585563742,\n",
       "  3.9047174293852694e-05,\n",
       "  4.351661312369696e-09,\n",
       "  -1.8207774694731938e-11,\n",
       "  -0.3747035085257905,\n",
       "  0.005613722160842638,\n",
       "  -9.64640900420385e-06,\n",
       "  5.901667936596928e-09,\n",
       "  0.0011840339706207439,\n",
       "  -3.615280448936978e-06,\n",
       "  3.5740167068527536e-09,\n",
       "  -1.2072464370064275e-07,\n",
       "  1.9346286756488762e-10,\n",
       "  -2.841291949121306e-11)}"
      ]
     },
     "execution_count": 7,
     "metadata": {},
     "output_type": "execute_result"
    },
    {
     "data": {
      "application/javascript": [
       "\n",
       "            setTimeout(function() {\n",
       "                var nbb_cell_id = 7;\n",
       "                var nbb_unformatted_code = \"example1\";\n",
       "                var nbb_formatted_code = \"example1\";\n",
       "                var nbb_cells = Jupyter.notebook.get_cells();\n",
       "                for (var i = 0; i < nbb_cells.length; ++i) {\n",
       "                    if (nbb_cells[i].input_prompt_number == nbb_cell_id) {\n",
       "                        if (nbb_cells[i].get_text() == nbb_unformatted_code) {\n",
       "                             nbb_cells[i].set_text(nbb_formatted_code);\n",
       "                        }\n",
       "                        break;\n",
       "                    }\n",
       "                }\n",
       "            }, 500);\n",
       "            "
      ],
      "text/plain": [
       "<IPython.core.display.Javascript object>"
      ]
     },
     "metadata": {},
     "output_type": "display_data"
    }
   ],
   "source": [
    "example1"
   ]
  },
  {
   "cell_type": "code",
   "execution_count": null,
   "id": "expired-teacher",
   "metadata": {},
   "outputs": [],
   "source": []
  }
 ],
 "metadata": {
  "kernelspec": {
   "display_name": "Python 3",
   "language": "python",
   "name": "python3"
  },
  "language_info": {
   "codemirror_mode": {
    "name": "ipython",
    "version": 3
   },
   "file_extension": ".py",
   "mimetype": "text/x-python",
   "name": "python",
   "nbconvert_exporter": "python",
   "pygments_lexer": "ipython3",
   "version": "3.8.8"
  }
 },
 "nbformat": 4,
 "nbformat_minor": 5
}
