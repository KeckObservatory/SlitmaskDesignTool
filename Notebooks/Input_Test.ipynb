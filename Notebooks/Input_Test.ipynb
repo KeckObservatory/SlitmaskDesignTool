{
 "cells": [
  {
   "cell_type": "code",
   "execution_count": null,
   "metadata": {},
   "outputs": [],
   "source": [
    "%matplotlib notebook\n",
    "\n",
    "import sys\n",
    "import logging\n",
    "import matplotlib.pyplot as plt\n",
    "\n",
    "sys.path.append (\"../DesignTool\")\n",
    "from smdtLibs.configFile import ConfigFile\n",
    "from targets import TargetList\n",
    "from smdtLibs.inOutChecker import InOutChecker\n",
    "from maskLayouts import MaskLayouts, shrinkMask\n",
    "from smdtLibs import utils, drawUtils"
   ]
  },
  {
   "cell_type": "code",
   "execution_count": null,
   "metadata": {},
   "outputs": [],
   "source": [
    "try:\n",
    "    %load_ext nb_black\n",
    "except:\n",
    "    print(\"Ignored extension: nb_black\")\n",
    "    pass"
   ]
  },
  {
   "cell_type": "code",
   "execution_count": null,
   "metadata": {},
   "outputs": [],
   "source": [
    "logging.disable()"
   ]
  },
  {
   "cell_type": "markdown",
   "metadata": {},
   "source": [
    "## Initialize configuration and read parameter file\n",
    "\n",
    "The config file smdt.cfg contains general parameters for the application and the instrument, DEIMOS in this case.\n",
    "\n",
    "The config file params.cfg contains parameters the user can modify through the UI. These are inherited from dsim."
   ]
  },
  {
   "cell_type": "code",
   "execution_count": null,
   "metadata": {},
   "outputs": [],
   "source": [
    "config_fname = \"../DesignTool/smdt.cfg\"\n",
    "param_fname = \"../DesignTool/params.cfg\"\n",
    "\n",
    "config = ConfigFile(config_fname)\n",
    "config.properties[\"params\"] = ConfigFile(param_fname)"
   ]
  },
  {
   "cell_type": "markdown",
   "metadata": {},
   "source": [
    "### Get the mask layout\n",
    "\n",
    "MaskLayouts contains the geometry of the science detector.\n",
    "There are various versions of the geometry.\n",
    "\n",
    "\"deimosOrig\" is the layout inherited from dsim."
   ]
  },
  {
   "cell_type": "code",
   "execution_count": null,
   "metadata": {},
   "outputs": [],
   "source": [
    "layout = MaskLayouts[\"deimos\"]"
   ]
  },
  {
   "cell_type": "markdown",
   "metadata": {},
   "source": [
    "### Read the targets, check what is inside and group by pcode\n",
    "\n",
    "The pcode determines how the target is interpreted.\n",
    "- \\>= 0: selected\n",
    "- -2: align box\n",
    "- -1: guide box"
   ]
  },
  {
   "cell_type": "code",
   "execution_count": null,
   "metadata": {},
   "outputs": [],
   "source": [
    "#input_fname = \"../DeimosExamples/EvanKirby/n2419c.list\"\n",
    "input_fname = \"../DeimosExamples/EvanKirby/LeoIa.list\"\n",
    "tlist = TargetList(input_fname, config=config)\n",
    "\n",
    "# Check what is inside the mask\n",
    "tlist.markInside (layout)\n",
    "\n",
    "allTargets = tlist.targets\n",
    "selectedTargets = allTargets[allTargets.selected > 0]\n",
    "selectedTargets = selectedTargets[selectedTargets.pcode >= 0]\n",
    "\n",
    "alignBoxes = allTargets[allTargets.pcode == -2]\n",
    "guideBoxes = allTargets[allTargets.pcode == -1]\n",
    "\n",
    "inTargets = allTargets[allTargets.inMask > 0]\n",
    "inSelectedTargets = selectedTargets[selectedTargets.inMask > 0]\n",
    "inAlignBoxes = alignBoxes[alignBoxes.inMask > 0]\n",
    "inGuideBoxes = guideBoxes[guideBoxes.inMask > 0]\n"
   ]
  },
  {
   "cell_type": "markdown",
   "metadata": {},
   "source": [
    "### What is in tlist?"
   ]
  },
  {
   "cell_type": "code",
   "execution_count": null,
   "metadata": {},
   "outputs": [],
   "source": [
    "print (f\"Number of rows:\\t{len(allTargets):5d}, inside {len(inTargets):5d}\")\n",
    "print (f\"Selected:\\t{len(selectedTargets):5d}, inside {len(inSelectedTargets):5d}\")\n",
    "print (f\"Align boxes:\\t{len(alignBoxes):5d}, inside {len(inAlignBoxes):5d}\")\n",
    "print (f\"Guide boxes:\\t{len(guideBoxes):5d}, inside {len(inGuideBoxes):5d}\")\n"
   ]
  },
  {
   "cell_type": "code",
   "execution_count": null,
   "metadata": {},
   "outputs": [],
   "source": [
    "print(\"Center RA = {} hrs\".format(utils.toSexagecimal(tlist.centerRADeg / 15)))\n",
    "print(\"       DEC= {} deg\".format(utils.toSexagecimal(tlist.centerDEC)))\n",
    "print(\"       PA =  {:.3f} deg\".format(tlist.positionAngle))"
   ]
  },
  {
   "cell_type": "markdown",
   "metadata": {},
   "source": [
    "## Plot all targets"
   ]
  },
  {
   "cell_type": "code",
   "execution_count": null,
   "metadata": {
    "scrolled": false
   },
   "outputs": [],
   "source": [
    "plt.figure(figsize=(10, 6))\n",
    "plt.gca().set_aspect(\"equal\")\n",
    "\n",
    "# Plot the mask layout\n",
    "drawUtils.drawPatch(plt.gca(), layout, fc=\"None\", ec=\"r\")\n",
    "\n",
    "plt.scatter(allTargets.xarcs, allTargets.yarcs, c=\"None\", ec=\"y\", label=\"Targets\")\n",
    "plt.scatter(\n",
    "    inSelectedTargets.xarcs,\n",
    "    inSelectedTargets.yarcs,\n",
    "    c=\"None\",\n",
    "    ec=\"b\",\n",
    "    marker=\"s\",\n",
    "    label=\"Inside selected\",\n",
    ")\n",
    "plt.legend(bbox_to_anchor=(1.30, 1.0), loc=\"upper right\")\n",
    "plt.grid()\n",
    "plt.tight_layout()"
   ]
  },
  {
   "cell_type": "markdown",
   "metadata": {},
   "source": [
    "### Plot only inside the mask"
   ]
  },
  {
   "cell_type": "code",
   "execution_count": null,
   "metadata": {
    "scrolled": false
   },
   "outputs": [],
   "source": [
    "plt.figure(figsize=(12, 5))\n",
    "plt.gca().set_aspect('equal')\n",
    "\n",
    "# Plot the mask layou\n",
    "drawUtils.drawPatch(plt.gca(), layout, fc='None', ec='r')\n",
    "\n",
    "plt.scatter (inTargets.xarcs, inTargets.yarcs,  c='None', ec='y', label='Inside')\n",
    "plt.scatter (inSelectedTargets.xarcs, inSelectedTargets.yarcs, fc='None', ec='b', \n",
    "            label=\"Inside selected\")\n",
    "\n",
    "plt.scatter (inAlignBoxes.xarcs, inAlignBoxes.yarcs, c='None', ec='r', marker='s', label='Align boxes')\n",
    "plt.scatter (inGuideBoxes.xarcs, inGuideBoxes.yarcs, c='g', ec='w', marker='s', label='Guide boxes')\n",
    "\n",
    "plt.legend(bbox_to_anchor=(1, 1.4), loc='upper right')\n",
    "plt.xlabel (\"X arcsec\")\n",
    "plt.ylabel (\"Y arcsec\")\n",
    "\n",
    "plt.legend(bbox_to_anchor=(1.20, 1.0), loc=\"upper right\")\n",
    "plt.grid()\n",
    "plt.tight_layout()\n"
   ]
  },
  {
   "cell_type": "code",
   "execution_count": null,
   "metadata": {},
   "outputs": [],
   "source": [
    "guideBoxes"
   ]
  },
  {
   "cell_type": "code",
   "execution_count": null,
   "metadata": {},
   "outputs": [],
   "source": []
  }
 ],
 "metadata": {
  "kernelspec": {
   "display_name": "Python 3",
   "language": "python",
   "name": "python3"
  },
  "language_info": {
   "codemirror_mode": {
    "name": "ipython",
    "version": 3
   },
   "file_extension": ".py",
   "mimetype": "text/x-python",
   "name": "python",
   "nbconvert_exporter": "python",
   "pygments_lexer": "ipython3",
   "version": "3.8.6"
  }
 },
 "nbformat": 4,
 "nbformat_minor": 4
}
