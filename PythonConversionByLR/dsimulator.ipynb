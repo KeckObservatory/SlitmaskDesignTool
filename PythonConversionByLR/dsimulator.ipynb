{
 "cells": [
  {
   "cell_type": "code",
   "execution_count": 46,
   "metadata": {
    "collapsed": true
   },
   "outputs": [],
   "source": [
    "import os\n",
    "from astropy.io import ascii\n",
    "import math\n",
    "from astropy.coordinates import Angle\n",
    "import numpy as np\n",
    "import matplotlib.pyplot as plt\n",
    "import matplotlib.lines as mlines\n",
    "%matplotlib inline\n",
    "from astropy.modeling import models, fitting\n"
   ]
  },
  {
   "cell_type": "code",
   "execution_count": 2,
   "metadata": {
    "collapsed": true
   },
   "outputs": [],
   "source": [
    "ObjectFile = 'n2419c.selected'\n",
    "CenterLine = 'n2419c             7:38:09.20   38:51:12.0  2000.0 PA=50.000 ##'\n",
    "ha0 = 0\n",
    "PA0 = 50\n",
    "blue = 4000\n",
    "red = 9000\n",
    "sep_slit = 2\n",
    "min_slit = 10\n",
    "slit_width = 1\n",
    "equinox = 2000"
   ]
  },
  {
   "cell_type": "markdown",
   "metadata": {},
   "source": [
    "## List any necessary constants here"
   ]
  },
  {
   "cell_type": "code",
   "execution_count": 33,
   "metadata": {},
   "outputs": [],
   "source": [
    "CODE_AS = -2\n",
    "CODE_GS = -1\n",
    "PRIMARY = 1\n",
    "FLDCEN_X = 0\n",
    "FLDCEN_Y = 270\n",
    "FLIP = -1\n",
    "YMSKMIN = 187.3\n",
    "YMSKMAX = 479.1\n",
    "XUPP_LIM = 498\n",
    "XLOW_LIM = -498\n",
    "YCAMCEN = 700\n",
    "RADVIGN = 302\n",
    "GAP1CEN =        -254.4          # CCD gap in arcsec -- center\n",
    "GAP1HWD =           5.2          # CCD gap in arcsec -- half-wid\n",
    "GAP2CEN =           0.0          # CCD gap in arcsec -- center\n",
    "GAP2HWD =           5.2          # CCD gap in arcsec -- half-wid\n",
    "GAP3CEN =         254.4          # CCD gap in arcsec -- center\n",
    "GAP3HWD =           5.2          # CCD gap in arcsec -- half-wid\n",
    "M_RCURV = 2120.9\n",
    "R_IMSURF = 2133.6\n",
    "M_ANGLE = 6.0\n",
    "ZPT_YM = 128.803 # Dist to tel.axis, in SMCS-XXX (mm) 5.071in\n",
    "MASK_HT0 = 3.378\n",
    "PPLDIST  = 20018.4\n",
    "FL_TEL  =150327.0\n"
   ]
  },
  {
   "cell_type": "code",
   "execution_count": 4,
   "metadata": {
    "collapsed": true
   },
   "outputs": [],
   "source": [
    "def degtorad(angle):\n",
    "    return float(angle*np.pi/180)\n",
    "def radtodeg(radians):\n",
    "    return float(radians*57.295779513082320877)\n",
    "def hhmmsstodegrees(hours):\n",
    "    return Angle(str(hours)+' hours').degree\n",
    "def ddmmsstodegrees(dms):\n",
    "    return Angle(str(dms)+ ' degrees').degree"
   ]
  },
  {
   "cell_type": "code",
   "execution_count": 5,
   "metadata": {
    "collapsed": true
   },
   "outputs": [],
   "source": [
    "def InputDataInit():\n",
    "    InputData={}\n",
    "    InputData['DEF_BOXR']=0.5*4 # arcseconds for alignment boxes\n",
    "    InputData['DEF_SLWID']=1 # default slit width arcseconds\n",
    "    InputData['DEF_HLEN']=5 # minimum slit length\n",
    "    InputData['RA0_FLD']=degtorad(hhmmsstodegrees(CenterLine.split()[1]))\n",
    "    InputData['DEC0_FLD']=degtorad(ddmmsstodegrees(CenterLine.split()[2]))\n",
    "    InputData['HA_FLD']=degtorad(ha0*15)\n",
    "    InputData['PA_ROT']=degtorad(PA0)\n",
    "    InputData['TEMP']=0\n",
    "    InputData['PRES']=600\n",
    "    InputData['WAVER']=7000*1e-4\n",
    "    InputData['WAVEMN']=blue*1e-4\n",
    "    InputData['WAVEMX']=red*1e-4\n",
    "    InputData['SLIT_GAP'] = sep_slit\n",
    "    InputData['DEF_HLEN'] = 0.5 * min_slit\n",
    "    InputData['DEF_SLWID'] = slit_width\n",
    "    InputData['STD_EQX'] = equinox\n",
    "    InputData['RA_FLD']=InputData['RA0_FLD'] # no refraction\n",
    "    InputData['DEC_FLD']=InputData['DEC0_FLD']\n",
    "    InputData['PROJ_LEN']=True\n",
    "    return InputData\n",
    "    "
   ]
  },
  {
   "cell_type": "code",
   "execution_count": 6,
   "metadata": {
    "collapsed": true
   },
   "outputs": [],
   "source": [
    "def TargetInit():\n",
    "    TargetData=[]\n",
    " \n",
    "    data = ascii.read(ObjectFile, format='no_header', names=['id','ra','dec','equinox','mag','band','priority','nlist','selcode','pangle'])\n",
    "    for i in range(len(data)):\n",
    "        Target={}\n",
    "        Target['INDEX']=i\n",
    "        Target['IDSTR']=data['id'][i]\n",
    "        ra0=degtorad(hhmmsstodegrees(data['ra'][i]))\n",
    "        Target['RA0']=ra0\n",
    "        dec0=degtorad(ddmmsstodegrees(data['dec'][i]))\n",
    "        Target['DEC0']=dec0\n",
    "        Target['RA']=Target['RA0'] # no refraction\n",
    "        Target['DEC']=Target['DEC0']\n",
    "        Target['MAG']=data['mag'][i]\n",
    "        Target['PBAND']=data['band'][i][0]\n",
    "        l1=InputData['DEF_HLEN']\n",
    "        l2=InputData['DEF_HLEN']\n",
    "        selcode=0\n",
    "        nlist=PRIMARY\n",
    "        Target['PCODE']=data['priority'][i]\n",
    "        Target['STD_EQX']=data['equinox'][i]\n",
    "        if data['priority'][i]==CODE_AS:\n",
    "                l1 = InputData['DEF_BOXR']\n",
    "                l2 = InputData['DEF_BOXR']\n",
    "        Target['PA']=data['pangle'][i]\n",
    " \n",
    "        if Target['PCODE']==CODE_AS:\n",
    "                print(\"Star %s is an alignment star\" % Target['IDSTR'])\n",
    "                Target['PA']=''\n",
    "                Target['SLWID']=2*InputData['DEF_BOXR']\n",
    "        else:\n",
    "                Target['SLWID']=InputData['DEF_SLWID']\n",
    "        Target['SAMPL']=nlist\n",
    "        Target['SEL']=data['selcode'][i]\n",
    "        \n",
    "        Target['LEN1']=l1\n",
    "        Target['LEN2']=l2\n",
    "        TargetData.append(Target)\n",
    "        \n",
    "    return(TargetData)"
   ]
  },
  {
   "cell_type": "code",
   "execution_count": 7,
   "metadata": {},
   "outputs": [
    {
     "name": "stdout",
     "output_type": "stream",
     "text": [
      "Star N2419-D17 is an alignment star\n",
      "Star N2419-S130 is an alignment star\n",
      "Star N2419-S147 is an alignment star\n",
      "Star N2419-S1601 is an alignment star\n",
      "Star N2419-S1778 is an alignment star\n",
      "Star N2419-S345 is an alignment star\n",
      "{'INDEX': 0, 'IDSTR': 'N2419-D17', 'RA0': 2.0002502972113687, 'DEC0': 0.6796521546776157, 'RA': 2.0002502972113687, 'DEC': 0.6796521546776157, 'MAG': 17.52, 'PBAND': 'I', 'PCODE': -2, 'STD_EQX': 2000, 'PA': '', 'SLWID': 4.0, 'SAMPL': 1, 'SEL': 1, 'LEN1': 2.0, 'LEN2': 2.0}\n"
     ]
    }
   ],
   "source": [
    "# read input data\n",
    "InputData = InputDataInit()\n",
    "# read targets\n",
    "TargetData = TargetInit()\n",
    "print(TargetData[0])"
   ]
  },
  {
   "cell_type": "markdown",
   "metadata": {},
   "source": [
    "## Calculate position with reference to telescope axis"
   ]
  },
  {
   "cell_type": "code",
   "execution_count": 8,
   "metadata": {
    "collapsed": true
   },
   "outputs": [],
   "source": [
    "def fld2telax(InputData):\n",
    "    r = degtorad(np.sqrt(FLDCEN_X*FLDCEN_X+FLDCEN_Y*FLDCEN_Y)/3600)\n",
    "    pa_fld = np.arctan2(FLDCEN_Y,FLDCEN_X)\n",
    "    cosr = np.cos(r)\n",
    "    sinr = np.sin(r)\n",
    "    cosd = np.cos(InputData['DEC_FLD'])\n",
    "    sind = np.sin(InputData['DEC_FLD'])\n",
    "    cost = np.cos(InputData['PA_ROT']-pa_fld)\n",
    "    sint = np.sin(InputData['PA_ROT']-pa_fld)\n",
    "    sina = sinr*sint/cosd\n",
    "    cosa = np.sqrt(1-sina**2)\n",
    "    InputData['RA_TEL']=InputData['RA_FLD']\n",
    "    InputData['DEC_TEL']=np.arcsin((sind*cosd*cosa-cosr*sinr*cost)/(cosr*cosd*cosa-sinr*sind*cost))\n",
    "    return InputData"
   ]
  },
  {
   "cell_type": "code",
   "execution_count": 9,
   "metadata": {},
   "outputs": [
    {
     "data": {
      "text/plain": [
       "{'DEC0_FLD': 0.6781185920415301,\n",
       " 'DEC_FLD': 0.6781185920415301,\n",
       " 'DEC_TEL': 0.67711612712619529,\n",
       " 'DEF_BOXR': 2.0,\n",
       " 'DEF_HLEN': 5.0,\n",
       " 'DEF_SLWID': 1,\n",
       " 'HA_FLD': 0.0,\n",
       " 'PA_ROT': 0.8726646259971648,\n",
       " 'PRES': 600,\n",
       " 'PROJ_LEN': True,\n",
       " 'RA0_FLD': 1.999071036413438,\n",
       " 'RA_FLD': 1.999071036413438,\n",
       " 'RA_TEL': 1.999071036413438,\n",
       " 'SLIT_GAP': 2,\n",
       " 'STD_EQX': 2000,\n",
       " 'TEMP': 0,\n",
       " 'WAVEMN': 0.4,\n",
       " 'WAVEMX': 0.9,\n",
       " 'WAVER': 0.7000000000000001}"
      ]
     },
     "execution_count": 9,
     "metadata": {},
     "output_type": "execute_result"
    }
   ],
   "source": [
    "InputData = fld2telax(InputData)\n",
    "InputData"
   ]
  },
  {
   "cell_type": "markdown",
   "metadata": {},
   "source": [
    "## Calculate position of targets with reference to telescope axis"
   ]
  },
  {
   "cell_type": "code",
   "execution_count": 10,
   "metadata": {
    "collapsed": true
   },
   "outputs": [],
   "source": [
    "def tel_coords(InputData, TargetData):\n",
    "    ra0 = InputData['RA_TEL']\n",
    "    dec0 = InputData['DEC_TEL']\n",
    "    pa0 = InputData['PA_ROT']\n",
    "    for i in range(len(TargetData)):\n",
    "        target = TargetData[i]\n",
    "        \n",
    "        try:\n",
    "            dec_obj = target['DEC']\n",
    "        except:\n",
    "            print(\"Target is missing some values\")\n",
    "            print(target)\n",
    "            return\n",
    "        del_ra = target['RA']-ra0\n",
    "        cosr = np.sin(dec_obj) * np.sin(dec0) + np.cos(dec_obj) * np.cos(dec0) * np.cos(del_ra)\n",
    "        r = np.arccos(cosr)\n",
    "        \n",
    "        sinp = np.cos(dec_obj) * np.sin(del_ra) / np.sqrt(1-cosr*cosr)\n",
    "        cosp = np.sqrt(max((1. - sinp*sinp),0))\n",
    "        if (dec_obj < dec0):\n",
    "                cosp = cosp * -1\n",
    "        p = np.arctan2(sinp, cosp)\n",
    "        \n",
    "        r = np.tan(r)*206264.8\n",
    "\n",
    "\n",
    "        target['XARCS'] = r * np.cos(pa0-p)\n",
    "        target['YARCS'] = r * np.sin(pa0-p)\n",
    "        \n",
    "        if target['PA'] == '':\n",
    "                target['RELPA'] = ''\n",
    "                rangle=0\n",
    "        else:\n",
    "            target['RELPA'] = target['PA']-pa0\n",
    "            rangle = target['RELPA']\n",
    "            \n",
    "        xgeom = FLIP * np.cos(rangle)\n",
    "        ygeom = np.sin(rangle)\n",
    "        \n",
    "        if InputData['PROJ_LEN'] is True:\n",
    "            xgeom = xgeom / np.abs(np.cos(rangle))\n",
    "            ygeom = ygeom / np.abs(np.cos(rangle))\n",
    "            \n",
    "        if xgeom > 0:\n",
    "            target['X1'] = target['XARCS']-target['LEN1']* xgeom\n",
    "            target['Y1'] = target['YARCS']-target['LEN1']* ygeom\n",
    "            target['X2'] = target['XARCS']+target['LEN2']* xgeom\n",
    "            target['Y2'] = target['YARCS']+target['LEN2']* ygeom\n",
    "        else:\n",
    "            target['X2'] = target['XARCS']-target['LEN1']* xgeom\n",
    "            target['Y2'] = target['YARCS']-target['LEN1']* ygeom\n",
    "            target['X1'] = target['XARCS']+target['LEN2']* xgeom\n",
    "            target['Y1'] = target['YARCS']+target['LEN2']* ygeom\n",
    "            \n",
    "        x=target['XARCS']\n",
    "        y=target['YARCS']\n",
    "        target['STAT'] = chk_stat(x,y)\n",
    "        TargetData[i]=target\n",
    "    return TargetData\n",
    "        \n",
    "def chk_stat(x,y):\n",
    "    r = np.sqrt(x**2+y**2)\n",
    "    if r>600:\n",
    "        return False\n",
    "    if y<YMSKMIN:\n",
    "        return False\n",
    "    if y>YMSKMAX:\n",
    "        return False\n",
    "    if x>XUPP_LIM or x<XLOW_LIM:\n",
    "        return False\n",
    "    if x>-0.98273*y+833.0:\n",
    "        return False\n",
    "    if (x**2+(y-YCAMCEN)**2 < RADVIGN**2):\n",
    "        return False\n",
    "    if (np.abs(x-GAP1CEN))< GAP1HWD:\n",
    "            return False\n",
    "    if (np.abs(x-GAP2CEN))< GAP2HWD:\n",
    "            return False\n",
    "    if (np.abs(x-GAP3CEN))< GAP3HWD:\n",
    "            return False\n",
    "        \n",
    "    return True\n",
    "    \n",
    "                \n",
    "        "
   ]
  },
  {
   "cell_type": "code",
   "execution_count": 11,
   "metadata": {},
   "outputs": [
    {
     "data": {
      "text/plain": [
       "{'DEC': 0.6796521546776157,\n",
       " 'DEC0': 0.6796521546776157,\n",
       " 'IDSTR': 'N2419-D17',\n",
       " 'INDEX': 0,\n",
       " 'LEN1': 2.0,\n",
       " 'LEN2': 2.0,\n",
       " 'MAG': 17.52,\n",
       " 'PA': '',\n",
       " 'PBAND': 'I',\n",
       " 'PCODE': -2,\n",
       " 'RA': 2.0002502972113687,\n",
       " 'RA0': 2.0002502972113687,\n",
       " 'RELPA': '',\n",
       " 'SAMPL': 1,\n",
       " 'SEL': 1,\n",
       " 'SLWID': 4.0,\n",
       " 'STAT': True,\n",
       " 'STD_EQX': 2000,\n",
       " 'X1': 479.2120477872989,\n",
       " 'X2': 483.2120477872989,\n",
       " 'XARCS': 481.2120477872989,\n",
       " 'Y1': 279.15783555606924,\n",
       " 'Y2': 279.15783555606924,\n",
       " 'YARCS': 279.15783555606924}"
      ]
     },
     "execution_count": 11,
     "metadata": {},
     "output_type": "execute_result"
    }
   ],
   "source": [
    "TargetData = tel_coords(InputData, TargetData)\n",
    "TargetData[0]"
   ]
  },
  {
   "cell_type": "code",
   "execution_count": 12,
   "metadata": {
    "collapsed": true
   },
   "outputs": [],
   "source": [
    "x = [x['XARCS'] for x in TargetData]\n",
    "y = [x['YARCS'] for x in TargetData]"
   ]
  },
  {
   "cell_type": "code",
   "execution_count": 13,
   "metadata": {},
   "outputs": [
    {
     "data": {
      "text/plain": [
       "(0, 400)"
      ]
     },
     "execution_count": 13,
     "metadata": {},
     "output_type": "execute_result"
    },
    {
     "data": {
      "image/png": "[encoded data removed]",
      "text/plain": [
       "<matplotlib.figure.Figure at 0x10ec80240>"
      ]
     },
     "metadata": {},
     "output_type": "display_data"
    }
   ],
   "source": [
    "plt.figure(figsize=(16,8))\n",
    "plt.plot(x,y,'o')\n",
    "plt.xlim(-400,700)\n",
    "plt.ylim(0,400)"
   ]
  },
  {
   "cell_type": "code",
   "execution_count": 14,
   "metadata": {
    "collapsed": true
   },
   "outputs": [],
   "source": [
    "\n",
    "def gs_restore(x_array, nval):\n",
    "    gs_values()\n",
    "    xorder = int(x_array[1])\n",
    "    sf={}\n",
    "    if xorder < 1:\n",
    "        print(\"Error: Illegal x order\")\n",
    "        return\n",
    "    yorder = int(x_array[2])\n",
    "    if yorder < 1:\n",
    "        print(\"Error: Illegal y order\")\n",
    "        return\n",
    "    xmin = x_array[4]\n",
    "    xmax = x_array[5]\n",
    "    if (xmax<=xmin):\n",
    "        print(\"Error: Illegal x range\")\n",
    "        return\n",
    "    ymin = x_array[6]\n",
    "    ymax = x_array[7]\n",
    "    if (ymax<=ymin):\n",
    "        print(\"Error: Illegal y range\")\n",
    "        return\n",
    "    surface_type = int(x_array[0])\n",
    "    if surface_type in [1,2,3]:\n",
    "        sf['nxcoeff']=xorder\n",
    "        sf['xorder']=xorder\n",
    "        sf['xmin']=xmin\n",
    "        sf['xmax']=xmax\n",
    "        sf['xrange']=2.0/(xmax-xmin)\n",
    "        sf['xmaxmin']=-(xmax+xmin)/2.0\n",
    "        sf['nycoeff']=yorder\n",
    "        sf['yorder']=yorder\n",
    "        sf['ymin']=ymin\n",
    "        sf['ymax']=ymax\n",
    "        sf['yrange']=2.0/(ymax-ymin)\n",
    "        sf['ymaxmin']=-(ymax+ymin)/2.0\n",
    "        sf['xterms']=x_array[3]\n",
    "        if sf['xterms']==0:\n",
    "            sf['ncoeff']=sf['nxcoeff']+sf['nycoeff']-1\n",
    "        if sf['xterms']==2:\n",
    "            sf['ncoeff']=sf['nxcoeff']*sf['nycoeff']-order*(order-1)/2\n",
    "        if sf['xterms']==1:\n",
    "            sf['xcoeff']=sf['nxcoeff']*sf['nycoeff']\n",
    "            \n",
    "    sf['type']=surface_type\n",
    "    sf['xbasis']=\"\"\n",
    "    sf['ybasis']=\"\"\n",
    "    sf['matrix']=\"\"\n",
    "    sf['chofac']=\"\"\n",
    "    sf['vector']=\"\"\n",
    "    sf['coeff']=\"\"\n",
    "    sf['wz']=\"\"\n",
    "    sf['coeff']=x_array[8:nval]\n",
    "    return sf\n",
    "\n",
    "            "
   ]
  },
  {
   "cell_type": "code",
   "execution_count": 15,
   "metadata": {},
   "outputs": [],
   "source": [
    "def gs_add(sf1,sf2):\n",
    "    sf3={}\n",
    "    if sf1['type']!=sf2['type']:\n",
    "        print(\"Error: surfaces are not the same type\")\n",
    "        return\n",
    "    sf3['type']=sd1['type']\n",
    "    if sf3['type'] in [1,2,3]:\n",
    "        sf3['nxcoeff']=max(sf1['nxcoeff'],sf2['nxcoeff'])\n",
    "        sf3['xorder']=max[sf1['xorder'],sf2['xorder']]\n",
    "        sf3['xmin']=sf1['xmin']\n",
    "        sf3['xmax']=sf1['xmax']\n",
    "        sf3['xrange']=sf1['xrange']\n",
    "        sf3['xmaxmin']=sf1['xmaxmin']\n",
    "        sf3['nycoeff']=max(sf1['nycoeff'],sf2['nycoeff'])\n",
    "        sf3['ymin']=sf1['ymin']\n",
    "        sf3['ymax']=sf1['ymax']\n",
    "        sf3['yrange']=sf1['yrange']\n",
    "        sf3['ymaxmin']=sf1['ymaxmin']\n",
    "        if sf1['xterms']==sf2['xterms']:\n",
    "            sf3['xterms']=sf1['xterms']\n",
    "        elif sf1['xterms']==1 or sf2['xterms']==1:\n",
    "            sf3['xterms']=1\n",
    "        else:\n",
    "            sf3['xterms']=2\n",
    "        if sf3['xterms']==0:\n",
    "            sf3['ncoeff']=sf3['nxcoeff']+sf3['nycoeff']-1\n",
    "        elif sf3['ncoeff']==2:\n",
    "            order = min(sf3['xorder'],sf3['yorder'])\n",
    "            sf3['ncoeff']=sf3['nxcoeff']*sf3['nycoeff']-order*(order-1)/2\n",
    "        else:\n",
    "            sf3['ncoeff']=sf3['nxcoeff']*sf3['nycoeff']\n",
    "    sf3['xbasis']=\"\"\n",
    "    sf3['ybasis']=\"\"\n",
    "    sf3['matrix']=\"\"\n",
    "    sf3['chofac']=\"\"\n",
    "    sf3['vector']=\"\"\n",
    "    sf3['coeff']=\"\"\n",
    "    sf3['wz']=\"\"\n",
    "    \n",
    "    maxorder1=max(sf1['xorder']+1,sf1['yorder']+1)\n",
    "    maxorder2=max(sf2['xorder']+1,sf2['yorder']+1)\n",
    "    maxorder3=max(sf3['xorder']+1,sf3['yorder']+1)\n",
    "    \n",
    "    ptr1=sf1['coeff']\n",
    "    ptr3=sf3['coeff']\n",
    "    nmove1=sf1['nxcoeff']\n",
    "    nmove3=sf3['nxcoeff']\n",
    "    for i in range(1,sf1['nycoeff']):\n",
    "        ptr3=ptr1\n",
    "        if sf1['xterms']==0:\n",
    "            nmove=1\n",
    "        if sf1['xterms']==2:\n",
    "            if ((i+sf1['xorder'])+1)>maxorder1:\n",
    "                nmove1=nmove1-1\n",
    "        if sf1['xterms']==1:\n",
    "            pass\n",
    "        if sf3['xterms']==0:\n",
    "            nmove=1\n",
    "        if sf3['xterms']==2:\n",
    "            if ((i+sf3['xorder'])+1)>maxorder3:\n",
    "                nmove3=nmove3-1\n",
    "        if sf3['xterms']==1:\n",
    "            pass\n",
    "        \n"
   ]
  },
  {
   "cell_type": "code",
   "execution_count": null,
   "metadata": {
    "collapsed": true
   },
   "outputs": [],
   "source": [
    "\n",
    "    "
   ]
  },
  {
   "cell_type": "code",
   "execution_count": 16,
   "metadata": {},
   "outputs": [],
   "source": [
    "def gs_ingest(fd):\n",
    "    fp=open(fd)\n",
    "    while True:\n",
    "        line = fp.readline()\n",
    "        if not line:\n",
    "            break\n",
    "        print(line)\n",
    "        args = line.split()\n",
    "        print(args)\n",
    "        if args[0] == 'surface1':\n",
    "            xargs=[]\n",
    "            yargs=[]\n",
    "            nval = int(args[1])\n",
    "            for i in range(int(nval)):\n",
    "                line = fp.readline()\n",
    "                args=line.split()\n",
    "                xargs.append(float(args[0]))\n",
    "                yargs.append(float(args[1]))\n",
    "            gsx1 = gs_restore(xargs,nval)\n",
    "            print(gsx1)\n",
    "            gsy1 = gs_restore(yargs,nval)\n",
    "            print(gsy1)\n",
    "        line = fp.readline()\n",
    "        args = line.split()\n",
    "        if args[0] == 'surface2':\n",
    "            xargs=[]\n",
    "            yargs=[]\n",
    "            nval = int(args[1])\n",
    "            for i in range(int(nval)):\n",
    "                line = fp.readline()\n",
    "                args=line.split()\n",
    "                xargs.append(float(args[0]))\n",
    "                yargs.append(float(args[1]))\n",
    "            gsx2 = gs_restore(xargs,nval)\n",
    "            gsy2 = gs_restore(yargs,nval)\n",
    "    fp.close()\n",
    "    #gsx = gsadd(gsx1, gsx2)\n",
    "    #gsy = gsadd(gsy1, gsy2)"
   ]
  },
  {
   "cell_type": "code",
   "execution_count": null,
   "metadata": {
    "collapsed": true
   },
   "outputs": [],
   "source": []
  },
  {
   "cell_type": "code",
   "execution_count": 17,
   "metadata": {},
   "outputs": [],
   "source": [
    "#gs_ingest('xproj.map')"
   ]
  },
  {
   "cell_type": "code",
   "execution_count": 18,
   "metadata": {},
   "outputs": [
    {
     "name": "stderr",
     "output_type": "stream",
     "text": [
      "WARNING: Model is linear in parameters; consider using linear fitting methods. [astropy.modeling.fitting]\n"
     ]
    }
   ],
   "source": [
    "# calculate 2D polynomial\n",
    "fd = open('input.dat')\n",
    "lines = fd.readlines()\n",
    "fd.close()\n",
    "xin = []\n",
    "yin = []\n",
    "for line in lines:\n",
    "    p = line.split()\n",
    "    xin.append(float(p[0]))\n",
    "    yin.append(float(p[1]))\n",
    "\n",
    "fd = open('output.dat')\n",
    "lines = fd.readlines()\n",
    "fd.close()\n",
    "xout = []\n",
    "yout = []\n",
    "for line in lines:\n",
    "    p = line.split()\n",
    "    xout.append(float(p[0]))\n",
    "    yout.append(float(p[1]))\n",
    "\n",
    "px_init = models.Polynomial2D(degree=4)\n",
    "fit_px = fitting.LevMarLSQFitter()\n",
    "px1 = fit_px(px_init,xin,yin,xout)\n",
    "py_init = models.Polynomial2D(degree=3)\n",
    "fit_py = fitting.LevMarLSQFitter()\n",
    "py1 = fit_py(py_init,xin,yin,yout)\n"
   ]
  },
  {
   "cell_type": "code",
   "execution_count": 19,
   "metadata": {},
   "outputs": [
    {
     "name": "stdout",
     "output_type": "stream",
     "text": [
      "[  1.03767274e+00  -2.18808149e-03   7.37670550e-08  -2.01076027e-11\n",
      "   2.74918216e-15  -3.89696055e-03   2.02511462e-07  -1.62138047e-12\n",
      "   8.10897848e-15   3.13514189e-07   2.88432985e-08  -3.72487474e-15\n",
      "  -2.85152369e-10   2.37128749e-13  -2.41487157e-13]\n",
      "[ -1.03918214e+00   1.00220205e+00  -6.72056480e-08  -7.98200666e-12\n",
      "   3.90475878e-03  -2.15396384e-07  -9.58987366e-13  -3.20708206e-07\n",
      "  -2.89136300e-08   2.32104252e-10]\n"
     ]
    }
   ],
   "source": [
    "print(px1.parameters)\n",
    "print(py1.parameters)\n"
   ]
  },
  {
   "cell_type": "code",
   "execution_count": 20,
   "metadata": {},
   "outputs": [
    {
     "name": "stdout",
     "output_type": "stream",
     "text": [
      "0.0 0.0 1.037673 -1.03918 1.0376727355 -1.03918213522\n",
      "0.0 1.0 1.033776 -1.03528 1.03377597746 -1.03527759183\n",
      "0.0 2.0 1.02988 -1.03137 1.02987962443 -1.03137347925\n",
      "0.0 3.0 1.025984 -1.02747 1.02598367641 -1.02746979746\n",
      "0.0 4.0 1.022088 -1.02357 1.02208813338 -1.02356654649\n",
      "0.0 5.0 1.018193 -1.01966 1.01819299534 -1.01966372634\n",
      "0.0 6.0 1.014298 -1.01576 1.01429826228 -1.015761337\n",
      "0.0 7.0 1.010404 -1.01186 1.01040393418 -1.0118593785\n",
      "0.0 8.0 1.00651 -1.00796 1.00651001104 -1.00795785082\n",
      "0.0 9.0 1.002617 -1.00406 1.00261649286 -1.00405675399\n"
     ]
    }
   ],
   "source": [
    "xout_fit = []\n",
    "yout_fit = []\n",
    "\n",
    "xout_fit = px1(xin,yin)\n",
    "yout_fit = py1(xin,yin)\n",
    "        \n",
    "# compare\n",
    "for i in range(10):\n",
    "        print(xin[i],yin[i],xout[i],yout[i],xout_fit[i],yout_fit[i])\n"
   ]
  },
  {
   "cell_type": "code",
   "execution_count": 21,
   "metadata": {},
   "outputs": [],
   "source": [
    "#plt.figure(figsize=(6,6))\n",
    "#plt.plot(xin,yin)"
   ]
  },
  {
   "cell_type": "code",
   "execution_count": 22,
   "metadata": {},
   "outputs": [],
   "source": [
    "#plt.figure(figsize=(6,6))\n",
    "#plt.plot(xout_fit,yout_fit)"
   ]
  },
  {
   "cell_type": "code",
   "execution_count": 23,
   "metadata": {},
   "outputs": [],
   "source": [
    "#plt.figure(figsize=(6,6))\n",
    "#plt.plot(xout_fit,yout_fit)"
   ]
  },
  {
   "cell_type": "code",
   "execution_count": 24,
   "metadata": {
    "collapsed": true
   },
   "outputs": [],
   "source": [
    "def len_slits(TargetData,SlitData,InputData):\n",
    "    sdat=SlitData.copy()\n",
    "    bufx=[]\n",
    "    bufi=[]\n",
    "    for i in range(len(SlitData)):\n",
    "        bufx.append(sdat[i]['XARCS'])\n",
    "        bufi.append(sdat[i]['INDEX'])\n",
    "        \n",
    "    s = sorted(zip(bufx,bufi))\n",
    "    bufx,bufi = map(list, zip(*s))\n",
    "    print(len(sdat))\n",
    "    for i in range(len(sdat)-2):\n",
    "        ndx1=bufi[i]\n",
    "        ndx2=bufi[i+1]\n",
    "        index = ndx1\n",
    "\n",
    "        pc1=sdat[ndx1]['PCODE']\n",
    "        pc2=sdat[ndx2]['PCODE']\n",
    "        \n",
    "        # if both are alignment boxes, move on...\n",
    "        if pc1==-2 and pc2==-2:\n",
    "            next\n",
    "            \n",
    "        xlow = sdat[ndx1]['X2']+InputData['SLIT_GAP']\n",
    "        xupp = sdat[ndx2]['X1']-InputData['SLIT_GAP']\n",
    "        xcen = 0.5*(xlow+xupp)\n",
    "        \n",
    "        yas = sdat[ndx1]['Y2']\n",
    "        dxlow = px1(xcen,yas)\n",
    "        yas = sdat[ndx2]['Y1']\n",
    "        dxupp = px1(xcen,yas)\n",
    "        dxavg = 0.5 * (dxupp+dxlow)\n",
    "        dxlow=dxlow-dxavg\n",
    "        dxupp=dxupp-dxavg\n",
    "        #print(\"%6.3f %6.3f\\n\" % (dxlow,dxupp))\n",
    "        if (pc1 == -2):\n",
    "            del1=0\n",
    "            del2=sdat[ndx2]['X1']-xlow-(dxupp-dxlow)\n",
    "        elif (pc2 == -2):\n",
    "            del1=xupp-sdat[ndx1]['X2']+(dxlow-dxupp)\n",
    "            del2=0\n",
    "        else:\n",
    "            del1=xcen-0.5*InputData['SLIT_GAP']-sdat[ndx1]['X2']+dxlow\n",
    "            del2=sdat[ndx2]['X1']-(xcen+0.5*InputData['SLIT_GAP'])-dxupp\n",
    "        #print(del1,del2)\n",
    "        oldx2 = sdat[ndx1]['X2']\n",
    "        sdat[ndx1]['X2']=sdat[ndx1]['X2']+del1\n",
    "        newx2 = sdat[ndx1]['X2']\n",
    "        if ndx1==15 or ndx2==15:\n",
    "            print(index,oldx2,newx2)\n",
    "        if (del1 !=0 and sdat[ndx1]['RELPA'] != \"\"):\n",
    "            tana = np.tan(sdat[ndx1]['RELPA'])\n",
    "            sdat[ndx1]['Y2']=sdat[ndx1]['Y2']+del1*(-1)*tana\n",
    "        sdat[ndx2]['X1']=sdat[ndx2]['X1']-del2\n",
    "        if (del2 !=0 and sdat[ndx2]['RELPA'] != \"\"):\n",
    "            tana = np.tan(sdat[ndx2]['RELPA'])\n",
    "            sdat[ndx2]['Y1']=sdat[ndx2]['Y1']+del2*(-1)*tana\n",
    "    print(len(sdat))\n",
    "    return sdat\n",
    "    \n",
    "def gen_slits(TargetData,InputData):\n",
    "    \n",
    "    SlitData = []\n",
    "    # calculate number of selected targets\n",
    "    nslit = 0\n",
    "    for i in range(len(TargetData)):\n",
    "        if TargetData[0]['SEL']==1:\n",
    "            nslit+=1\n",
    "    # sets up the slits\n",
    "    ndx=0\n",
    "    for i in range(len(TargetData)):\n",
    "        slit = {}\n",
    "        target = TargetData[i]\n",
    "        if target['PCODE'] == CODE_GS:\n",
    "            next\n",
    "        if target['SEL'] == 1:\n",
    "            x = target['XARCS']\n",
    "            y = target['YARCS']\n",
    "            if chk_stat(x,y) == False:\n",
    "                next\n",
    "            slit['INDEX']=ndx\n",
    "            if target['PA']=='':\n",
    "                slit['PA']=InputData['PA_ROT']\n",
    "            else:\n",
    "                slit['PA']=target['PA']\n",
    "            slit['RELPA'] = target['RELPA']\n",
    "            slit['PCODE'] = target['PCODE']\n",
    "            slit['X1'] = target['X1']\n",
    "            slit['X2'] = target['X2']\n",
    "            slit['Y1'] = target['Y1']\n",
    "            slit['Y2'] = target['Y2']\n",
    "            \n",
    "            slit['XARCS'] = target['XARCS']\n",
    "            slit['YARCS'] = target['YARCS']\n",
    "            slit['SLWID'] = target['SLWID']\n",
    "            target['SLNDX'] = ndx\n",
    "            SlitData.append(slit)\n",
    "            ndx=ndx+1\n",
    "            TargetData[i]=target\n",
    "    print(\"Old value: \",SlitData[15]['INDEX'],SlitData[15]['X2'])\n",
    "    SlitDataNew= len_slits(TargetData,SlitData,InputData)\n",
    "    print(\"New value: \",SlitDataNew[15]['INDEX'],SlitDataNew[15]['X2'])\n",
    "    return SlitDataNew\n",
    "        "
   ]
  },
  {
   "cell_type": "code",
   "execution_count": 25,
   "metadata": {},
   "outputs": [
    {
     "name": "stdout",
     "output_type": "stream",
     "text": [
      "Old value:  15 236.76021379\n",
      "107\n",
      "6 232.379013029 228.544708118\n",
      "15 236.76021379 233.024366707\n",
      "107\n",
      "New value:  15 233.024366707\n"
     ]
    }
   ],
   "source": [
    "\n",
    "SlitData=gen_slits(TargetData,InputData)\n"
   ]
  },
  {
   "cell_type": "code",
   "execution_count": 26,
   "metadata": {
    "collapsed": true
   },
   "outputs": [],
   "source": [
    "def sky_coords(SlitData, InputData):\n",
    "    indat = InputData\n",
    "    sdat = SlitData\n",
    "    ra0=indat['RA_TEL']\n",
    "    dec0 = indat['DEC_TEL']\n",
    "    pa0 = indat['PA_ROT']\n",
    "    \n",
    "    for i in range(len(sdat)):\n",
    "        x=0.5*(sdat[i]['X1']+sdat[i]['X2'])\n",
    "        y=0.5*(sdat[i]['Y1']+sdat[i]['Y2'])\n",
    "        \n",
    "        r = np.sqrt(x**2+y**2)\n",
    "        r = np.arctan(r/206264.8)\n",
    "        phi = pa0-np.arctan2(y,x)\n",
    "        sind = np.sin(dec0)*np.cos(r)+np.cos(dec0)*np.sin(r)*np.cos(phi)\n",
    "        sina = np.sin(r)*np.sin(phi)*np.sqrt(1-sind**2)\n",
    "        sdat[i]['DEC']=np.arcsin(sind)\n",
    "        sdat[i]['RA']=ra0+np.arcsin(sina)\n",
    "        \n",
    "        sdat[i]['XARCS'] = 0.5*(sdat[i]['X1']+sdat[i]['X2'])\n",
    "        sdat[i]['YARCS'] = 0.5*(sdat[i]['Y1']+sdat[i]['Y2'])\n",
    "        \n",
    "        x = sdat[i]['X2']-sdat[i]['X1']\n",
    "        y = sdat[i]['Y2']-sdat[i]['Y1']\n",
    "        sdat[i]['LEN1']=0.5*np.sqrt(x**2+y**2)\n",
    "        sdat[i]['LEN2']=sdat[i]['LEN1']\n",
    "    return sdat"
   ]
  },
  {
   "cell_type": "code",
   "execution_count": 27,
   "metadata": {},
   "outputs": [
    {
     "data": {
      "text/plain": [
       "{'DEC': 0.67986838325616761,\n",
       " 'INDEX': 1,\n",
       " 'LEN1': 3.862843274063092,\n",
       " 'LEN2': 3.862843274063092,\n",
       " 'PA': 60,\n",
       " 'PCODE': 16,\n",
       " 'RA': 1.9995627320812983,\n",
       " 'RELPA': 59.127335374002833,\n",
       " 'SLWID': 1,\n",
       " 'X1': 462.75919152145093,\n",
       " 'X2': 466.90953020061437,\n",
       " 'XARCS': 464.83436086103268,\n",
       " 'Y1': 347.81625211780084,\n",
       " 'Y2': 354.33245664867138,\n",
       " 'YARCS': 351.07435438323614}"
      ]
     },
     "execution_count": 27,
     "metadata": {},
     "output_type": "execute_result"
    }
   ],
   "source": [
    "SlitData = sky_coords(SlitData,InputData)\n",
    "SlitData[1]"
   ]
  },
  {
   "cell_type": "code",
   "execution_count": 28,
   "metadata": {},
   "outputs": [],
   "source": [
    "SlitData = tel_coords(InputData,SlitData)"
   ]
  },
  {
   "cell_type": "code",
   "execution_count": 29,
   "metadata": {},
   "outputs": [
    {
     "data": {
      "text/plain": [
       "{'DEC': 0.67986838325616761,\n",
       " 'INDEX': 1,\n",
       " 'LEN1': 3.862843274063092,\n",
       " 'LEN2': 3.862843274063092,\n",
       " 'PA': 60,\n",
       " 'PCODE': 16,\n",
       " 'RA': 1.9995627320812983,\n",
       " 'RELPA': 59.127335374002833,\n",
       " 'SLWID': 1,\n",
       " 'STAT': True,\n",
       " 'X1': 421.47002433141199,\n",
       " 'X2': 429.19571087953818,\n",
       " 'XARCS': 425.33286760547509,\n",
       " 'Y1': 381.75486678621922,\n",
       " 'Y2': 386.63002076613492,\n",
       " 'YARCS': 384.19244377617707}"
      ]
     },
     "execution_count": 29,
     "metadata": {},
     "output_type": "execute_result"
    }
   ],
   "source": [
    "SlitData[1]"
   ]
  },
  {
   "cell_type": "code",
   "execution_count": 39,
   "metadata": {},
   "outputs": [],
   "source": [
    "def gnom_to_dproj(xg,yg):\n",
    "    DIST_C0 = 0\n",
    "    DIST_C2 = -1.111311e-8\n",
    "    rho = np.sqrt(xg**2+yg**2)\n",
    "    cosa=yg/rho\n",
    "    sina=xg/rho\n",
    "    rho = rho * (1.+DIST_C0+DIST_C2*rho**2)\n",
    "    xd = rho*sina\n",
    "    yd = rho*cosa\n",
    "    return xd,yd\n",
    "   \n",
    "def proj_to_mask(xp,yp,ap):\n",
    "\n",
    "\n",
    "    mu = np.arcsin(xp/M_RCURV)\n",
    "    cosm = np.cos(mu)\n",
    "    cost = np.cos(degtorad(M_ANGLE))\n",
    "    tant = np.tan(degtorad(M_ANGLE))\n",
    "    xx = M_RCURV * mu\n",
    "    yy = (yp-ZPT_YM)/cost + M_RCURV*tant*(1-cosm)\n",
    "    \n",
    "    tanpa = np.tan(degtorad(ap))*cosm/cost+tant*xp/M_RCURV\n",
    "    ac = radtodeg(np.arctan(tanpa))\n",
    "    \n",
    "    #spherical image surface height\n",
    "    rho = np.sqrt(xp*xp+yp*yp)\n",
    "    hs = R_IMSURF*(1-np.sqrt(1-(rho/R_IMSURF)**2))\n",
    "    # mask surface height\n",
    "    hm = MASK_HT0 + yy * np.sin(degtorad(M_ANGLE))+M_RCURV*(1-cosm)\n",
    "    #correction\n",
    "    yc = yy + (hs - hm) * yp / PPLDIST / cost\n",
    "    xc = xx + (hs - hm) * xp / PPLDIST / cosm\n",
    "    return xc,yc,ac\n",
    "\n",
    "\n",
    "    "
   ]
  },
  {
   "cell_type": "code",
   "execution_count": 40,
   "metadata": {
    "collapsed": true
   },
   "outputs": [],
   "source": [
    "def mask_coords(SlitData):\n",
    "    asec_rad = 206264.8\n",
    "    \n",
    "    # offset from telescope axis to slitmask origin, in slitmask coordinates\n",
    "    yoff = ZPT_YM*(1-np.cos(degtorad(M_ANGLE)))\n",
    "    yoff = 0 #### CHECK!\n",
    "    xoff = 0\n",
    "    for i in range(len(SlitData)):\n",
    "        sdat = SlitData[i]\n",
    "        if sdat['RELPA']!=\"\":\n",
    "            cosa = np.cos(sdat['RELPA'])\n",
    "            sina = np.sin(sdat['RELPA'])\n",
    "        else:\n",
    "            cosa=1\n",
    "            sina=1\n",
    "\n",
    "        # recalculation, probably not needed\n",
    "        sdat['X1']=sdat['XARCS']-sdat['LEN1']*cosa*(-1)\n",
    "        sdat['Y1']=sdat['YARCS']-sdat['LEN1']*sina\n",
    "        sdat['X2']=sdat['XARCS']+sdat['LEN1']*cosa*(-1)\n",
    "        sdat['Y2']=sdat['YARCS']+sdat['LEN2']*sina\n",
    "    \n",
    "        # x1,y1 are now tan projections\n",
    "        xfp = FL_TEL*sdat['X1']/asec_rad\n",
    "        yfp = FL_TEL*(sdat['Y1']-0.5*sdat['SLWID'])/asec_rad\n",
    "        pa = 0\n",
    "        xfp,yfp = gnom_to_dproj(xfp,yfp)\n",
    "        xsm,ysm,pa = proj_to_mask(xfp,yfp,pa)\n",
    "        sdat['XMM1']=xsm+xoff\n",
    "        sdat['YMM1']=ysm+yoff\n",
    "    \n",
    "        xfp = FL_TEL*sdat['X2']/asec_rad\n",
    "        yfp = FL_TEL*(sdat['Y2']-0.5*sdat['SLWID'])/asec_rad\n",
    "        pa = 0\n",
    "        xfp,yfp = gnom_to_dproj(xfp,yfp)\n",
    "        xsm,ysm,pa = proj_to_mask(xfp,yfp,pa)\n",
    "        sdat['XMM2']=xsm+xoff\n",
    "        sdat['YMM2']=ysm+yoff\n",
    "    \n",
    "        xfp = FL_TEL*sdat['X2']/asec_rad\n",
    "        yfp = FL_TEL*(sdat['Y2']+0.5*sdat['SLWID'])/asec_rad\n",
    "        pa = 0\n",
    "        xfp,yfp = gnom_to_dproj(xfp,yfp)\n",
    "        xsm,ysm,pa = proj_to_mask(xfp,yfp,pa)\n",
    "        sdat['XMM3']=xsm+xoff\n",
    "        sdat['YMM3']=ysm+yoff\n",
    " \n",
    "        xfp = FL_TEL*sdat['X1']/asec_rad\n",
    "        yfp = FL_TEL*(sdat['Y1']+0.5*sdat['SLWID'])/asec_rad\n",
    "        pa = 0\n",
    "        xfp,yfp = gnom_to_dproj(xfp,yfp)\n",
    "        xsm,ysm,pa = proj_to_mask(xfp,yfp,pa)\n",
    "        sdat['XMM4']=xsm+xoff\n",
    "        sdat['YMM4']=ysm+yoff\n",
    "    \n",
    "        # here we should call metal check\n",
    "        SlitData[i]=sdat\n",
    "        \n",
    "    return SlitData\n",
    "    \n"
   ]
  },
  {
   "cell_type": "code",
   "execution_count": 41,
   "metadata": {},
   "outputs": [],
   "source": [
    "SlitData=mask_coords(SlitData)"
   ]
  },
  {
   "cell_type": "code",
   "execution_count": 42,
   "metadata": {},
   "outputs": [
    {
     "data": {
      "text/plain": [
       "{'DEC': 0.67986838325616761,\n",
       " 'INDEX': 1,\n",
       " 'LEN1': 3.862843274063092,\n",
       " 'LEN2': 3.862843274063092,\n",
       " 'PA': 60,\n",
       " 'PCODE': 16,\n",
       " 'RA': 1.9995627320812983,\n",
       " 'RELPA': 59.127335374002833,\n",
       " 'SLWID': 1,\n",
       " 'STAT': True,\n",
       " 'X1': 422.06606975693785,\n",
       " 'X2': 428.59966545401232,\n",
       " 'XARCS': 425.33286760547509,\n",
       " 'XMM1': 308.08225569204632,\n",
       " 'XMM2': 312.87098805937228,\n",
       " 'XMM3': 312.86988193012377,\n",
       " 'XMM4': 308.08116512613276,\n",
       " 'Y1': 382.13099041100799,\n",
       " 'Y2': 386.25389714134616,\n",
       " 'YARCS': 384.19244377617707,\n",
       " 'YMM1': 151.95300580818602,\n",
       " 'YMM2': 155.02838132559876,\n",
       " 'YMM3': 155.75871222459085,\n",
       " 'YMM4': 152.68338155470826}"
      ]
     },
     "execution_count": 42,
     "metadata": {},
     "output_type": "execute_result"
    }
   ],
   "source": [
    "SlitData[1]"
   ]
  },
  {
   "cell_type": "code",
   "execution_count": 58,
   "metadata": {},
   "outputs": [
    {
     "data": {
      "image/png": "[encoded data removed]",
      "text/plain": [
       "<matplotlib.figure.Figure at 0x181e847b38>"
      ]
     },
     "metadata": {},
     "output_type": "display_data"
    }
   ],
   "source": [
    "\n",
    "# plot\n",
    "fig,ax = plt.subplots(1,figsize=(16,8))\n",
    "ax.set_xlim([-200, 400])\n",
    "ax.set_ylim([-150, 200])\n",
    "for slit in SlitData:\n",
    "    p1=[slit['XMM1'],slit['YMM1']]\n",
    "    p2=[slit['XMM2'],slit['YMM2']]\n",
    "    p3=[slit['XMM3'],slit['YMM3']]\n",
    "    p4=[slit['XMM4'],slit['YMM4']]\n",
    "    x = [slit['XMM1'],slit['XMM2'],slit['XMM3'],slit['XMM4'],slit['XMM1']]\n",
    "    y = [slit['YMM1'],slit['YMM2'],slit['YMM3'],slit['YMM4'],slit['YMM1']]\n",
    "    l = mlines.Line2D(x,y)\n",
    "    ax.add_line(l)\n",
    "\n",
    "\n",
    "\n"
   ]
  },
  {
   "cell_type": "code",
   "execution_count": 64,
   "metadata": {},
   "outputs": [
    {
     "data": {
      "image/png": "[encoded data removed]",
      "text/plain": [
       "<matplotlib.figure.Figure at 0x181e217d68>"
      ]
     },
     "metadata": {},
     "output_type": "display_data"
    }
   ],
   "source": [
    "mask_slits = ascii.read('slits')\n",
    "fig,ax = plt.subplots(1,figsize=(16,8))\n",
    "ax.set_xlim([-200, 400])\n",
    "ax.set_ylim([-150, 200])\n",
    "for slit in mask_slits:\n",
    "    x = [slit['slitX1'],slit['slitX2'],slit['slitX3'],slit['slitX4'],slit['slitX1']]\n",
    "    y = [slit['slitY1'],slit['slitY2'],slit['slitY3'],slit['slitY4'],slit['slitY1']]\n",
    "    l = mlines.Line2D(x,y)\n",
    "    ax.add_line(l)"
   ]
  },
  {
   "cell_type": "code",
   "execution_count": null,
   "metadata": {
    "collapsed": true
   },
   "outputs": [],
   "source": []
  }
 ],
 "metadata": {
  "kernelspec": {
   "display_name": "Python 3",
   "language": "python",
   "name": "python3"
  },
  "language_info": {
   "codemirror_mode": {
    "name": "ipython",
    "version": 3
   },
   "file_extension": ".py",
   "mimetype": "text/x-python",
   "name": "python",
   "nbconvert_exporter": "python",
   "pygments_lexer": "ipython3",
   "version": "3.6.3"
  }
 },
 "nbformat": 4,
 "nbformat_minor": 2
}
