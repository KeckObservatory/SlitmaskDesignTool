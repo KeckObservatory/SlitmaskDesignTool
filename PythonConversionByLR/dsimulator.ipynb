{
 "cells": [
  {
   "cell_type": "code",
   "execution_count": 144,
   "metadata": {
    "collapsed": true
   },
   "outputs": [],
   "source": [
    "import os\n",
    "from astropy.io import ascii\n",
    "import math\n",
    "from astropy.coordinates import Angle\n",
    "import numpy as np\n",
    "import matplotlib.pyplot as plt\n",
    "%matplotlib inline"
   ]
  },
  {
   "cell_type": "code",
   "execution_count": 161,
   "metadata": {},
   "outputs": [],
   "source": [
    "ObjectFile = 'n2419c.selected'\n",
    "CenterLine = 'n2419c             7:38:09.20   38:51:12.0  2000.0 PA=50.000 ##'\n",
    "ha0 = 0\n",
    "PA0 = 50\n",
    "blue = 4000\n",
    "red = 9000\n",
    "sep_slit = 2\n",
    "min_slit = 10\n",
    "slit_width = 1\n",
    "equinox = 2000"
   ]
  },
  {
   "cell_type": "markdown",
   "metadata": {},
   "source": [
    "## List any necessary constants here"
   ]
  },
  {
   "cell_type": "code",
   "execution_count": 162,
   "metadata": {
    "collapsed": true
   },
   "outputs": [],
   "source": [
    "CODE_AS = -2\n",
    "PRIMARY = 1\n",
    "FLDCEN_X = 0\n",
    "FLDCEN_Y = 270\n",
    "FLIP = -1\n",
    "YMSKMIN = 187.3\n",
    "YMSKMAX = 479.1\n",
    "XUPP_LIM = 498\n",
    "XLOW_LIM = -498\n",
    "YCAMCEN = 700\n",
    "RADVIGN = 302\n",
    "GAP1CEN =        -254.4          # CCD gap in arcsec -- center\n",
    "GAP1HWD =           5.2          # CCD gap in arcsec -- half-wid\n",
    "GAP2CEN =           0.0          # CCD gap in arcsec -- center\n",
    "GAP2HWD =           5.2          # CCD gap in arcsec -- half-wid\n",
    "GAP3CEN =         254.4          # CCD gap in arcsec -- center\n",
    "GAP3HWD =           5.2          # CCD gap in arcsec -- half-wid\n"
   ]
  },
  {
   "cell_type": "code",
   "execution_count": 163,
   "metadata": {},
   "outputs": [],
   "source": [
    "def degtorad(angle):\n",
    "    return float(angle*np.pi/180)\n",
    "def radtodeg(radians):\n",
    "    return float(radians*57.295779513082320877)\n",
    "def hhmmsstodegrees(hours):\n",
    "    return Angle(str(hours)+' hours').degree\n",
    "def ddmmsstodegrees(dms):\n",
    "    return Angle(str(dms)+ ' degrees').degree"
   ]
  },
  {
   "cell_type": "code",
   "execution_count": 164,
   "metadata": {},
   "outputs": [],
   "source": [
    "def InputDataInit():\n",
    "    InputData={}\n",
    "    InputData['DEF_BOXR']=0.5*4 # arcseconds for alignment boxes\n",
    "    InputData['DEF_SLWID']=1 # default slit width arcseconds\n",
    "    InputData['DEF_HLEN']=5 # minimum slit length\n",
    "    InputData['RA0_FLD']=degtorad(hhmmsstodegrees(CenterLine.split()[1]))\n",
    "    InputData['DEC0_FLD']=degtorad(ddmmsstodegrees(CenterLine.split()[2]))\n",
    "    InputData['HA_FLD']=degtorad(ha0*15)\n",
    "    InputData['PA_ROT']=degtorad(PA0)\n",
    "    InputData['TEMP']=0\n",
    "    InputData['PRES']=600\n",
    "    InputData['WAVER']=7000*1e-4\n",
    "    InputData['WAVEMN']=blue*1e-4\n",
    "    InputData['WAVEMX']=red*1e-4\n",
    "    InputData['SLIT_GAP'] = sep_slit\n",
    "    InputData['DEF_HLEN'] = 0.5 * min_slit\n",
    "    InputData['DEF_SLWID'] = slit_width\n",
    "    InputData['STD_EQX'] = equinox\n",
    "    InputData['RA_FLD']=InputData['RA0_FLD'] # no refraction\n",
    "    InputData['DEC_FLD']=InputData['DEC0_FLD']\n",
    "    InputData['PROJ_LEN']=True\n",
    "    return InputData\n",
    "    "
   ]
  },
  {
   "cell_type": "code",
   "execution_count": 165,
   "metadata": {
    "collapsed": true
   },
   "outputs": [],
   "source": [
    "def TargetInit():\n",
    "    TargetData=[]\n",
    " \n",
    "    data = ascii.read(ObjectFile, format='no_header', names=['id','ra','dec','equinox','mag','band','priority','nlist','selcode','pangle'])\n",
    "    for i in range(len(data)):\n",
    "        Target={}\n",
    "        Target['INDEX']=i\n",
    "        Target['IDSTR']=data['id'][i]\n",
    "        ra0=degtorad(hhmmsstodegrees(data['ra'][i]))\n",
    "        Target['RA0']=ra0\n",
    "        dec0=degtorad(ddmmsstodegrees(data['dec'][i]))\n",
    "        Target['DEC0']=dec0\n",
    "        Target['RA']=Target['RA0'] # no refraction\n",
    "        Target['DEC']=Target['DEC0']\n",
    "        Target['MAG']=data['mag'][i]\n",
    "        Target['PBAND']=data['band'][i][0]\n",
    "        l1=InputData['DEF_HLEN']\n",
    "        l2=InputData['DEF_HLEN']\n",
    "        selcode=0\n",
    "        nlist=PRIMARY\n",
    "        Target['PCODE']=data['priority'][i]\n",
    "        Target['STD_EQX']=data['equinox'][i]\n",
    "        if data['priority'][i]==CODE_AS:\n",
    "                l1 = InputData['DEF_BOXR']\n",
    "                l2 = InputData['DEF_BOXR']\n",
    "        Target['PA']=data['pangle'][i]\n",
    " \n",
    "        if Target['PCODE']==CODE_AS:\n",
    "                print(\"Star %s is an alignment star\" % Target['IDSTR'])\n",
    "                Target['PA']=''\n",
    "                Target['SLWID']=2*InputData['DEF_BOXR']\n",
    "        else:\n",
    "                Target['SLWID']=InputData['DEF_SLWID']\n",
    "        Target['SAMPL']=nlist\n",
    "        Target['SEL']=data['selcode'][i]\n",
    "        \n",
    "        Target['LEN1']=l1\n",
    "        Target['LEN2']=l2\n",
    "        TargetData.append(Target)\n",
    "        \n",
    "    return(TargetData)"
   ]
  },
  {
   "cell_type": "code",
   "execution_count": 166,
   "metadata": {},
   "outputs": [
    {
     "name": "stdout",
     "output_type": "stream",
     "text": [
      "Star N2419-D17 is an alignment star\n",
      "Star N2419-S130 is an alignment star\n",
      "Star N2419-S147 is an alignment star\n",
      "Star N2419-S1601 is an alignment star\n",
      "Star N2419-S1778 is an alignment star\n",
      "Star N2419-S345 is an alignment star\n",
      "{'INDEX': 0, 'IDSTR': 'N2419-D17', 'RA0': 2.0002502972113687, 'DEC0': 0.6796521546776157, 'RA': 2.0002502972113687, 'DEC': 0.6796521546776157, 'MAG': 17.52, 'PBAND': 'I', 'PCODE': -2, 'STD_EQX': 2000, 'PA': '', 'SLWID': 4.0, 'SAMPL': 1, 'SEL': 1, 'LEN1': 2.0, 'LEN2': 2.0}\n"
     ]
    }
   ],
   "source": [
    "# read input data\n",
    "InputData = InputDataInit()\n",
    "# read targets\n",
    "TargetData = TargetInit()\n",
    "print(TargetData[0])"
   ]
  },
  {
   "cell_type": "markdown",
   "metadata": {},
   "source": [
    "## Calculate position with reference to telescope axis"
   ]
  },
  {
   "cell_type": "code",
   "execution_count": 167,
   "metadata": {},
   "outputs": [],
   "source": [
    "def fld2telax(InputData):\n",
    "    r = degtorad(np.sqrt(FLDCEN_X*FLDCEN_X+FLDCEN_Y*FLDCEN_Y)/3600)\n",
    "    pa_fld = np.arctan2(FLDCEN_Y,FLDCEN_X)\n",
    "    cosr = np.cos(r)\n",
    "    sinr = np.sin(r)\n",
    "    cosd = np.cos(InputData['DEC_FLD'])\n",
    "    sind = np.sin(InputData['DEC_FLD'])\n",
    "    cost = np.cos(InputData['PA_ROT']-pa_fld)\n",
    "    sint = np.sin(InputData['PA_ROT']-pa_fld)\n",
    "    sina = sinr*sint/cosd\n",
    "    cosa = np.sqrt(1-sina**2)\n",
    "    InputData['RA_TEL']=InputData['RA_FLD']\n",
    "    InputData['DEC_TEL']=np.arcsin((sind*cosd*cosa-cosr*sinr*cost)/(cosr*cosd*cosa-sinr*sind*cost))\n",
    "    return InputData"
   ]
  },
  {
   "cell_type": "code",
   "execution_count": 168,
   "metadata": {},
   "outputs": [
    {
     "data": {
      "text/plain": [
       "{'DEC0_FLD': 0.6781185920415301,\n",
       " 'DEC_FLD': 0.6781185920415301,\n",
       " 'DEC_TEL': 0.67711612712619529,\n",
       " 'DEF_BOXR': 2.0,\n",
       " 'DEF_HLEN': 5.0,\n",
       " 'DEF_SLWID': 1,\n",
       " 'HA_FLD': 0.0,\n",
       " 'PA_ROT': 0.8726646259971648,\n",
       " 'PRES': 600,\n",
       " 'PROJ_LEN': True,\n",
       " 'RA0_FLD': 1.999071036413438,\n",
       " 'RA_FLD': 1.999071036413438,\n",
       " 'RA_TEL': 1.999071036413438,\n",
       " 'SLIT_GAP': 2,\n",
       " 'STD_EQX': 2000,\n",
       " 'TEMP': 0,\n",
       " 'WAVEMN': 0.4,\n",
       " 'WAVEMX': 0.9,\n",
       " 'WAVER': 0.7000000000000001}"
      ]
     },
     "execution_count": 168,
     "metadata": {},
     "output_type": "execute_result"
    }
   ],
   "source": [
    "InputData = fld2telax(InputData)\n",
    "InputData"
   ]
  },
  {
   "cell_type": "markdown",
   "metadata": {},
   "source": [
    "## Calculate position of targets with reference to telescope axis"
   ]
  },
  {
   "cell_type": "code",
   "execution_count": 169,
   "metadata": {
    "collapsed": true
   },
   "outputs": [],
   "source": [
    "def tel_coords(InputData, TargetData):\n",
    "    ra0 = InputData['RA_TEL']\n",
    "    dec0 = InputData['DEC_TEL']\n",
    "    pa0 = InputData['PA_ROT']\n",
    "    for i in range(len(TargetData)):\n",
    "        target = TargetData[i]\n",
    "        dec_obj = target['DEC']\n",
    "        del_ra = target['RA']-ra0\n",
    "        cosr = np.sin(dec_obj) * np.sin(dec0) + np.cos(dec_obj) * np.cos(dec0) * np.cos(del_ra)\n",
    "        r = np.arccos(cosr)\n",
    "        \n",
    "        sinp = np.cos(dec_obj) * np.sin(del_ra) / np.sqrt(1-cosr*cosr)\n",
    "        cosp = np.sqrt(max((1. - sinp*sinp),0))\n",
    "        if (dec_obj < dec0):\n",
    "                cosp = cosp * -1\n",
    "        p = np.arctan2(sinp, cosp)\n",
    "        \n",
    "        r = np.tan(r)*206264.8\n",
    "\n",
    "\n",
    "        target['XARCS'] = r * np.cos(pa0-p)\n",
    "        target['YARCS'] = r * np.sin(pa0-p)\n",
    "        \n",
    "        if target['PA'] == '':\n",
    "                target['RELPA'] = ''\n",
    "                rangle=0\n",
    "        else:\n",
    "            target['RELPA'] = target['PA']-pa0\n",
    "            rangle = target['RELPA']\n",
    "            \n",
    "        xgeom = FLIP * np.cos(rangle)\n",
    "        ygeom = np.sin(rangle)\n",
    "        \n",
    "        if InputData['PROJ_LEN'] is True:\n",
    "            xgeom = xgeom / np.abs(np.cos(rangle))\n",
    "            ygeom = ygeom / np.abs(np.cos(rangle))\n",
    "            \n",
    "        if xgeom > 0:\n",
    "            target['X1'] = target['XARCS']-target['LEN1']* xgeom\n",
    "            target['Y1'] = target['YARCS']-target['LEN1']* ygeom\n",
    "            target['X2'] = target['XARCS']+target['LEN2']* xgeom\n",
    "            target['Y2'] = target['YARCS']+target['LEN2']* ygeom\n",
    "        else:\n",
    "            target['X2'] = target['XARCS']-target['LEN1']* xgeom\n",
    "            target['Y2'] = target['YARCS']-target['LEN1']* ygeom\n",
    "            target['X1'] = target['XARCS']+target['LEN2']* xgeom\n",
    "            target['Y1'] = target['YARCS']+target['LEN2']* ygeom\n",
    "            \n",
    "        x=target['XARCS']\n",
    "        y=target['YARCS']\n",
    "        target['STAT'] = chk_stat(x,y)\n",
    "        TargetData[i]=target\n",
    "    return TargetData\n",
    "        \n",
    "def chk_stat(x,y):\n",
    "    r = np.sqrt(x**2+y**2)\n",
    "    if r>600:\n",
    "        return False\n",
    "    if y<YMSKMIN:\n",
    "        return False\n",
    "    if y>YMSKMAX:\n",
    "        return False\n",
    "    if x>XUPP_LIM or x<XLOW_LIM:\n",
    "        return False\n",
    "    if x>-0.98273*y+833.0:\n",
    "        return False\n",
    "    if (x**2+(y-YCAMCEN)**2 < RADVIGN**2):\n",
    "        return False\n",
    "    if (np.abs(x-GAP1CEN))< GAP1HWD:\n",
    "            return False\n",
    "    if (np.abs(x-GAP2CEN))< GAP2HWD:\n",
    "            return False\n",
    "    if (np.abs(x-GAP3CEN))< GAP3HWD:\n",
    "            return False\n",
    "        \n",
    "    return True\n",
    "    \n",
    "                \n",
    "        "
   ]
  },
  {
   "cell_type": "code",
   "execution_count": 170,
   "metadata": {},
   "outputs": [
    {
     "data": {
      "text/plain": [
       "{'DEC': 0.6796521546776157,\n",
       " 'DEC0': 0.6796521546776157,\n",
       " 'IDSTR': 'N2419-D17',\n",
       " 'INDEX': 0,\n",
       " 'LEN1': 2.0,\n",
       " 'LEN2': 2.0,\n",
       " 'MAG': 17.52,\n",
       " 'PA': '',\n",
       " 'PBAND': 'I',\n",
       " 'PCODE': -2,\n",
       " 'RA': 2.0002502972113687,\n",
       " 'RA0': 2.0002502972113687,\n",
       " 'RELPA': '',\n",
       " 'SAMPL': 1,\n",
       " 'SEL': 1,\n",
       " 'SLWID': 4.0,\n",
       " 'STAT': True,\n",
       " 'STD_EQX': 2000,\n",
       " 'X1': 479.2120477872989,\n",
       " 'X2': 483.2120477872989,\n",
       " 'XARCS': 481.2120477872989,\n",
       " 'Y1': 279.15783555606924,\n",
       " 'Y2': 279.15783555606924,\n",
       " 'YARCS': 279.15783555606924}"
      ]
     },
     "execution_count": 170,
     "metadata": {},
     "output_type": "execute_result"
    }
   ],
   "source": [
    "TargetData = tel_coords(InputData, TargetData)\n",
    "TargetData[0]"
   ]
  },
  {
   "cell_type": "code",
   "execution_count": 171,
   "metadata": {},
   "outputs": [],
   "source": [
    "x = [x['XARCS'] for x in TargetData]\n",
    "y = [x['YARCS'] for x in TargetData]"
   ]
  },
  {
   "cell_type": "code",
   "execution_count": 173,
   "metadata": {},
   "outputs": [
    {
     "data": {
      "text/plain": [
       "(0, 400)"
      ]
     },
     "execution_count": 173,
     "metadata": {},
     "output_type": "execute_result"
    },
    {
     "data": {
      "image/png": "[encoded data removed]",
      "text/plain": [
       "<matplotlib.figure.Figure at 0x112d12c88>"
      ]
     },
     "metadata": {},
     "output_type": "display_data"
    }
   ],
   "source": [
    "plt.figure(figsize=(16,8))\n",
    "plt.plot(x,y,'o')\n",
    "plt.xlim(-400,700)\n",
    "plt.ylim(0,400)"
   ]
  },
  {
   "cell_type": "code",
   "execution_count": null,
   "metadata": {
    "collapsed": true
   },
   "outputs": [],
   "source": []
  }
 ],
 "metadata": {
  "kernelspec": {
   "display_name": "Python 3",
   "language": "python",
   "name": "python3"
  },
  "language_info": {
   "codemirror_mode": {
    "name": "ipython",
    "version": 3
   },
   "file_extension": ".py",
   "mimetype": "text/x-python",
   "name": "python",
   "nbconvert_exporter": "python",
   "pygments_lexer": "ipython3",
   "version": "3.6.3"
  }
 },
 "nbformat": 4,
 "nbformat_minor": 2
}
