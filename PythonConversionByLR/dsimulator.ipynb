{
 "cells": [
  {
   "cell_type": "code",
   "execution_count": 1,
   "metadata": {},
   "outputs": [],
   "source": [
    "import os\n",
    "from astropy.io import ascii\n",
    "import math\n",
    "from astropy.coordinates import Angle\n",
    "import numpy as np\n",
    "import matplotlib.pyplot as plt\n",
    "import matplotlib.lines as mlines\n",
    "%matplotlib inline\n",
    "from astropy.modeling import models, fitting\n",
    "from astropy import units as u\n"
   ]
  },
  {
   "cell_type": "markdown",
   "metadata": {},
   "source": [
    "## List any necessary constants here"
   ]
  },
  {
   "cell_type": "code",
   "execution_count": 2,
   "metadata": {},
   "outputs": [],
   "source": [
    "CODE_AS = -2\n",
    "CODE_GS = -1\n",
    "PRIMARY = 1\n",
    "FLDCEN_X = 0\n",
    "FLDCEN_Y = 270\n",
    "FLIP = -1\n",
    "YMSKMIN = 187.3\n",
    "YMSKMAX = 479.1\n",
    "XUPP_LIM = 498\n",
    "XLOW_LIM = -498\n",
    "YCAMCEN = 700\n",
    "RADVIGN = 302\n",
    "GAP1CEN =        -254.4          # CCD gap in arcsec -- center\n",
    "GAP1HWD =           5.2          # CCD gap in arcsec -- half-wid\n",
    "GAP2CEN =           0.0          # CCD gap in arcsec -- center\n",
    "GAP2HWD =           5.2          # CCD gap in arcsec -- half-wid\n",
    "GAP3CEN =         254.4          # CCD gap in arcsec -- center\n",
    "GAP3HWD =           5.2          # CCD gap in arcsec -- half-wid\n",
    "M_RCURV = 2120.9\n",
    "R_IMSURF = 2133.6\n",
    "M_ANGLE = 6.0\n",
    "ZPT_YM = 128.803 # Dist to tel.axis, in SMCS-XXX (mm) 5.071in\n",
    "MASK_HT0 = 3.378\n",
    "PPLDIST  = 20018.4\n",
    "FL_TEL  =150327.0\n"
   ]
  },
  {
   "cell_type": "code",
   "execution_count": 3,
   "metadata": {},
   "outputs": [],
   "source": [
    "# Auxiliary functions to deal with angles\n",
    "\n",
    "def degtorad(angle):\n",
    "    return float(angle*np.pi/180)\n",
    "def radtodeg(radians):\n",
    "    return float(radians*57.295779513082320877)\n",
    "def hhmmsstodegrees(hours):\n",
    "    return Angle(str(hours)+' hours').degree\n",
    "def ddmmsstodegrees(dms):\n",
    "    return Angle(str(dms)+ ' degrees').degree\n",
    "def degreestohhmmss(degrees):\n",
    "    return Angle(str(degrees)+' degrees').to_string(unit=u.hour,sep=\":\")\n",
    "def degreestoddmmss(degrees):\n",
    "    return Angle(str(degrees)+' degrees').to_string(unit=u.degree, sep=\":\")"
   ]
  },
  {
   "cell_type": "code",
   "execution_count": 4,
   "metadata": {},
   "outputs": [],
   "source": [
    "# Replaces some of the calls to \"epar dsimulator\"\n",
    "# the center of the mask is read from the variable \"CenterLine\"\n",
    "\n",
    "def InputDataInit():\n",
    "    InputData={}\n",
    "    InputData['DEF_BOXR']=0.5*4 # arcseconds for alignment boxes\n",
    "    InputData['DEF_SLWID']=1 # default slit width arcseconds\n",
    "    InputData['DEF_HLEN']=5 # minimum slit length\n",
    "    InputData['RA0_FLD']=degtorad(hhmmsstodegrees(CenterLine.split()[1]))\n",
    "    InputData['DEC0_FLD']=degtorad(ddmmsstodegrees(CenterLine.split()[2]))\n",
    "    InputData['HA_FLD']=degtorad(ha0*15)\n",
    "    InputData['PA_ROT']=degtorad(PA0)\n",
    "    InputData['TEMP']=0\n",
    "    InputData['PRES']=600\n",
    "    InputData['WAVER']=7000*1e-4\n",
    "    InputData['WAVEMN']=blue*1e-4\n",
    "    InputData['WAVEMX']=red*1e-4\n",
    "    InputData['SLIT_GAP'] = sep_slit\n",
    "    InputData['DEF_HLEN'] = 0.5 * min_slit\n",
    "    InputData['DEF_SLWID'] = slit_width\n",
    "    InputData['STD_EQX'] = equinox\n",
    "    InputData['RA_FLD']=InputData['RA0_FLD'] # no refraction\n",
    "    InputData['DEC_FLD']=InputData['DEC0_FLD']\n",
    "    InputData['PROJ_LEN']=True\n",
    "    return InputData\n",
    "    "
   ]
  },
  {
   "cell_type": "code",
   "execution_count": 5,
   "metadata": {},
   "outputs": [],
   "source": [
    "# Reads the input file with targets, makes some angle transformation, creates the target structure\n",
    "\n",
    "def TargetInit():\n",
    "    TargetData=[]\n",
    " \n",
    "    data = ascii.read(ObjectFile, format='no_header', names=['id','ra','dec','equinox','mag','band','priority','nlist','selcode','pangle'])\n",
    "    for i in range(len(data)):\n",
    "        Target={}\n",
    "        Target['INDEX']=i\n",
    "        Target['IDSTR']=data['id'][i]\n",
    "        ra0=degtorad(hhmmsstodegrees(data['ra'][i]))\n",
    "        Target['RA0']=ra0\n",
    "        dec0=degtorad(ddmmsstodegrees(data['dec'][i]))\n",
    "        Target['DEC0']=dec0\n",
    "        Target['RA']=Target['RA0'] # no refraction\n",
    "        Target['DEC']=Target['DEC0']\n",
    "        Target['MAG']=data['mag'][i]\n",
    "        Target['PBAND']=data['band'][i][0]\n",
    "        l1=InputData['DEF_HLEN']\n",
    "        l2=InputData['DEF_HLEN']\n",
    "        selcode=0\n",
    "        nlist=PRIMARY\n",
    "        Target['PCODE']=data['priority'][i]\n",
    "        Target['STD_EQX']=data['equinox'][i]\n",
    "        if data['priority'][i]==CODE_AS:\n",
    "                l1 = InputData['DEF_BOXR']\n",
    "                l2 = InputData['DEF_BOXR']\n",
    "        Target['PA']=data['pangle'][i]\n",
    " \n",
    "        if Target['PCODE']==CODE_AS:\n",
    "                print(\"Star %s is an alignment star\" % Target['IDSTR'])\n",
    "                Target['PA']=''\n",
    "                Target['SLWID']=2*InputData['DEF_BOXR']\n",
    "        else:\n",
    "                Target['SLWID']=InputData['DEF_SLWID']\n",
    "        Target['SAMPL']=nlist\n",
    "        Target['SEL']=data['selcode'][i]\n",
    "        \n",
    "        Target['LEN1']=l1\n",
    "        Target['LEN2']=l2\n",
    "        TargetData.append(Target)\n",
    "        \n",
    "    return(TargetData)"
   ]
  },
  {
   "cell_type": "markdown",
   "metadata": {},
   "source": [
    "## Create example data\n",
    "The data is obtained by connecting to the UCO/LICK database and retrieving the tabular information for one of the masks.\n",
    "The input coordinates are not in the exact same format that a user would input, but they can be retrieved"
   ]
  },
  {
   "cell_type": "code",
   "execution_count": 23,
   "metadata": {},
   "outputs": [],
   "source": [
    "ObjectFile = 'example/objects_selected_standard_format'\n",
    "CenterLine = 'n2419c   17:33:19.5  68:01:12  2000.0 PA=180.000 ##'\n",
    "ObjectFile = 'n2419c.selected'\n",
    "CenterLine = 'n2419c             7:38:09.20   38:51:12.0  2000.0 PA=50.000 ##'\n",
    "ha0 = 0\n",
    "PA0 = 180 # this is for the file called objects_selected_standard_format\n",
    "PA0 = 50\n",
    "blue = 4000\n",
    "red = 9000\n",
    "sep_slit = 2\n",
    "min_slit = 25\n",
    "slit_width = 1\n",
    "equinox = 2000\n",
    "# read some example downloaded from the slitmask database\n",
    "objects = ascii.read('example/objects')\n",
    "slitobjmap = ascii.read('example/slitobjmap')\n",
    "desislit = ascii.read('example/desislit')\n",
    "bluslits = ascii.read('example/bluslits')\n",
    "# convert example input objects into standard format\n",
    "ra = [degreestohhmmss(x['RA_OBJ']) for x in objects]\n",
    "dec = [degreestoddmmss(x['DEC_OBJ']) for x in objects]\n",
    "pa=0\n",
    "priority=[]\n",
    "for i in range(len(objects)):\n",
    "    if objects[i]['ObjClass']=='Alignment_Star':\n",
    "        priority.append(-2)\n",
    "    else:\n",
    "        priority.append(100)\n",
    " \n",
    "\n",
    "#the file retrieved from the database is written back to disk in the expected input format that a user might provide\n",
    "\n",
    "fd = open('example/objects_selected_standard_format','w')\n",
    "for i in range(len(objects)):\n",
    "    object = objects[i]\n",
    "    fd.write(\"%s %s %s %f %f I %d 1 1 %f\\n\" % (object['ObjectId'],ra[i],dec[i],object['EQUINOX'],object['mag'],priority[i], pa))\n",
    "    \n",
    "fd.close()   "
   ]
  },
  {
   "cell_type": "markdown",
   "metadata": {},
   "source": [
    "## Read input targets and input data"
   ]
  },
  {
   "cell_type": "code",
   "execution_count": 24,
   "metadata": {},
   "outputs": [
    {
     "name": "stdout",
     "output_type": "stream",
     "text": [
      "Star N2419-D17 is an alignment star\n",
      "Star N2419-S130 is an alignment star\n",
      "Star N2419-S147 is an alignment star\n",
      "Star N2419-S1601 is an alignment star\n",
      "Star N2419-S1778 is an alignment star\n",
      "Star N2419-S345 is an alignment star\n"
     ]
    }
   ],
   "source": [
    "# read input data\n",
    "InputData = InputDataInit()\n",
    "# read targets\n",
    "TargetData = TargetInit()"
   ]
  },
  {
   "cell_type": "markdown",
   "metadata": {},
   "source": [
    "## Calculate position with reference to telescope axis (field center)"
   ]
  },
  {
   "cell_type": "code",
   "execution_count": 25,
   "metadata": {},
   "outputs": [],
   "source": [
    "def fld2telax(InputData):\n",
    "    # this is taken from dsim.x, procedure fld2telax\n",
    "    # FLD2TELAX:  from field center and rotator PA, calc coords of telescope axis    \n",
    "    # FLDCEN_X = 0\n",
    "    # FLDCEN_Y = 0\n",
    "    r = degtorad(np.sqrt(FLDCEN_X*FLDCEN_X+FLDCEN_Y*FLDCEN_Y)/3600)\n",
    "    pa_fld = np.arctan2(FLDCEN_Y,FLDCEN_X)\n",
    "    cosr = np.cos(r)\n",
    "    sinr = np.sin(r)\n",
    "    #\n",
    "    cosd = np.cos(InputData['DEC_FLD']) # this is the declination of the center of the field\n",
    "    sind = np.sin(InputData['DEC_FLD']) # same\n",
    "    # pa_fld\n",
    "    cost = np.cos(InputData['PA_ROT']-pa_fld) # pa_fld is calculated above as arctan(Fldcen_y/fldcen_x)\n",
    "    sint = np.sin(InputData['PA_ROT']-pa_fld)\n",
    "    sina = sinr*sint/cosd\n",
    "    cosa = np.sqrt(1-sina**2)\n",
    "    InputData['RA_TEL']=InputData['RA_FLD']-np.arcsin(sina)\n",
    "    InputData['DEC_TEL']=np.arcsin((sind*cosd*cosa-cosr*sinr*cost)/(cosr*cosd*cosa-sinr*sind*cost))\n",
    "    return InputData"
   ]
  },
  {
   "cell_type": "code",
   "execution_count": 26,
   "metadata": {},
   "outputs": [
    {
     "name": "stdout",
     "output_type": "stream",
     "text": [
      "Before:\n",
      "{'DEF_BOXR': 2.0, 'DEF_SLWID': 1, 'DEF_HLEN': 12.5, 'RA0_FLD': 1.999071036413438, 'DEC0_FLD': 0.6781185920415301, 'HA_FLD': 0.0, 'PA_ROT': 0.8726646259971648, 'TEMP': 0, 'PRES': 600, 'WAVER': 0.7000000000000001, 'WAVEMN': 0.4, 'WAVEMX': 0.9, 'SLIT_GAP': 2, 'STD_EQX': 2000, 'RA_FLD': 1.999071036413438, 'DEC_FLD': 0.6781185920415301, 'PROJ_LEN': True}\n",
      "After:\n",
      "{'DEF_BOXR': 2.0, 'DEF_SLWID': 1, 'DEF_HLEN': 12.5, 'RA0_FLD': 1.999071036413438, 'DEC0_FLD': 0.6781185920415301, 'HA_FLD': 0.0, 'PA_ROT': 0.8726646259971648, 'TEMP': 0, 'PRES': 600, 'WAVER': 0.7000000000000001, 'WAVEMN': 0.4, 'WAVEMX': 0.9, 'SLIT_GAP': 2, 'STD_EQX': 2000, 'RA_FLD': 1.999071036413438, 'DEC_FLD': 0.6781185920415301, 'PROJ_LEN': True, 'RA_TEL': 2.000151488712942, 'DEC_TEL': 0.6771161271261953}\n"
     ]
    }
   ],
   "source": [
    "# input data before the transformation looks like this:\n",
    "print(\"Before:\\n\"+str(InputData))\n",
    "InputData = fld2telax(InputData)\n",
    "print(\"After:\\n\"+str(InputData))"
   ]
  },
  {
   "cell_type": "markdown",
   "metadata": {},
   "source": [
    "The result is to add two fields, RA_TEL and DEC_TEL"
   ]
  },
  {
   "cell_type": "code",
   "execution_count": 27,
   "metadata": {},
   "outputs": [
    {
     "data": {
      "image/png": "[encoded data removed]",
      "text/plain": [
       "<Figure size 720x720 with 1 Axes>"
      ]
     },
     "metadata": {},
     "output_type": "display_data"
    }
   ],
   "source": [
    "plt.figure(figsize=(10,10))\n",
    "x=[radtodeg(InputData['RA_FLD'])/15,radtodeg(InputData['RA_TEL'])/15]\n",
    "y=[radtodeg(InputData['DEC_FLD']),radtodeg(InputData['DEC_FLD'])]\n",
    "plt.plot(x,y,\"o\")\n",
    "plt.show()"
   ]
  },
  {
   "cell_type": "markdown",
   "metadata": {},
   "source": [
    "## Calculate position of targets with reference to telescope axis (Targets)"
   ]
  },
  {
   "cell_type": "code",
   "execution_count": 28,
   "metadata": {},
   "outputs": [],
   "source": [
    "def tel_coords(InputData, TargetData):\n",
    "    # this procedure comes from dsim2.x\n",
    "    #\n",
    "    # TEL_COORDS: Convert (refracted) alpha,dec into offsets from telescope center.\n",
    "    #\n",
    "    ra0 = InputData['RA_TEL']\n",
    "    dec0 = InputData['DEC_TEL']\n",
    "    pa0 = InputData['PA_ROT']\n",
    "    for i in range(len(TargetData)):\n",
    "        target = TargetData[i]   # I do this to avoid the notation TargetData[i]\n",
    "        try:\n",
    "            dec_obj = target['DEC']\n",
    "        except:\n",
    "            print(\"Target is missing some values\")\n",
    "            print(target)\n",
    "            return\n",
    "        del_ra = target['RA']-ra0\n",
    "        cosr = np.sin(dec_obj) * np.sin(dec0) + np.cos(dec_obj) * np.cos(dec0) * np.cos(del_ra)\n",
    "        r = np.arccos(cosr)\n",
    "        \n",
    "        sinp = np.cos(dec_obj) * np.sin(del_ra) / np.sqrt(1-cosr*cosr)\n",
    "        cosp = np.sqrt(max((1. - sinp*sinp),0))\n",
    "        if (dec_obj < dec0):\n",
    "                cosp = cosp * -1\n",
    "        p = np.arctan2(sinp, cosp)\n",
    "        # For now, convert radii to arcsec XXX\n",
    "        # XXX NB: I am not sure this is correct!  We should still be on SPHERICAL surf.\n",
    "        # \tbut these are EUCLIDEAN relations.  Options: work in spherical coord\n",
    "        #\tOR work in tan projection.\n",
    "        # More:  The difference at 10 arcmin between the tan and angle is < 0.002 arcsec\n",
    "        # If we convert \"r\" to tan(r) we should have the tan projection       \n",
    "        r = np.tan(r)*206264.8\n",
    "\n",
    "        target['XARCS'] = r * np.cos(pa0-p)\n",
    "        target['YARCS'] = r * np.sin(pa0-p)\n",
    "        \n",
    "        if target['PA'] == '':\n",
    "                target['RELPA'] = ''\n",
    "                rangle=0\n",
    "        else:\n",
    "            target['RELPA'] = target['PA']-pa0\n",
    "            rangle = target['RELPA']\n",
    "        # For simplicity, we calculate the endpoints in X here; note use of FLIP   \n",
    "        xgeom = FLIP * np.cos(rangle)\n",
    "        ygeom = np.sin(rangle)\n",
    "        \n",
    "        if InputData['PROJ_LEN'] is True:\n",
    "            xgeom = xgeom / np.abs(np.cos(rangle))\n",
    "            ygeom = ygeom / np.abs(np.cos(rangle))\n",
    "        # We always want X1 < X2, so:    \n",
    "        if xgeom > 0:\n",
    "            target['X1'] = target['XARCS']-target['LEN1']* xgeom\n",
    "            target['Y1'] = target['YARCS']-target['LEN1']* ygeom\n",
    "            target['X2'] = target['XARCS']+target['LEN2']* xgeom\n",
    "            target['Y2'] = target['YARCS']+target['LEN2']* ygeom\n",
    "        else:\n",
    "            target['X2'] = target['XARCS']-target['LEN1']* xgeom\n",
    "            target['Y2'] = target['YARCS']-target['LEN1']* ygeom\n",
    "            target['X1'] = target['XARCS']+target['LEN2']* xgeom\n",
    "            target['Y1'] = target['YARCS']+target['LEN2']* ygeom\n",
    "            \n",
    "        x=target['XARCS']\n",
    "        y=target['YARCS']\n",
    "        #print(x,y)\n",
    "        target['STAT'] = chk_stat(x,y)\n",
    "        TargetData[i]=target\n",
    "    return TargetData\n",
    "        \n",
    "def chk_stat(x,y):\n",
    "    r = np.sqrt(x**2+y**2)\n",
    "    if r>600:\n",
    "        #print(\"case1\")\n",
    "        return False\n",
    "    if y<YMSKMIN:\n",
    "        #print(\"case2\")\n",
    "        return False\n",
    "    if y>YMSKMAX:\n",
    "        #print(\"case3\")\n",
    "        return False\n",
    "    if x>XUPP_LIM or x<XLOW_LIM:\n",
    "        #print(\"case4\")\n",
    "        return False\n",
    "    if x>-0.98273*y+833.0:\n",
    "        #print(\"case5\")\n",
    "        return False\n",
    "    if (x**2+(y-YCAMCEN)**2 < RADVIGN**2):\n",
    "        #print(\"case6\")\n",
    "        return False\n",
    "    if (np.abs(x-GAP1CEN))< GAP1HWD:\n",
    "            #print(\"case7\")\n",
    "            return False\n",
    "    if (np.abs(x-GAP2CEN))< GAP2HWD:\n",
    "            #print(\"case8\")\n",
    "            return False\n",
    "    if (np.abs(x-GAP3CEN))< GAP3HWD:\n",
    "            #print(\"case9\")\n",
    "            return False\n",
    "        \n",
    "    return True\n",
    "    \n",
    "                \n",
    "        "
   ]
  },
  {
   "cell_type": "code",
   "execution_count": 29,
   "metadata": {},
   "outputs": [],
   "source": [
    "# Apply the conversion between sky coordinates and the distance in arcseconds from the telescope axis\n",
    "TargetData = tel_coords(InputData, TargetData)\n"
   ]
  },
  {
   "cell_type": "code",
   "execution_count": 30,
   "metadata": {},
   "outputs": [],
   "source": [
    "# read focal plane info\n",
    "fp = open('foc_plane.dat')\n",
    "lines = fp.readlines()\n",
    "fp.close()\n",
    "xfocalp,yfocalp,pen=[],[],[]\n",
    "for  line in lines:\n",
    "    args=line.split()\n",
    "    if len(args)<2:\n",
    "        continue\n",
    "    if len(args)<3 and len(args)>1:\n",
    "        xfocalp.append(float(args[0]))\n",
    "        yfocalp.append(float(args[1]))\n",
    "        pen.append(-1)\n",
    "    else:\n",
    "        xfocalp.append(float(args[0]))\n",
    "        yfocalp.append(float(args[1]))\n",
    "        pen.append(int(args[2]))\n",
    "def draw_focal_plane(ax):\n",
    "    for i in range(len(xfocalp)):\n",
    "        # if the pen is 0, then this is the first point of the line\n",
    "        if pen[i]==0:\n",
    "            x1=xfocalp[i]\n",
    "            y1=yfocalp[i]\n",
    "            continue\n",
    "        # if the pen is not zero, then connect from the previous point\n",
    "        if pen[i]!=0:\n",
    "            x2=xfocalp[i]\n",
    "            y2=yfocalp[i]\n",
    "            l=mlines.Line2D([x1,x2],[y1,y2])\n",
    "            x1=x2\n",
    "            y1=y2\n",
    "            ax.add_line(l)"
   ]
  },
  {
   "cell_type": "code",
   "execution_count": 31,
   "metadata": {},
   "outputs": [
    {
     "data": {
      "image/png": "[encoded data removed]",
      "text/plain": [
       "<Figure size 1152x576 with 1 Axes>"
      ]
     },
     "metadata": {},
     "output_type": "display_data"
    }
   ],
   "source": [
    "xslit = [x['XARCS'] for x in TargetData if x['PCODE']!=-2]\n",
    "yslit = [x['YARCS'] for x in TargetData if x['PCODE']!=-2]\n",
    "xalign = [x['XARCS'] for x in TargetData if x['PCODE']==-2]\n",
    "yalign = [x['YARCS'] for x in TargetData if x['PCODE']==-2]\n",
    "xra = [radtodeg(x['RA'])/15 for x in TargetData]\n",
    "ydec = [radtodeg(x['DEC']) for x in TargetData]\n",
    "f1,ax1=plt.subplots(1,figsize=(16,8))\n",
    "ax1.plot(xslit,yslit,'+')\n",
    "ax1.plot(xalign,yalign,'o')\n",
    "YMSKMIN = 187.3\n",
    "YMSKMAX = 479.1\n",
    "XUPP_LIM = 498\n",
    "XLOW_LIM = -498\n",
    "ax1.set_xlim(XLOW_LIM,XUPP_LIM)\n",
    "ax1.set_ylim(YMSKMIN,YMSKMAX)\n",
    "draw_focal_plane(ax1)\n",
    "        \n",
    "# calculation of limits:\n",
    "# deimos field of view is 8x16 arcmin = 480 x 960 arcseconds, and it is centered 270 arcseconds away from the telescope axis\n",
    "\n",
    "#plt.xlim(-400,400)\n",
    "#plt.ylim(0+270,400+270)"
   ]
  },
  {
   "cell_type": "code",
   "execution_count": 32,
   "metadata": {},
   "outputs": [
    {
     "data": {
      "image/png": "[encoded data removed]",
      "text/plain": [
       "<Figure size 432x288 with 2 Axes>"
      ]
     },
     "metadata": {},
     "output_type": "display_data"
    }
   ],
   "source": [
    "f,(ax1,ax2) = plt.subplots(2)\n",
    "ax1.plot(xslit,yslit,'+')\n",
    "ax1.plot(xalign,yalign,'o')\n",
    "ax2.plot(ydec,xra,'.')\n",
    "draw_focal_plane(ax1)\n",
    "(xmin,xmax)=ax2.get_xlim()\n",
    "ax2.set_xlim(xmax,xmin)\n",
    "ax2.set_xlabel('DEC')\n",
    "ax2.set_ylabel('RA')\n",
    "#ax2.set_xlim(17.568,17.550)\n",
    "#ax2.set_ylim(68.15,67.85)\n",
    "#plt.figure(figsize=(16,8))\n",
    "#plt.plot(xslit,yslit,'+')\n",
    "#plt.plot(xalign,yalign,'o')\n",
    "#plt.xlim(-400,400)\n",
    "#plt.ylim(0,400)\n",
    "plt.show()"
   ]
  },
  {
   "cell_type": "code",
   "execution_count": 33,
   "metadata": {},
   "outputs": [
    {
     "name": "stderr",
     "output_type": "stream",
     "text": [
      "WARNING: Model is linear in parameters; consider using linear fitting methods. [astropy.modeling.fitting]\n"
     ]
    }
   ],
   "source": [
    "# calculate 2D polynomial\n",
    "fd = open('input.dat')\n",
    "lines = fd.readlines()\n",
    "fd.close()\n",
    "xin = []\n",
    "yin = []\n",
    "for line in lines:\n",
    "    p = line.split()\n",
    "    xin.append(float(p[0]))\n",
    "    yin.append(float(p[1]))\n",
    "\n",
    "fd = open('output.dat')\n",
    "lines = fd.readlines()\n",
    "fd.close()\n",
    "xout = []\n",
    "yout = []\n",
    "for line in lines:\n",
    "    p = line.split()\n",
    "    xout.append(float(p[0]))\n",
    "    yout.append(float(p[1]))\n",
    "\n",
    "px_init = models.Polynomial2D(degree=4)\n",
    "fit_px = fitting.LevMarLSQFitter()\n",
    "px1 = fit_px(px_init,xin,yin,xout)\n",
    "py_init = models.Polynomial2D(degree=3)\n",
    "fit_py = fitting.LevMarLSQFitter()\n",
    "py1 = fit_py(py_init,xin,yin,yout)\n"
   ]
  },
  {
   "cell_type": "code",
   "execution_count": 34,
   "metadata": {},
   "outputs": [
    {
     "name": "stdout",
     "output_type": "stream",
     "text": [
      "[ 1.03767274e+00 -2.18808149e-03  7.37670550e-08 -2.01076027e-11\n",
      "  2.74918216e-15 -3.89696055e-03  2.02511462e-07 -1.62138047e-12\n",
      "  8.10897848e-15  3.13514189e-07  2.88432985e-08 -3.72487474e-15\n",
      " -2.85152369e-10  2.37128749e-13 -2.41487157e-13]\n",
      "[-1.03918214e+00  1.00220205e+00 -6.72056480e-08 -7.98200666e-12\n",
      "  3.90475878e-03 -2.15396384e-07 -9.58987366e-13 -3.20708206e-07\n",
      " -2.89136300e-08  2.32104252e-10]\n"
     ]
    }
   ],
   "source": [
    "print(px1.parameters)\n",
    "print(py1.parameters)\n"
   ]
  },
  {
   "cell_type": "code",
   "execution_count": 35,
   "metadata": {},
   "outputs": [
    {
     "data": {
      "text/plain": [
       "[<matplotlib.lines.Line2D at 0xb1d1706a0>]"
      ]
     },
     "execution_count": 35,
     "metadata": {},
     "output_type": "execute_result"
    },
    {
     "data": {
      "image/png": "[encoded data removed]",
      "text/plain": [
       "<Figure size 432x432 with 1 Axes>"
      ]
     },
     "metadata": {},
     "output_type": "display_data"
    }
   ],
   "source": [
    "plt.figure(figsize=(6,6))\n",
    "plt.plot(xin,yin)"
   ]
  },
  {
   "cell_type": "code",
   "execution_count": 36,
   "metadata": {},
   "outputs": [
    {
     "data": {
      "text/plain": [
       "[<matplotlib.lines.Line2D at 0xb1d46bc88>]"
      ]
     },
     "execution_count": 36,
     "metadata": {},
     "output_type": "execute_result"
    },
    {
     "data": {
      "image/png": "[encoded data removed]",
      "text/plain": [
       "<Figure size 432x432 with 1 Axes>"
      ]
     },
     "metadata": {},
     "output_type": "display_data"
    }
   ],
   "source": [
    "xout_fit = px1(xin,yin)\n",
    "yout_fit = py1(xin,yin)\n",
    "plt.figure(figsize=(6,6))\n",
    "plt.plot(xout_fit,yout_fit)"
   ]
  },
  {
   "cell_type": "markdown",
   "metadata": {
    "collapsed": true
   },
   "source": [
    "## Describe the target structure"
   ]
  },
  {
   "cell_type": "code",
   "execution_count": 37,
   "metadata": {},
   "outputs": [
    {
     "data": {
      "text/plain": [
       "{'INDEX': 0,\n",
       " 'IDSTR': 'N2419-D17',\n",
       " 'RA0': 2.0002502972113687,\n",
       " 'DEC0': 0.6796521546776157,\n",
       " 'RA': 2.0002502972113687,\n",
       " 'DEC': 0.6796521546776157,\n",
       " 'MAG': 17.52,\n",
       " 'PBAND': 'I',\n",
       " 'PCODE': -2,\n",
       " 'STD_EQX': 2000,\n",
       " 'PA': '',\n",
       " 'SLWID': 4.0,\n",
       " 'SAMPL': 1,\n",
       " 'SEL': 1,\n",
       " 'LEN1': 2.0,\n",
       " 'LEN2': 2.0,\n",
       " 'XARCS': 348.3822083299111,\n",
       " 'YARCS': 390.5244207026161,\n",
       " 'RELPA': '',\n",
       " 'X2': 350.3822083299111,\n",
       " 'Y2': 390.5244207026161,\n",
       " 'X1': 346.3822083299111,\n",
       " 'Y1': 390.5244207026161,\n",
       " 'STAT': True}"
      ]
     },
     "execution_count": 37,
     "metadata": {},
     "output_type": "execute_result"
    }
   ],
   "source": [
    "TargetData[0]"
   ]
  },
  {
   "cell_type": "code",
   "execution_count": 48,
   "metadata": {},
   "outputs": [],
   "source": [
    "def sel_sort(px1,px2, index, x, pri):\n",
    "    for i in range(len(px1)-1):\n",
    "        for j in range(len(px1)-1):\n",
    "            if px1[j]> px1[j+1]:\n",
    "                xhold = px1[j+1]\n",
    "                px1[j+1]=px1[j]\n",
    "                px1[j]=xhold\n",
    "                xhold = px2[j+1]\n",
    "                px2[j+1]=px2[j]\n",
    "                px2[j]=xhold\n",
    "    for i in range(len(index)-1):\n",
    "        for j in range(len(index)-1):\n",
    "            if x[j]>x[j+1]:\n",
    "                xhold = x[j+1]\n",
    "                x[j+1]=x[j]\n",
    "                x[j]=xhold\n",
    "                ihold=index[j+1]\n",
    "                index[j+1]=index[j]\n",
    "                index[j]=ihold\n",
    "                phold=pri[j+1]\n",
    "                pri[j+1]=pri[j]\n",
    "                pri[j]=phold\n",
    "                \n",
    "    return px1, px2, index, x, pri\n",
    "                \n",
    "def sel_rank(tdat, indat, tndex, sel, npt, isel, xlow, xupp, minsep, nsel):\n",
    "    if nsel <=0:\n",
    "        isel=0\n",
    "        nsel=0\n",
    "        \n",
    "    # can we fit a minimum slit in here?\n",
    "    if (xupp -xlow < minsep):\n",
    "        return\n",
    "    \n",
    "    # Start at half a slit length; stop inside half slit length\n",
    "    ndx = tndex[npt]\n",
    "    x = tdat[ndx]['XARCS']\n",
    "    xstop = min (x, xupp-0.5*minsep)\t# last target or upper limit\n",
    "    xnext = xlow + 0.5 * minsep\n",
    "    xlast = xlow\n",
    "                \n",
    "    # Loop through to end\n",
    "    i=isel\n",
    "    while (i<=npt):\n",
    "        i=i+1\n",
    "        ndx = tndex[i]\n",
    "        x = tdat[ndx]['XARCS']\n",
    "        if (x < xnext):\n",
    "            continue\n",
    "        if (tdat[ndx]['X1'] < xlast):\n",
    "            continue\n",
    "\n",
    "        if (x > xstop):\n",
    "            isel = i - 1\n",
    "            break\n",
    "\n",
    "        isel = i\n",
    "        len = tdat[ndx]['X2'] - tdat[ndx]['X1']\n",
    "        prisel = tdat[ndx]['PCODE'] / (x - xlast) / len\n",
    "        # Now look for higher priority to win out, over range (xlast,xlook)\n",
    "        xlook = min (x+minsep, xstop)\n",
    "        if (isel < npt):\n",
    "            for j in range(isel+1, npt):\n",
    "                ndx = tndex[j]\n",
    "                if tdat[ndx]['X1'] > tdat[isel]['X2']+indat['SLIT_GAP']:\n",
    "                    continue # There is no conflict\n",
    "                # XXX but prisel gets higher?\n",
    "                if (tdat[ndx]['X2'] > x_upp):\n",
    "                    continue # XXX Can't use\n",
    "                xj = tdat[ndx]['XARCS']\n",
    "                if (xj >= xlook):\n",
    "                    break\n",
    "                len = tdat[ndx]['X2'] - tdat[ndx]['X1']\n",
    "                prinorm = tdat[ndx]['PCODE'] / (xj - xlast) / len\n",
    "                if (prinorm > prisel):\n",
    "                    x = xj\n",
    "                    isel = j\n",
    "                    prisel = prinorm\n",
    "\n",
    "\n",
    "        nsel = nsel + 1\n",
    "        ndx = tndex[isel]\n",
    "        sel[nsel] = ndx\n",
    "        xlast = tdat[ndx]['X2']\n",
    "        xnext = xlast + 0.5 * minsep\n",
    "        i = isel\t\t\t# Reset search start point\n",
    "    return(sel, nsel)\n",
    "\n",
    "############################################################################\n",
    "#\n",
    "\n",
    "#\n",
    "# SELECTOR: Does an auto selection of slits\n",
    "# Should include an option for weighting to keep things toward the center.\n",
    "# Note that y's sent to sel_rank are relative to starting y\n",
    "# have it run from bottom to top\n",
    "# -- need to work in segments to accomodate currently selected objects\n",
    "# -- there was something else ...\n",
    "\n",
    "def selector(TargetData, InputData, minsep):\n",
    "    nopt=0\n",
    "    npre=0\n",
    "    tdat = TargetData\n",
    "    sdat = InputData\n",
    "    for i in range(len(tdat)):\n",
    "        if tdat[i]['SEL'] == 1:\n",
    "            npre+=1\n",
    "        elif tdat[i]['STAT'] == True:\n",
    "            nopt+=1\n",
    "            \n",
    "    bufx1=[]\n",
    "    bufx2=[]\n",
    "    bufn=[]\n",
    "    bufx=[]\n",
    "    bufp=[]\n",
    "    bufsel=[]\n",
    "    \n",
    "    # Ggrep on previously selected objects and suitable options; fill vectors\n",
    "    nopt=0\n",
    "    npre=0\n",
    "    for i in range(len(tdat)):\n",
    "        if tdat[i]['PCODE'] == CODE_GS:\n",
    "            bufx1.append(tdat[i]['X1'])\n",
    "            bufx2.append(tdat[i]['X2'])\n",
    "            npre+=1\n",
    "        elif tdat[i]['STAT'] == True and tdat[i]['PCODE'] > 0:\n",
    "            bufn.append(i)\n",
    "            bufx.append(tdat[i]['XARCS'])\n",
    "            bufp.append(tdat[i]['PCODE'])\n",
    "            nopt+=1\n",
    "            \n",
    "    # Sort the two lists\n",
    "    print(len(bufx1))\n",
    "    bufx1, bufx2, bufn, bufx, bufp = sel_sort(bufx1, bufx2, bufn, bufx, bufp)\n",
    "    \n",
    "    # the number of gaps to search is npre+1\n",
    "    ndx=0\n",
    "    xlow = XLOW_LIM\n",
    "    xskip = 0.\n",
    "    nselect =0\n",
    "    if nopt>0:\n",
    "        for i in range(npre):\n",
    "            if i<npre:\n",
    "                xupp = bufx[i]\n",
    "                xskip = bufx2[i]-bufx1[i]\n",
    "            else:\n",
    "                xupp = XUPP_LIM\n",
    "                \n",
    "            if xupp > xlow:\n",
    "                bufsel, nselect = sel_rank(tdat, sdat, bufn,\n",
    "                                          bufsel, nopt, i, xlow, xupp, minsep, nselect)\n",
    "                \n",
    "            xlow = xupp+xskip\n",
    "    \n",
    "    # select the mask slits\n",
    "    if nselect > 0:\n",
    "        for i in range(nselect-1):\n",
    "            tdat[bufsel[i]]['SEL']=1\n",
    "    psum =0\n",
    "    for i in range(len(TargetData)):\n",
    "        if tdat[i]['SEL']:\n",
    "                    psum = psum + max(tdat[i]['PCODE'], 0)\n",
    "    return TargetData, psum"
   ]
  },
  {
   "cell_type": "code",
   "execution_count": 49,
   "metadata": {},
   "outputs": [
    {
     "name": "stdout",
     "output_type": "stream",
     "text": [
      "7\n"
     ]
    },
    {
     "ename": "IndexError",
     "evalue": "list index out of range",
     "output_type": "error",
     "traceback": [
      "\u001b[0;31m---------------------------------------------------------------------------\u001b[0m",
      "\u001b[0;31mIndexError\u001b[0m                                Traceback (most recent call last)",
      "\u001b[0;32m<ipython-input-49-1284f0ac13ad>\u001b[0m in \u001b[0;36m<module>\u001b[0;34m()\u001b[0m\n\u001b[0;32m----> 1\u001b[0;31m \u001b[0mTargetData\u001b[0m\u001b[0;34m,\u001b[0m \u001b[0mpsum\u001b[0m \u001b[0;34m=\u001b[0m \u001b[0mselector\u001b[0m\u001b[0;34m(\u001b[0m\u001b[0mTargetData\u001b[0m\u001b[0;34m,\u001b[0m \u001b[0mInputData\u001b[0m\u001b[0;34m,\u001b[0m \u001b[0;36m2\u001b[0m\u001b[0;34m*\u001b[0m\u001b[0;34m(\u001b[0m\u001b[0mInputData\u001b[0m\u001b[0;34m[\u001b[0m\u001b[0;34m'DEF_HLEN'\u001b[0m\u001b[0;34m]\u001b[0m\u001b[0;34m+\u001b[0m\u001b[0mInputData\u001b[0m\u001b[0;34m[\u001b[0m\u001b[0;34m'SLIT_GAP'\u001b[0m\u001b[0;34m]\u001b[0m\u001b[0;34m)\u001b[0m\u001b[0;34m)\u001b[0m\u001b[0;34m\u001b[0m\u001b[0m\n\u001b[0m",
      "\u001b[0;32m<ipython-input-48-4be70160485b>\u001b[0m in \u001b[0;36mselector\u001b[0;34m(TargetData, InputData, minsep)\u001b[0m\n\u001b[1;32m    149\u001b[0m             \u001b[0;32mif\u001b[0m \u001b[0mxupp\u001b[0m \u001b[0;34m>\u001b[0m \u001b[0mxlow\u001b[0m\u001b[0;34m:\u001b[0m\u001b[0;34m\u001b[0m\u001b[0m\n\u001b[1;32m    150\u001b[0m                 bufsel, nselect = sel_rank(tdat, sdat, bufn,\n\u001b[0;32m--> 151\u001b[0;31m                                           bufsel, nopt, i, xlow, xupp, minsep, nselect)\n\u001b[0m\u001b[1;32m    152\u001b[0m \u001b[0;34m\u001b[0m\u001b[0m\n\u001b[1;32m    153\u001b[0m             \u001b[0mxlow\u001b[0m \u001b[0;34m=\u001b[0m \u001b[0mxupp\u001b[0m\u001b[0;34m+\u001b[0m\u001b[0mxskip\u001b[0m\u001b[0;34m\u001b[0m\u001b[0m\n",
      "\u001b[0;32m<ipython-input-48-4be70160485b>\u001b[0m in \u001b[0;36msel_rank\u001b[0;34m(tdat, indat, tndex, sel, npt, isel, xlow, xupp, minsep, nsel)\u001b[0m\n\u001b[1;32m     34\u001b[0m \u001b[0;34m\u001b[0m\u001b[0m\n\u001b[1;32m     35\u001b[0m     \u001b[0;31m# Start at half a slit length; stop inside half slit length\u001b[0m\u001b[0;34m\u001b[0m\u001b[0;34m\u001b[0m\u001b[0m\n\u001b[0;32m---> 36\u001b[0;31m     \u001b[0mndx\u001b[0m \u001b[0;34m=\u001b[0m \u001b[0mtndex\u001b[0m\u001b[0;34m[\u001b[0m\u001b[0mnpt\u001b[0m\u001b[0;34m]\u001b[0m\u001b[0;34m\u001b[0m\u001b[0m\n\u001b[0m\u001b[1;32m     37\u001b[0m     \u001b[0mx\u001b[0m \u001b[0;34m=\u001b[0m \u001b[0mtdat\u001b[0m\u001b[0;34m[\u001b[0m\u001b[0mndx\u001b[0m\u001b[0;34m]\u001b[0m\u001b[0;34m[\u001b[0m\u001b[0;34m'XARCS'\u001b[0m\u001b[0;34m]\u001b[0m\u001b[0;34m\u001b[0m\u001b[0m\n\u001b[1;32m     38\u001b[0m     \u001b[0mxstop\u001b[0m \u001b[0;34m=\u001b[0m \u001b[0mmin\u001b[0m \u001b[0;34m(\u001b[0m\u001b[0mx\u001b[0m\u001b[0;34m,\u001b[0m \u001b[0mxupp\u001b[0m\u001b[0;34m-\u001b[0m\u001b[0;36m0.5\u001b[0m\u001b[0;34m*\u001b[0m\u001b[0mminsep\u001b[0m\u001b[0;34m)\u001b[0m    \u001b[0;31m# last target or upper limit\u001b[0m\u001b[0;34m\u001b[0m\u001b[0m\n",
      "\u001b[0;31mIndexError\u001b[0m: list index out of range"
     ]
    }
   ],
   "source": [
    "TargetData, psum = selector(TargetData, InputData, 2*(InputData['DEF_HLEN']+InputData['SLIT_GAP']))"
   ]
  },
  {
   "cell_type": "code",
   "execution_count": null,
   "metadata": {},
   "outputs": [],
   "source": [
    "# LEN_SLITS: adjust slit lengths to fit -- perhaps should be integral part of\n",
    "# gen_slits\n",
    "# XXX TBD: report conflicts?\n",
    "#\n",
    "# from dsim.x\n",
    "def len_slits(SlitData,InputData):\n",
    "    sdat=SlitData\n",
    "    bufx=[]\n",
    "    bufi=[]\n",
    "    for i in range(len(SlitData)):\n",
    "        bufx.append(sdat[i]['XARCS'])\n",
    "        bufi.append(sdat[i]['INDEX'])\n",
    "        \n",
    "    s = sorted(zip(bufx,bufi))\n",
    "    bufx,bufi = map(list, zip(*s))\n",
    "    print(len(sdat))\n",
    "    for i in range(len(sdat)-1):\n",
    "        ndx1=bufi[i]\n",
    "        ndx2=bufi[i+1]\n",
    "        index = ndx1\n",
    "\n",
    "        pc1=sdat[ndx1]['PCODE']\n",
    "        pc2=sdat[ndx2]['PCODE']\n",
    "        \n",
    "        # if both are alignment boxes, move on...\n",
    "        if int(pc1)==-2 and int(pc2)==-2:\n",
    "            continue\n",
    "            \n",
    "        xlow = sdat[ndx1]['X2']+InputData['SLIT_GAP']\n",
    "        xupp = sdat[ndx2]['X1']-InputData['SLIT_GAP']\n",
    "        xcen = 0.5*(xlow+xupp)\n",
    "        \n",
    "        yas = sdat[ndx1]['Y2']\n",
    "        dxlow = px1(xcen,yas)\n",
    "        yas = sdat[ndx2]['Y1']\n",
    "        dxupp = px1(xcen,yas)\n",
    "        dxavg = 0.5 * (dxupp+dxlow)\n",
    "        dxlow=dxlow-dxavg\n",
    "        dxupp=dxupp-dxavg\n",
    "        #print(\"%d %d %6.3f %6.3f\\n\" % (sdat[ndx1]['PCODE'],sdat[ndx2]['PCODE'],dxlow,dxupp))\n",
    "        if (int(pc1) == -2):\n",
    "            print(\"pc1 is Alignment star\")\n",
    "            del1=0\n",
    "            del2=sdat[ndx2]['X1']-xlow-(dxupp-dxlow)\n",
    "        elif (int(pc2) == -2):\n",
    "            print(\"pc2 is Alignment star\")\n",
    "            del1=xupp-sdat[ndx1]['X2']+(dxlow-dxupp)\n",
    "            del2=0\n",
    "        else:\n",
    "            del1=xcen-0.5*InputData['SLIT_GAP']-sdat[ndx1]['X2']+dxlow\n",
    "            del2=sdat[ndx2]['X1']-(xcen+0.5*InputData['SLIT_GAP'])-dxupp\n",
    "        #print(del1,del2)\n",
    "        oldx2 = sdat[ndx1]['X2']\n",
    "        sdat[ndx1]['X2']=sdat[ndx1]['X2']+del1\n",
    "        newx2 = sdat[ndx1]['X2']\n",
    "        if ndx1==15 or ndx2==15:\n",
    "            print(index,oldx2,newx2)\n",
    "        if (del1 !=0 and sdat[ndx1]['RELPA'] != \"\"):\n",
    "            tana = np.tan(sdat[ndx1]['RELPA'])\n",
    "            sdat[ndx1]['Y2']=sdat[ndx1]['Y2']+del1*(-1)*tana\n",
    "        sdat[ndx2]['X1']=sdat[ndx2]['X1']-del2\n",
    "        if (del2 !=0 and sdat[ndx2]['RELPA'] != \"\"):\n",
    "            tana = np.tan(sdat[ndx2]['RELPA'])\n",
    "            sdat[ndx2]['Y1']=sdat[ndx2]['Y1']-del2*(-1)*tana\n",
    "    #print(len(sdat))\n",
    "    return sdat\n",
    " #\n",
    "# GEN_SLITS: initialize data structure for slits; fill (generate slits)\n",
    "#  \n",
    "# from dsim2.x\n",
    "def gen_slits(TargetData,InputData):\n",
    "    \n",
    "    SlitData = []\n",
    "    # count number of selected targets\n",
    "    nslit = 0\n",
    "    for i in range(len(TargetData)):\n",
    "        if TargetData[0]['SEL']==1:\n",
    "            nslit+=1\n",
    "    #print(\"Number of selected targets: %d out of %d\\n\" % (nslit,len(TargetData)))\n",
    "    # sets up the slits\n",
    "    ndx=0\n",
    "    for i in range(len(TargetData)):\n",
    "        slit = {}\n",
    "        target = TargetData[i]\n",
    "        if target['PCODE'] == CODE_GS:\n",
    "            print(\"%s is a guide star, ignored\\n \" % target['IDSTR'])\n",
    "            continue\n",
    "        if target['SEL'] == 1:\n",
    "            x = target['XARCS']\n",
    "            y = target['YARCS']\n",
    "            #if chk_stat(x,y) == False:\n",
    "            #    print(\"Target %s is not on metal, skipping..\" % target['IDSTR'])\n",
    "            #    continue\n",
    "            slit['INDEX']=ndx\n",
    "            if target['PA']=='':\n",
    "                slit['PA']=InputData['PA_ROT']\n",
    "            else:\n",
    "                slit['PA']=target['PA']\n",
    "            slit['RELPA'] = target['RELPA']\n",
    "            slit['PCODE'] = target['PCODE']\n",
    "            slit['X1'] = target['X1']\n",
    "            slit['X2'] = target['X2']\n",
    "            slit['Y1'] = target['Y1']\n",
    "            slit['Y2'] = target['Y2']\n",
    "            \n",
    "            slit['XARCS'] = target['XARCS']\n",
    "            slit['YARCS'] = target['YARCS']\n",
    "            slit['SLWID'] = target['SLWID']\n",
    "            TargetData[i]['SLNDX'] = ndx\n",
    "            #print(\"Adding slit...\")\n",
    "            SlitData.append(slit)\n",
    "            ndx=ndx+1\n",
    "\n",
    "    SlitDataNew = len_slits(SlitData,InputData)\n",
    "\n",
    "    return SlitDataNew,TargetData\n",
    "        "
   ]
  },
  {
   "cell_type": "markdown",
   "metadata": {},
   "source": [
    "## Generate slits and extend them to the maximum size"
   ]
  },
  {
   "cell_type": "code",
   "execution_count": null,
   "metadata": {},
   "outputs": [],
   "source": [
    "#print(len(TargetData))\n",
    "SlitData,TargetData=gen_slits(TargetData,InputData)\n"
   ]
  },
  {
   "cell_type": "markdown",
   "metadata": {},
   "source": [
    "## Diagnostic plot of the generated slits"
   ]
  },
  {
   "cell_type": "code",
   "execution_count": null,
   "metadata": {},
   "outputs": [],
   "source": [
    "# we want to plot the centers of the slits SlitData['XARCS'],SlitData['YARCS']\n",
    "# and lines connecting the extreme points SlitData['X1'],SlitData[Y1] and so on\n",
    "# generate array of x and y for the plot\n",
    "\n",
    "xcenter = [x['XARCS'] for x in SlitData if x['PCODE']!=-2]\n",
    "ycenter = [x['YARCS'] for x in SlitData if x['PCODE']!=-2]\n",
    "xcenter_align = [x['XARCS'] for x in SlitData if x['PCODE']==-2]\n",
    "ycenter_align = [x['YARCS'] for x in SlitData if x['PCODE']==-2]\n",
    "fig,ax = plt.subplots(1,figsize=(16,8))\n",
    "ax.plot(xcenter,ycenter,'+')\n",
    "ax.plot(xcenter_align,ycenter_align,'o')\n",
    "ax.set_xlim(XLOW_LIM,XUPP_LIM)\n",
    "ax.set_ylim(YMSKMIN,YMSKMAX)\n",
    "draw_focal_plane(ax)\n",
    "for slit in SlitData:\n",
    "    \n",
    "    l = mlines.Line2D([slit['X1'],slit['X2']],[slit['Y1'],slit['Y2']])\n",
    "    ax.add_line(l)"
   ]
  },
  {
   "cell_type": "code",
   "execution_count": null,
   "metadata": {},
   "outputs": [],
   "source": [
    "#\n",
    "# SKY_COORDS: Convert xarcs,yarcs in tel coords onto sky\n",
    "#   Note that this routine, called infrequently, does not need to be efficient.\n",
    "#\n",
    "def sky_coords(SlitData, InputData):\n",
    "    indat = InputData\n",
    "    sdat = SlitData\n",
    "    ra0=indat['RA_TEL']\n",
    "    dec0 = indat['DEC_TEL']\n",
    "    pa0 = indat['PA_ROT']\n",
    "    \n",
    "    for i in range(len(sdat)):\n",
    "        x=0.5*(sdat[i]['X1']+sdat[i]['X2'])\n",
    "        y=0.5*(sdat[i]['Y1']+sdat[i]['Y2'])\n",
    "        \n",
    "        r = np.sqrt(x**2+y**2)\n",
    "        r = np.arctan(r/206264.8)\n",
    "        phi = pa0-np.arctan2(y,x)\n",
    "        sind = np.sin(dec0)*np.cos(r)+np.cos(dec0)*np.sin(r)*np.cos(phi)\n",
    "        sina = np.sin(r)*np.sin(phi)/np.sqrt(1-sind**2)\n",
    "        sdat[i]['DEC']=np.arcsin(sind)\n",
    "        sdat[i]['RA']=ra0+np.arcsin(sina)\n",
    "        \n",
    "        sdat[i]['XARCS'] = 0.5*(sdat[i]['X1']+sdat[i]['X2'])\n",
    "        sdat[i]['YARCS'] = 0.5*(sdat[i]['Y1']+sdat[i]['Y2'])\n",
    "        \n",
    "        x = sdat[i]['X2']-sdat[i]['X1']\n",
    "        y = sdat[i]['Y2']-sdat[i]['Y1']\n",
    "        sdat[i]['LEN1']=0.5*np.sqrt(x**2+y**2)\n",
    "        sdat[i]['LEN2']=sdat[i]['LEN1']\n",
    "    return sdat"
   ]
  },
  {
   "cell_type": "code",
   "execution_count": null,
   "metadata": {},
   "outputs": [],
   "source": [
    "SlitData = sky_coords(SlitData,InputData)\n"
   ]
  },
  {
   "cell_type": "code",
   "execution_count": null,
   "metadata": {},
   "outputs": [],
   "source": [
    "SlitData = tel_coords(InputData,SlitData)"
   ]
  },
  {
   "cell_type": "code",
   "execution_count": null,
   "metadata": {},
   "outputs": [],
   "source": [
    "def gnom_to_dproj(xg,yg):\n",
    "    DIST_C0 = 0\n",
    "    DIST_C2 = -1.111311e-8\n",
    "    rho = np.sqrt(xg**2+yg**2)\n",
    "    cosa=yg/rho\n",
    "    sina=xg/rho\n",
    "    rho = rho * (1.+DIST_C0+DIST_C2*rho**2)\n",
    "    xd = rho*sina\n",
    "    yd = rho*cosa\n",
    "    return xd,yd\n",
    "   \n",
    "def proj_to_mask(xp,yp,ap):\n",
    "    #return xp,yp,ap\n",
    "    mu = np.arcsin(xp/M_RCURV)\n",
    "    cosm = np.cos(mu)\n",
    "    cost = np.cos(degtorad(M_ANGLE))\n",
    "    tant = np.tan(degtorad(M_ANGLE))\n",
    "    xx = M_RCURV * mu\n",
    "    yy = (yp-ZPT_YM)/cost + M_RCURV*tant*(1-cosm)\n",
    "    \n",
    "    tanpa = np.tan(degtorad(ap))*cosm/cost+tant*xp/M_RCURV\n",
    "    ac = radtodeg(np.arctan(tanpa))\n",
    "    \n",
    "    #spherical image surface height\n",
    "    rho = np.sqrt(xp*xp+yp*yp)\n",
    "    hs = R_IMSURF*(1-np.sqrt(1-(rho/R_IMSURF)**2))\n",
    "    # mask surface height\n",
    "    hm = MASK_HT0 + yy * np.sin(degtorad(M_ANGLE))+M_RCURV*(1-cosm)\n",
    "    #correction\n",
    "    yc = yy + (hs - hm) * yp / PPLDIST / cost\n",
    "    xc = xx + (hs - hm) * xp / PPLDIST / cosm\n",
    "    return xc,yc,ac\n",
    "\n",
    "\n",
    "    "
   ]
  },
  {
   "cell_type": "code",
   "execution_count": null,
   "metadata": {},
   "outputs": [],
   "source": [
    "def mask_coords(SlitData):\n",
    "    asec_rad = 206264.8\n",
    "    \n",
    "    # offset from telescope axis to slitmask origin, in slitmask coordinates\n",
    "    yoff = ZPT_YM*(1-np.cos(degtorad(M_ANGLE)))\n",
    "    yoff = 0 #### CHECK!\n",
    "    xoff = 0\n",
    "    for i in range(len(SlitData)):\n",
    "        sdat = SlitData[i]\n",
    "        if sdat['RELPA']!=\"\":\n",
    "            cosa = np.cos(sdat['RELPA'])\n",
    "            sina = np.sin(sdat['RELPA'])\n",
    "        else:\n",
    "            cosa=1\n",
    "            sina=0\n",
    "\n",
    "        # recalculation, probably not needed\n",
    "        sdat['X1']=sdat['XARCS']-sdat['LEN1']*cosa*(-1)\n",
    "        sdat['Y1']=sdat['YARCS']-sdat['LEN1']*sina\n",
    "        sdat['X2']=sdat['XARCS']+sdat['LEN2']*cosa*(-1)\n",
    "        sdat['Y2']=sdat['YARCS']+sdat['LEN2']*sina\n",
    "    \n",
    "        # x1,y1 are now tan projections\n",
    "        \n",
    "        xfp = FL_TEL*sdat['X1']/asec_rad\n",
    "        yfp = FL_TEL*(sdat['Y1']-0.5*sdat['SLWID'])/asec_rad\n",
    "        pa = 0\n",
    "        xfp,yfp = gnom_to_dproj(xfp,yfp)\n",
    "        xsm,ysm,pa = proj_to_mask(xfp,yfp,pa)\n",
    "        sdat['XMM1']=xsm+xoff\n",
    "        sdat['YMM1']=ysm+yoff\n",
    "    \n",
    "        xfp = FL_TEL*sdat['X2']/asec_rad\n",
    "        yfp = FL_TEL*(sdat['Y2']-0.5*sdat['SLWID'])/asec_rad\n",
    "        pa = 0\n",
    "        xfp,yfp = gnom_to_dproj(xfp,yfp)\n",
    "        xsm,ysm,pa = proj_to_mask(xfp,yfp,pa)\n",
    "        sdat['XMM2']=xsm+xoff\n",
    "        sdat['YMM2']=ysm+yoff\n",
    "    \n",
    "        xfp = FL_TEL*sdat['X2']/asec_rad\n",
    "        yfp = FL_TEL*(sdat['Y2']+0.5*sdat['SLWID'])/asec_rad\n",
    "        pa = 0\n",
    "        xfp,yfp = gnom_to_dproj(xfp,yfp)\n",
    "        xsm,ysm,pa = proj_to_mask(xfp,yfp,pa)\n",
    "        sdat['XMM3']=xsm+xoff\n",
    "        sdat['YMM3']=ysm+yoff\n",
    " \n",
    "        xfp = FL_TEL*sdat['X1']/asec_rad\n",
    "        yfp = FL_TEL*(sdat['Y1']+0.5*sdat['SLWID'])/asec_rad\n",
    "        pa = 0\n",
    "        xfp,yfp = gnom_to_dproj(xfp,yfp)\n",
    "        xsm,ysm,pa = proj_to_mask(xfp,yfp,pa)\n",
    "        sdat['XMM4']=xsm+xoff\n",
    "        sdat['YMM4']=ysm+yoff\n",
    "    \n",
    "        # here we should call metal check\n",
    "        SlitData[i]=sdat\n",
    "        \n",
    "    return SlitData\n",
    "    \n"
   ]
  },
  {
   "cell_type": "code",
   "execution_count": null,
   "metadata": {},
   "outputs": [],
   "source": [
    "SlitData=mask_coords(SlitData)"
   ]
  },
  {
   "cell_type": "code",
   "execution_count": null,
   "metadata": {},
   "outputs": [],
   "source": [
    "# plot\n",
    "factor=1\n",
    "\n",
    "fig1,ax2 = plt.subplots(1,figsize=(16,6.5))\n",
    "minx = min([x['XMM1'] for x in SlitData])\n",
    "maxx = max([x['XMM1'] for x in SlitData])\n",
    "miny = min([x['YMM1']*factor for x in SlitData])\n",
    "maxy = max([x['YMM1']*factor for x in SlitData])\n",
    "print(miny,maxy)\n",
    "ax2.set_xlim(-400,400)\n",
    "ax2.set_ylim(0,250)\n",
    "#ax2.set_ylim(miny,maxy+50)\n",
    "for slit in SlitData:\n",
    "    x = [slit['XMM1'],slit['XMM2'],slit['XMM3'],slit['XMM4'],slit['XMM1']]\n",
    "    y = [slit['YMM1'],slit['YMM2'],slit['YMM3'],slit['YMM4'],slit['YMM1']]\n",
    "    l = mlines.Line2D(x,y)\n",
    "    ax2.add_line(l)"
   ]
  },
  {
   "cell_type": "code",
   "execution_count": null,
   "metadata": {},
   "outputs": [],
   "source": [
    "# plot example\n",
    "slits = ascii.read('example/bluslits')\n",
    "fig,ax = plt.subplots(1,figsize=(16,6.5))\n",
    "ax.set_xlim([-400, 400])\n",
    "ax.set_ylim([0, 250])\n",
    "for slit in slits:\n",
    "    x = [slit['slitX1'],slit['slitX2'],slit['slitX3'],slit['slitX4'],slit['slitX1']]\n",
    "    y = [slit['slitY1'],slit['slitY2'],slit['slitY3'],slit['slitY4'],slit['slitY1']]\n",
    "    l = mlines.Line2D(x,y)\n",
    "    ax.add_line(l)"
   ]
  },
  {
   "cell_type": "code",
   "execution_count": null,
   "metadata": {},
   "outputs": [],
   "source": []
  },
  {
   "cell_type": "code",
   "execution_count": null,
   "metadata": {},
   "outputs": [],
   "source": [
    "SlitData"
   ]
  },
  {
   "cell_type": "code",
   "execution_count": null,
   "metadata": {},
   "outputs": [],
   "source": []
  }
 ],
 "metadata": {
  "kernelspec": {
   "display_name": "Python 3",
   "language": "python",
   "name": "python3"
  },
  "language_info": {
   "codemirror_mode": {
    "name": "ipython",
    "version": 3
   },
   "file_extension": ".py",
   "mimetype": "text/x-python",
   "name": "python",
   "nbconvert_exporter": "python",
   "pygments_lexer": "ipython3",
   "version": "3.6.5"
  }
 },
 "nbformat": 4,
 "nbformat_minor": 2
}
