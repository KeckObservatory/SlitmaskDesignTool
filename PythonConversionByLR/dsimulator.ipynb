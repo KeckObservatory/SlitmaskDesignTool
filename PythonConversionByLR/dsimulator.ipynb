{
 "cells": [
  {
   "cell_type": "code",
   "execution_count": 1,
   "metadata": {
    "collapsed": true
   },
   "outputs": [],
   "source": [
    "import os\n",
    "from astropy.io import ascii\n",
    "import math\n",
    "from astropy.coordinates import Angle\n",
    "import numpy as np\n",
    "import matplotlib.pyplot as plt\n",
    "import matplotlib.lines as mlines\n",
    "%matplotlib inline\n",
    "from astropy.modeling import models, fitting\n",
    "from astropy import units as u\n"
   ]
  },
  {
   "cell_type": "markdown",
   "metadata": {},
   "source": [
    "## List any necessary constants here"
   ]
  },
  {
   "cell_type": "code",
   "execution_count": 2,
   "metadata": {
    "collapsed": true
   },
   "outputs": [],
   "source": [
    "CODE_AS = -2\n",
    "CODE_GS = -1\n",
    "PRIMARY = 1\n",
    "FLDCEN_X = 0\n",
    "FLDCEN_Y = 270\n",
    "FLIP = -1\n",
    "YMSKMIN = 187.3\n",
    "YMSKMAX = 479.1\n",
    "XUPP_LIM = 498\n",
    "XLOW_LIM = -498\n",
    "YCAMCEN = 700\n",
    "RADVIGN = 302\n",
    "GAP1CEN =        -254.4          # CCD gap in arcsec -- center\n",
    "GAP1HWD =           5.2          # CCD gap in arcsec -- half-wid\n",
    "GAP2CEN =           0.0          # CCD gap in arcsec -- center\n",
    "GAP2HWD =           5.2          # CCD gap in arcsec -- half-wid\n",
    "GAP3CEN =         254.4          # CCD gap in arcsec -- center\n",
    "GAP3HWD =           5.2          # CCD gap in arcsec -- half-wid\n",
    "M_RCURV = 2120.9\n",
    "R_IMSURF = 2133.6\n",
    "M_ANGLE = 6.0\n",
    "ZPT_YM = 128.803 # Dist to tel.axis, in SMCS-XXX (mm) 5.071in\n",
    "MASK_HT0 = 3.378\n",
    "PPLDIST  = 20018.4\n",
    "FL_TEL  =150327.0\n"
   ]
  },
  {
   "cell_type": "code",
   "execution_count": 3,
   "metadata": {
    "collapsed": true
   },
   "outputs": [],
   "source": [
    "def degtorad(angle):\n",
    "    return float(angle*np.pi/180)\n",
    "def radtodeg(radians):\n",
    "    return float(radians*57.295779513082320877)\n",
    "def hhmmsstodegrees(hours):\n",
    "    return Angle(str(hours)+' hours').degree\n",
    "def ddmmsstodegrees(dms):\n",
    "    return Angle(str(dms)+ ' degrees').degree\n",
    "def degreestohhmmss(degrees):\n",
    "    return Angle(str(degrees)+' degrees').to_string(unit=u.hour,sep=\":\")\n",
    "def degreestoddmmss(degrees):\n",
    "    return Angle(str(degrees)+' degrees').to_string(unit=u.degree, sep=\":\")"
   ]
  },
  {
   "cell_type": "code",
   "execution_count": 4,
   "metadata": {
    "collapsed": true
   },
   "outputs": [],
   "source": [
    "def InputDataInit():\n",
    "    InputData={}\n",
    "    InputData['DEF_BOXR']=0.5*4 # arcseconds for alignment boxes\n",
    "    InputData['DEF_SLWID']=1 # default slit width arcseconds\n",
    "    InputData['DEF_HLEN']=5 # minimum slit length\n",
    "    InputData['RA0_FLD']=degtorad(hhmmsstodegrees(CenterLine.split()[1]))\n",
    "    InputData['DEC0_FLD']=degtorad(ddmmsstodegrees(CenterLine.split()[2]))\n",
    "    InputData['HA_FLD']=degtorad(ha0*15)\n",
    "    InputData['PA_ROT']=degtorad(PA0)\n",
    "    InputData['TEMP']=0\n",
    "    InputData['PRES']=600\n",
    "    InputData['WAVER']=7000*1e-4\n",
    "    InputData['WAVEMN']=blue*1e-4\n",
    "    InputData['WAVEMX']=red*1e-4\n",
    "    InputData['SLIT_GAP'] = sep_slit\n",
    "    InputData['DEF_HLEN'] = 0.5 * min_slit\n",
    "    InputData['DEF_SLWID'] = slit_width\n",
    "    InputData['STD_EQX'] = equinox\n",
    "    InputData['RA_FLD']=InputData['RA0_FLD'] # no refraction\n",
    "    InputData['DEC_FLD']=InputData['DEC0_FLD']\n",
    "    InputData['PROJ_LEN']=True\n",
    "    return InputData\n",
    "    "
   ]
  },
  {
   "cell_type": "code",
   "execution_count": 5,
   "metadata": {
    "collapsed": true
   },
   "outputs": [],
   "source": [
    "def TargetInit():\n",
    "    TargetData=[]\n",
    " \n",
    "    data = ascii.read(ObjectFile, format='no_header', names=['id','ra','dec','equinox','mag','band','priority','nlist','selcode','pangle'])\n",
    "    for i in range(len(data)):\n",
    "        Target={}\n",
    "        Target['INDEX']=i\n",
    "        Target['IDSTR']=data['id'][i]\n",
    "        ra0=degtorad(hhmmsstodegrees(data['ra'][i]))\n",
    "        Target['RA0']=ra0\n",
    "        dec0=degtorad(ddmmsstodegrees(data['dec'][i]))\n",
    "        Target['DEC0']=dec0\n",
    "        Target['RA']=Target['RA0'] # no refraction\n",
    "        Target['DEC']=Target['DEC0']\n",
    "        Target['MAG']=data['mag'][i]\n",
    "        Target['PBAND']=data['band'][i][0]\n",
    "        l1=InputData['DEF_HLEN']\n",
    "        l2=InputData['DEF_HLEN']\n",
    "        selcode=0\n",
    "        nlist=PRIMARY\n",
    "        Target['PCODE']=data['priority'][i]\n",
    "        Target['STD_EQX']=data['equinox'][i]\n",
    "        if data['priority'][i]==CODE_AS:\n",
    "                l1 = InputData['DEF_BOXR']\n",
    "                l2 = InputData['DEF_BOXR']\n",
    "        Target['PA']=data['pangle'][i]\n",
    " \n",
    "        if Target['PCODE']==CODE_AS:\n",
    "                print(\"Star %s is an alignment star\" % Target['IDSTR'])\n",
    "                Target['PA']=''\n",
    "                Target['SLWID']=2*InputData['DEF_BOXR']\n",
    "        else:\n",
    "                Target['SLWID']=InputData['DEF_SLWID']\n",
    "        Target['SAMPL']=nlist\n",
    "        Target['SEL']=data['selcode'][i]\n",
    "        \n",
    "        Target['LEN1']=l1\n",
    "        Target['LEN2']=l2\n",
    "        TargetData.append(Target)\n",
    "        \n",
    "    return(TargetData)"
   ]
  },
  {
   "cell_type": "markdown",
   "metadata": {},
   "source": [
    "## Create example data"
   ]
  },
  {
   "cell_type": "code",
   "execution_count": 6,
   "metadata": {
    "collapsed": true
   },
   "outputs": [],
   "source": [
    "ObjectFile = 'example/objects_selected_standard_format'\n",
    "CenterLine = 'n2419c   17:32:36.6   68:00:00  2000.0 PA=180.000 ##'\n",
    "#ObjectFile = 'n2419c.selected'\n",
    "#CenterLine = 'n2419c             7:38:09.20   38:51:12.0  2000.0 PA=50.000 ##'\n",
    "ha0 = 0\n",
    "PA0 = 180\n",
    "blue = 4000\n",
    "red = 9000\n",
    "sep_slit = 2\n",
    "min_slit = 10\n",
    "slit_width = 1\n",
    "equinox = 2000\n",
    "# read some example downloaded from the slitmask database\n",
    "objects = ascii.read('example/objects')\n",
    "slitobjmap = ascii.read('example/slitobjmap')\n",
    "desislit = ascii.read('example/desislit')\n",
    "bluslits = ascii.read('example/bluslits')\n",
    "# convert example input objects into standard format\n",
    "ra = [degreestohhmmss(x['RA_OBJ']) for x in objects]\n",
    "dec = [degreestoddmmss(x['DEC_OBJ']) for x in objects]\n",
    "pa=0\n",
    "priority=[]\n",
    "for i in range(len(objects)):\n",
    "    if objects[i]['ObjClass']=='Alignment_Star':\n",
    "        priority.append(-2)\n",
    "    else:\n",
    "        priority.append(100)\n",
    "        \n",
    "fd = open('example/objects_selected_standard_format','w')\n",
    "for i in range(len(objects)):\n",
    "    object = objects[i]\n",
    "    fd.write(\"%s %s %s %f %f I %d 1 1 %f\\n\" % (object['ObjectId'],ra[i],dec[i],object['EQUINOX'],object['mag'],priority[i], pa))\n",
    "    \n",
    "fd.close()   "
   ]
  },
  {
   "cell_type": "code",
   "execution_count": 7,
   "metadata": {},
   "outputs": [
    {
     "name": "stdout",
     "output_type": "stream",
     "text": [
      "Star 1100606 is an alignment star\n",
      "Star 1100609 is an alignment star\n",
      "Star 1100610 is an alignment star\n",
      "Star 1100611 is an alignment star\n"
     ]
    }
   ],
   "source": [
    "# read input data\n",
    "InputData = InputDataInit()\n",
    "# read targets\n",
    "TargetData = TargetInit()\n"
   ]
  },
  {
   "cell_type": "markdown",
   "metadata": {},
   "source": [
    "## Calculate position with reference to telescope axis (field center)"
   ]
  },
  {
   "cell_type": "code",
   "execution_count": 8,
   "metadata": {
    "collapsed": true
   },
   "outputs": [],
   "source": [
    "def fld2telax(InputData):\n",
    "    r = degtorad(np.sqrt(FLDCEN_X*FLDCEN_X+FLDCEN_Y*FLDCEN_Y)/3600)\n",
    "    pa_fld = np.arctan2(FLDCEN_Y,FLDCEN_X)\n",
    "    cosr = np.cos(r)\n",
    "    sinr = np.sin(r)\n",
    "    cosd = np.cos(InputData['DEC_FLD'])\n",
    "    sind = np.sin(InputData['DEC_FLD'])\n",
    "    cost = np.cos(InputData['PA_ROT']-pa_fld)\n",
    "    sint = np.sin(InputData['PA_ROT']-pa_fld)\n",
    "    sina = sinr*sint/cosd\n",
    "    cosa = np.sqrt(1-sina**2)\n",
    "    InputData['RA_TEL']=InputData['RA_FLD']\n",
    "    InputData['DEC_TEL']=np.arcsin((sind*cosd*cosa-cosr*sinr*cost)/(cosr*cosd*cosa-sinr*sind*cost))\n",
    "    return InputData"
   ]
  },
  {
   "cell_type": "code",
   "execution_count": 9,
   "metadata": {},
   "outputs": [
    {
     "data": {
      "text/plain": [
       "{'DEC0_FLD': 1.1868238913561442,\n",
       " 'DEC_FLD': 1.1868238913561442,\n",
       " 'DEC_TEL': 1.1868260118604541,\n",
       " 'DEF_BOXR': 2.0,\n",
       " 'DEF_HLEN': 5.0,\n",
       " 'DEF_SLWID': 1,\n",
       " 'HA_FLD': 0.0,\n",
       " 'PA_ROT': 3.141592653589793,\n",
       " 'PRES': 600,\n",
       " 'PROJ_LEN': True,\n",
       " 'RA0_FLD': 4.592877559854378,\n",
       " 'RA_FLD': 4.592877559854378,\n",
       " 'RA_TEL': 4.592877559854378,\n",
       " 'SLIT_GAP': 2,\n",
       " 'STD_EQX': 2000,\n",
       " 'TEMP': 0,\n",
       " 'WAVEMN': 0.4,\n",
       " 'WAVEMX': 0.9,\n",
       " 'WAVER': 0.7000000000000001}"
      ]
     },
     "execution_count": 9,
     "metadata": {},
     "output_type": "execute_result"
    }
   ],
   "source": [
    "InputData = fld2telax(InputData)\n",
    "InputData"
   ]
  },
  {
   "cell_type": "markdown",
   "metadata": {},
   "source": [
    "## Calculate position of targets with reference to telescope axis (Targets)"
   ]
  },
  {
   "cell_type": "code",
   "execution_count": 10,
   "metadata": {
    "collapsed": true
   },
   "outputs": [],
   "source": [
    "def tel_coords(InputData, TargetData):\n",
    "    ra0 = InputData['RA_TEL']\n",
    "    dec0 = InputData['DEC_TEL']\n",
    "    pa0 = InputData['PA_ROT']\n",
    "    for i in range(len(TargetData)):\n",
    "        target = TargetData[i]\n",
    "        \n",
    "        try:\n",
    "            dec_obj = target['DEC']\n",
    "        except:\n",
    "            print(\"Target is missing some values\")\n",
    "            print(target)\n",
    "            return\n",
    "        del_ra = target['RA']-ra0\n",
    "        cosr = np.sin(dec_obj) * np.sin(dec0) + np.cos(dec_obj) * np.cos(dec0) * np.cos(del_ra)\n",
    "        r = np.arccos(cosr)\n",
    "        \n",
    "        sinp = np.cos(dec_obj) * np.sin(del_ra) / np.sqrt(1-cosr*cosr)\n",
    "        cosp = np.sqrt(max((1. - sinp*sinp),0))\n",
    "        if (dec_obj < dec0):\n",
    "                cosp = cosp * -1\n",
    "        p = np.arctan2(sinp, cosp)\n",
    "        \n",
    "        r = np.tan(r)*206264.8\n",
    "\n",
    "\n",
    "        target['XARCS'] = r * np.cos(pa0-p)\n",
    "        target['YARCS'] = r * np.sin(pa0-p)\n",
    "        \n",
    "        if target['PA'] == '':\n",
    "                target['RELPA'] = ''\n",
    "                rangle=0\n",
    "        else:\n",
    "            target['RELPA'] = target['PA']-pa0\n",
    "            rangle = target['RELPA']\n",
    "            \n",
    "        xgeom = FLIP * np.cos(rangle)\n",
    "        ygeom = np.sin(rangle)\n",
    "        \n",
    "        if InputData['PROJ_LEN'] is True:\n",
    "            xgeom = xgeom / np.abs(np.cos(rangle))\n",
    "            ygeom = ygeom / np.abs(np.cos(rangle))\n",
    "            \n",
    "        if xgeom > 0:\n",
    "            target['X1'] = target['XARCS']-target['LEN1']* xgeom\n",
    "            target['Y1'] = target['YARCS']-target['LEN1']* ygeom\n",
    "            target['X2'] = target['XARCS']+target['LEN2']* xgeom\n",
    "            target['Y2'] = target['YARCS']+target['LEN2']* ygeom\n",
    "        else:\n",
    "            target['X2'] = target['XARCS']-target['LEN1']* xgeom\n",
    "            target['Y2'] = target['YARCS']-target['LEN1']* ygeom\n",
    "            target['X1'] = target['XARCS']+target['LEN2']* xgeom\n",
    "            target['Y1'] = target['YARCS']+target['LEN2']* ygeom\n",
    "            \n",
    "        x=target['XARCS']\n",
    "        y=target['YARCS']\n",
    "        target['STAT'] = chk_stat(x,y)\n",
    "        TargetData[i]=target\n",
    "    return TargetData\n",
    "        \n",
    "def chk_stat(x,y):\n",
    "    r = np.sqrt(x**2+y**2)\n",
    "    if r>600:\n",
    "        return False\n",
    "    if y<YMSKMIN:\n",
    "        return False\n",
    "    if y>YMSKMAX:\n",
    "        return False\n",
    "    if x>XUPP_LIM or x<XLOW_LIM:\n",
    "        return False\n",
    "    if x>-0.98273*y+833.0:\n",
    "        return False\n",
    "    if (x**2+(y-YCAMCEN)**2 < RADVIGN**2):\n",
    "        return False\n",
    "    if (np.abs(x-GAP1CEN))< GAP1HWD:\n",
    "            return False\n",
    "    if (np.abs(x-GAP2CEN))< GAP2HWD:\n",
    "            return False\n",
    "    if (np.abs(x-GAP3CEN))< GAP3HWD:\n",
    "            return False\n",
    "        \n",
    "    return True\n",
    "    \n",
    "                \n",
    "        "
   ]
  },
  {
   "cell_type": "code",
   "execution_count": 11,
   "metadata": {},
   "outputs": [
    {
     "data": {
      "text/plain": [
       "{'DEC': 1.1870783215759904,\n",
       " 'DEC0': 1.1870783215759904,\n",
       " 'IDSTR': 1100556,\n",
       " 'INDEX': 0,\n",
       " 'LEN1': 5.0,\n",
       " 'LEN2': 5.0,\n",
       " 'MAG': 24.0,\n",
       " 'PA': 0.0,\n",
       " 'PBAND': 'I',\n",
       " 'PCODE': 100,\n",
       " 'RA': 4.596201103082488,\n",
       " 'RA0': 4.596201103082488,\n",
       " 'RELPA': -3.1415926535897931,\n",
       " 'SAMPL': 1,\n",
       " 'SEL': 1,\n",
       " 'SLWID': 1,\n",
       " 'STAT': True,\n",
       " 'STD_EQX': 2000.0,\n",
       " 'X1': -57.438080903130775,\n",
       " 'X2': -47.438080903130775,\n",
       " 'XARCS': -52.438080903130775,\n",
       " 'Y1': 256.64205738740424,\n",
       " 'Y2': 256.64205738740424,\n",
       " 'YARCS': 256.64205738740424}"
      ]
     },
     "execution_count": 11,
     "metadata": {},
     "output_type": "execute_result"
    }
   ],
   "source": [
    "TargetData = tel_coords(InputData, TargetData)\n",
    "TargetData[0]"
   ]
  },
  {
   "cell_type": "code",
   "execution_count": 12,
   "metadata": {
    "collapsed": true
   },
   "outputs": [],
   "source": [
    "xslit = [x['XARCS'] for x in TargetData if x['PCODE']!=-2]\n",
    "yslit = [x['YARCS'] for x in TargetData if x['PCODE']!=-2]\n",
    "xalign = [x['XARCS'] for x in TargetData if x['PCODE']==-2]\n",
    "yalign = [x['YARCS'] for x in TargetData if x['PCODE']==-2]"
   ]
  },
  {
   "cell_type": "code",
   "execution_count": 13,
   "metadata": {},
   "outputs": [
    {
     "data": {
      "text/plain": [
       "[<matplotlib.lines.Line2D at 0x181b171cc0>]"
      ]
     },
     "execution_count": 13,
     "metadata": {},
     "output_type": "execute_result"
    },
    {
     "data": {
      "image/png": "[encoded data removed]",
      "text/plain": [
       "<matplotlib.figure.Figure at 0x181b1712b0>"
      ]
     },
     "metadata": {},
     "output_type": "display_data"
    }
   ],
   "source": [
    "\n",
    "plt.figure(figsize=(16,8))\n",
    "plt.plot(xslit,yslit,'+')\n",
    "plt.plot(xalign,yalign,'o')\n",
    "#plt.xlim(-400,400)\n",
    "#plt.ylim(0,400)"
   ]
  },
  {
   "cell_type": "code",
   "execution_count": 14,
   "metadata": {},
   "outputs": [
    {
     "name": "stderr",
     "output_type": "stream",
     "text": [
      "WARNING: Model is linear in parameters; consider using linear fitting methods. [astropy.modeling.fitting]\n"
     ]
    }
   ],
   "source": [
    "# calculate 2D polynomial\n",
    "fd = open('input.dat')\n",
    "lines = fd.readlines()\n",
    "fd.close()\n",
    "xin = []\n",
    "yin = []\n",
    "for line in lines:\n",
    "    p = line.split()\n",
    "    xin.append(float(p[0]))\n",
    "    yin.append(float(p[1]))\n",
    "\n",
    "fd = open('output.dat')\n",
    "lines = fd.readlines()\n",
    "fd.close()\n",
    "xout = []\n",
    "yout = []\n",
    "for line in lines:\n",
    "    p = line.split()\n",
    "    xout.append(float(p[0]))\n",
    "    yout.append(float(p[1]))\n",
    "\n",
    "px_init = models.Polynomial2D(degree=4)\n",
    "fit_px = fitting.LevMarLSQFitter()\n",
    "px1 = fit_px(px_init,xin,yin,xout)\n",
    "py_init = models.Polynomial2D(degree=3)\n",
    "fit_py = fitting.LevMarLSQFitter()\n",
    "py1 = fit_py(py_init,xin,yin,yout)\n"
   ]
  },
  {
   "cell_type": "code",
   "execution_count": 15,
   "metadata": {},
   "outputs": [
    {
     "name": "stdout",
     "output_type": "stream",
     "text": [
      "[  1.03767274e+00  -2.18808149e-03   7.37670550e-08  -2.01076027e-11\n",
      "   2.74918216e-15  -3.89696055e-03   2.02511462e-07  -1.62138047e-12\n",
      "   8.10897848e-15   3.13514189e-07   2.88432985e-08  -3.72487474e-15\n",
      "  -2.85152369e-10   2.37128749e-13  -2.41487157e-13]\n",
      "[ -1.03918214e+00   1.00220205e+00  -6.72056480e-08  -7.98200666e-12\n",
      "   3.90475878e-03  -2.15396384e-07  -9.58987366e-13  -3.20708206e-07\n",
      "  -2.89136300e-08   2.32104252e-10]\n"
     ]
    }
   ],
   "source": [
    "print(px1.parameters)\n",
    "print(py1.parameters)\n"
   ]
  },
  {
   "cell_type": "code",
   "execution_count": 16,
   "metadata": {
    "collapsed": true
   },
   "outputs": [],
   "source": [
    "#plt.figure(figsize=(6,6))\n",
    "#plt.plot(xin,yin)"
   ]
  },
  {
   "cell_type": "code",
   "execution_count": 17,
   "metadata": {
    "collapsed": true
   },
   "outputs": [],
   "source": [
    "#plt.figure(figsize=(6,6))\n",
    "#plt.plot(xout_fit,yout_fit)"
   ]
  },
  {
   "cell_type": "code",
   "execution_count": 18,
   "metadata": {
    "collapsed": true
   },
   "outputs": [],
   "source": [
    "#plt.figure(figsize=(6,6))\n",
    "#plt.plot(xout_fit,yout_fit)"
   ]
  },
  {
   "cell_type": "code",
   "execution_count": 19,
   "metadata": {
    "collapsed": true
   },
   "outputs": [],
   "source": [
    "def len_slits(TargetData,SlitData,InputData):\n",
    "    sdat=SlitData.copy()\n",
    "    bufx=[]\n",
    "    bufi=[]\n",
    "    for i in range(len(SlitData)):\n",
    "        bufx.append(sdat[i]['XARCS'])\n",
    "        bufi.append(sdat[i]['INDEX'])\n",
    "        \n",
    "    s = sorted(zip(bufx,bufi))\n",
    "    bufx,bufi = map(list, zip(*s))\n",
    "    print(len(sdat))\n",
    "    for i in range(len(sdat)-1):\n",
    "        ndx1=bufi[i]\n",
    "        ndx2=bufi[i+1]\n",
    "        index = ndx1\n",
    "\n",
    "        pc1=sdat[ndx1]['PCODE']\n",
    "        pc2=sdat[ndx2]['PCODE']\n",
    "        \n",
    "        # if both are alignment boxes, move on...\n",
    "        if int(pc1)==-2 and int(pc2)==-2:\n",
    "            next\n",
    "            \n",
    "        xlow = sdat[ndx1]['X2']+InputData['SLIT_GAP']\n",
    "        xupp = sdat[ndx2]['X1']-InputData['SLIT_GAP']\n",
    "        xcen = 0.5*(xlow+xupp)\n",
    "        \n",
    "        yas = sdat[ndx1]['Y2']\n",
    "        dxlow = px1(xcen,yas)\n",
    "        yas = sdat[ndx2]['Y1']\n",
    "        dxupp = px1(xcen,yas)\n",
    "        dxavg = 0.5 * (dxupp+dxlow)\n",
    "        dxlow=dxlow-dxavg\n",
    "        dxupp=dxupp-dxavg\n",
    "        #print(\"%6.3f %6.3f\\n\" % (dxlow,dxupp))\n",
    "        if (pc1 == -2):\n",
    "            del1=0\n",
    "            del2=sdat[ndx2]['X1']-xlow-(dxupp-dxlow)\n",
    "        elif (pc2 == -2):\n",
    "            del1=xupp-sdat[ndx1]['X2']+(dxlow-dxupp)\n",
    "            del2=0\n",
    "        else:\n",
    "            del1=xcen-0.5*InputData['SLIT_GAP']-sdat[ndx1]['X2']+dxlow\n",
    "            del2=sdat[ndx2]['X1']-(xcen+0.5*InputData['SLIT_GAP'])-dxupp\n",
    "        #print(del1,del2)\n",
    "        oldx2 = sdat[ndx1]['X2']\n",
    "        sdat[ndx1]['X2']=sdat[ndx1]['X2']+del1\n",
    "        newx2 = sdat[ndx1]['X2']\n",
    "        if ndx1==15 or ndx2==15:\n",
    "            print(index,oldx2,newx2)\n",
    "        if (del1 !=0 and sdat[ndx1]['RELPA'] != \"\"):\n",
    "            tana = np.tan(sdat[ndx1]['RELPA'])\n",
    "            sdat[ndx1]['Y2']=sdat[ndx1]['Y2']+del1*(-1)*tana\n",
    "        sdat[ndx2]['X1']=sdat[ndx2]['X1']-del2\n",
    "        if (del2 !=0 and sdat[ndx2]['RELPA'] != \"\"):\n",
    "            tana = np.tan(sdat[ndx2]['RELPA'])\n",
    "            sdat[ndx2]['Y1']=sdat[ndx2]['Y1']+del2*(-1)*tana\n",
    "    print(len(sdat))\n",
    "    return sdat\n",
    "    \n",
    "def gen_slits(TargetData,InputData):\n",
    "    \n",
    "    SlitData = []\n",
    "    # calculate number of selected targets\n",
    "    nslit = 0\n",
    "    for i in range(len(TargetData)):\n",
    "        if TargetData[0]['SEL']==1:\n",
    "            nslit+=1\n",
    "    # sets up the slits\n",
    "    ndx=0\n",
    "    for i in range(len(TargetData)):\n",
    "        slit = {}\n",
    "        target = TargetData[i]\n",
    "        if target['PCODE'] == CODE_GS:\n",
    "            next\n",
    "        if target['SEL'] == 1:\n",
    "            x = target['XARCS']\n",
    "            y = target['YARCS']\n",
    "            if chk_stat(x,y) == False:\n",
    "                next\n",
    "            slit['INDEX']=ndx\n",
    "            if target['PA']=='':\n",
    "                slit['PA']=InputData['PA_ROT']\n",
    "            else:\n",
    "                slit['PA']=target['PA']\n",
    "            slit['RELPA'] = target['RELPA']\n",
    "            slit['PCODE'] = target['PCODE']\n",
    "            slit['X1'] = target['X1']\n",
    "            slit['X2'] = target['X2']\n",
    "            slit['Y1'] = target['Y1']\n",
    "            slit['Y2'] = target['Y2']\n",
    "            \n",
    "            slit['XARCS'] = target['XARCS']\n",
    "            slit['YARCS'] = target['YARCS']\n",
    "            slit['SLWID'] = target['SLWID']\n",
    "            target['SLNDX'] = ndx\n",
    "            SlitData.append(slit)\n",
    "            ndx=ndx+1\n",
    "            TargetData[i]=target\n",
    "    print(\"Old value: \",SlitData[15]['INDEX'],SlitData[15]['X2'])\n",
    "    SlitDataNew= len_slits(TargetData,SlitData,InputData)\n",
    "    print(\"New value: \",SlitDataNew[15]['INDEX'],SlitDataNew[15]['X2'])\n",
    "    return SlitDataNew\n",
    "        "
   ]
  },
  {
   "cell_type": "markdown",
   "metadata": {},
   "source": [
    "## Generate slits and extend them to the maximum size"
   ]
  },
  {
   "cell_type": "code",
   "execution_count": 20,
   "metadata": {},
   "outputs": [
    {
     "name": "stdout",
     "output_type": "stream",
     "text": [
      "Old value:  15 -325.738079319\n",
      "54\n",
      "14 -369.965982369 -353.900070012\n",
      "15 -325.738079319 -321.790626034\n",
      "54\n",
      "New value:  15 -321.790626034\n"
     ]
    }
   ],
   "source": [
    "\n",
    "SlitData=gen_slits(TargetData,InputData)\n"
   ]
  },
  {
   "cell_type": "code",
   "execution_count": 21,
   "metadata": {
    "collapsed": true
   },
   "outputs": [],
   "source": [
    "def sky_coords(SlitData, InputData):\n",
    "    indat = InputData\n",
    "    sdat = SlitData\n",
    "    ra0=indat['RA_TEL']\n",
    "    dec0 = indat['DEC_TEL']\n",
    "    pa0 = indat['PA_ROT']\n",
    "    \n",
    "    for i in range(len(sdat)):\n",
    "        x=0.5*(sdat[i]['X1']+sdat[i]['X2'])\n",
    "        y=0.5*(sdat[i]['Y1']+sdat[i]['Y2'])\n",
    "        \n",
    "        r = np.sqrt(x**2+y**2)\n",
    "        r = np.arctan(r/206264.8)\n",
    "        phi = pa0-np.arctan2(y,x)\n",
    "        sind = np.sin(dec0)*np.cos(r)+np.cos(dec0)*np.sin(r)*np.cos(phi)\n",
    "        sina = np.sin(r)*np.sin(phi)*np.sqrt(1-sind**2)\n",
    "        sdat[i]['DEC']=np.arcsin(sind)\n",
    "        sdat[i]['RA']=ra0+np.arcsin(sina)\n",
    "        \n",
    "        sdat[i]['XARCS'] = 0.5*(sdat[i]['X1']+sdat[i]['X2'])\n",
    "        sdat[i]['YARCS'] = 0.5*(sdat[i]['Y1']+sdat[i]['Y2'])\n",
    "        \n",
    "        x = sdat[i]['X2']-sdat[i]['X1']\n",
    "        y = sdat[i]['Y2']-sdat[i]['Y1']\n",
    "        sdat[i]['LEN1']=0.5*np.sqrt(x**2+y**2)\n",
    "        sdat[i]['LEN2']=sdat[i]['LEN1']\n",
    "    return sdat"
   ]
  },
  {
   "cell_type": "code",
   "execution_count": 22,
   "metadata": {},
   "outputs": [
    {
     "data": {
      "text/plain": [
       "{'DEC': 1.1859542092569735,\n",
       " 'INDEX': 1,\n",
       " 'LEN1': 5.9932259659769613,\n",
       " 'LEN2': 5.9932259659769613,\n",
       " 'PA': 0.0,\n",
       " 'PCODE': 100,\n",
       " 'RA': 4.593661537941049,\n",
       " 'RELPA': -3.1415926535897931,\n",
       " 'SLWID': 1,\n",
       " 'X1': 172.71857374495067,\n",
       " 'X2': 184.7050256769046,\n",
       " 'XARCS': 178.71179971092764,\n",
       " 'Y1': 430.74577382144423,\n",
       " 'Y2': 430.74577382144423,\n",
       " 'YARCS': 430.74577382144423}"
      ]
     },
     "execution_count": 22,
     "metadata": {},
     "output_type": "execute_result"
    }
   ],
   "source": [
    "SlitData = sky_coords(SlitData,InputData)\n",
    "SlitData[1]"
   ]
  },
  {
   "cell_type": "code",
   "execution_count": 23,
   "metadata": {
    "collapsed": true
   },
   "outputs": [],
   "source": [
    "SlitData = tel_coords(InputData,SlitData)"
   ]
  },
  {
   "cell_type": "code",
   "execution_count": 24,
   "metadata": {},
   "outputs": [
    {
     "data": {
      "text/plain": [
       "{'DEC': 1.1859542092569735,\n",
       " 'INDEX': 1,\n",
       " 'LEN1': 5.9932259659769613,\n",
       " 'LEN2': 5.9932259659769613,\n",
       " 'PA': 0.0,\n",
       " 'PCODE': 100,\n",
       " 'RA': 4.593661537941049,\n",
       " 'RELPA': -3.1415926535897931,\n",
       " 'SLWID': 1,\n",
       " 'STAT': False,\n",
       " 'X1': 173.80695331824097,\n",
       " 'X2': 185.79340525019489,\n",
       " 'XARCS': 179.80017928421793,\n",
       " 'Y1': 60.706929483850608,\n",
       " 'Y2': 60.706929483850608,\n",
       " 'YARCS': 60.706929483850608}"
      ]
     },
     "execution_count": 24,
     "metadata": {},
     "output_type": "execute_result"
    }
   ],
   "source": [
    "SlitData[1]"
   ]
  },
  {
   "cell_type": "code",
   "execution_count": 25,
   "metadata": {
    "collapsed": true
   },
   "outputs": [],
   "source": [
    "def gnom_to_dproj(xg,yg):\n",
    "    DIST_C0 = 0\n",
    "    DIST_C2 = -1.111311e-8\n",
    "    rho = np.sqrt(xg**2+yg**2)\n",
    "    cosa=yg/rho\n",
    "    sina=xg/rho\n",
    "    rho = rho * (1.+DIST_C0+DIST_C2*rho**2)\n",
    "    xd = rho*sina\n",
    "    yd = rho*cosa\n",
    "    return xd,yd\n",
    "   \n",
    "def proj_to_mask(xp,yp,ap):\n",
    "    mu = np.arcsin(xp/M_RCURV)\n",
    "    cosm = np.cos(mu)\n",
    "    cost = np.cos(degtorad(M_ANGLE))\n",
    "    tant = np.tan(degtorad(M_ANGLE))\n",
    "    xx = M_RCURV * mu\n",
    "    yy = (yp-ZPT_YM)/cost + M_RCURV*tant*(1-cosm)\n",
    "    \n",
    "    tanpa = np.tan(degtorad(ap))*cosm/cost+tant*xp/M_RCURV\n",
    "    ac = radtodeg(np.arctan(tanpa))\n",
    "    \n",
    "    #spherical image surface height\n",
    "    rho = np.sqrt(xp*xp+yp*yp)\n",
    "    hs = R_IMSURF*(1-np.sqrt(1-(rho/R_IMSURF)**2))\n",
    "    # mask surface height\n",
    "    hm = MASK_HT0 + yy * np.sin(degtorad(M_ANGLE))+M_RCURV*(1-cosm)\n",
    "    #correction\n",
    "    yc = yy + (hs - hm) * yp / PPLDIST / cost\n",
    "    xc = xx + (hs - hm) * xp / PPLDIST / cosm\n",
    "    return xc,yc,ac\n",
    "\n",
    "\n",
    "    "
   ]
  },
  {
   "cell_type": "code",
   "execution_count": 26,
   "metadata": {
    "collapsed": true
   },
   "outputs": [],
   "source": [
    "def mask_coords(SlitData):\n",
    "    asec_rad = 206264.8\n",
    "    \n",
    "    # offset from telescope axis to slitmask origin, in slitmask coordinates\n",
    "    yoff = ZPT_YM*(1-np.cos(degtorad(M_ANGLE)))\n",
    "    yoff = 0 #### CHECK!\n",
    "    xoff = 0\n",
    "    for i in range(len(SlitData)):\n",
    "        sdat = SlitData[i]\n",
    "        if sdat['RELPA']!=\"\":\n",
    "            cosa = np.cos(sdat['RELPA'])\n",
    "            sina = np.sin(sdat['RELPA'])\n",
    "        else:\n",
    "            cosa=1\n",
    "            sina=1\n",
    "\n",
    "        # recalculation, probably not needed\n",
    "        sdat['X1']=sdat['XARCS']-sdat['LEN1']*cosa*(-1)\n",
    "        sdat['Y1']=sdat['YARCS']-sdat['LEN1']*sina\n",
    "        sdat['X2']=sdat['XARCS']+sdat['LEN1']*cosa*(-1)\n",
    "        sdat['Y2']=sdat['YARCS']+sdat['LEN2']*sina\n",
    "    \n",
    "        # x1,y1 are now tan projections\n",
    "        xfp = FL_TEL*sdat['X1']/asec_rad\n",
    "        yfp = FL_TEL*(sdat['Y1']-0.5*sdat['SLWID'])/asec_rad\n",
    "        pa = 0\n",
    "        xfp,yfp = gnom_to_dproj(xfp,yfp)\n",
    "        xsm,ysm,pa = proj_to_mask(xfp,yfp,pa)\n",
    "        sdat['XMM1']=xsm+xoff\n",
    "        sdat['YMM1']=ysm+yoff\n",
    "    \n",
    "        xfp = FL_TEL*sdat['X2']/asec_rad\n",
    "        yfp = FL_TEL*(sdat['Y2']-0.5*sdat['SLWID'])/asec_rad\n",
    "        pa = 0\n",
    "        xfp,yfp = gnom_to_dproj(xfp,yfp)\n",
    "        xsm,ysm,pa = proj_to_mask(xfp,yfp,pa)\n",
    "        sdat['XMM2']=xsm+xoff\n",
    "        sdat['YMM2']=ysm+yoff\n",
    "    \n",
    "        xfp = FL_TEL*sdat['X2']/asec_rad\n",
    "        yfp = FL_TEL*(sdat['Y2']+0.5*sdat['SLWID'])/asec_rad\n",
    "        pa = 0\n",
    "        xfp,yfp = gnom_to_dproj(xfp,yfp)\n",
    "        xsm,ysm,pa = proj_to_mask(xfp,yfp,pa)\n",
    "        sdat['XMM3']=xsm+xoff\n",
    "        sdat['YMM3']=ysm+yoff\n",
    " \n",
    "        xfp = FL_TEL*sdat['X1']/asec_rad\n",
    "        yfp = FL_TEL*(sdat['Y1']+0.5*sdat['SLWID'])/asec_rad\n",
    "        pa = 0\n",
    "        xfp,yfp = gnom_to_dproj(xfp,yfp)\n",
    "        xsm,ysm,pa = proj_to_mask(xfp,yfp,pa)\n",
    "        sdat['XMM4']=xsm+xoff\n",
    "        sdat['YMM4']=ysm+yoff\n",
    "    \n",
    "        # here we should call metal check\n",
    "        SlitData[i]=sdat\n",
    "        \n",
    "    return SlitData\n",
    "    \n"
   ]
  },
  {
   "cell_type": "code",
   "execution_count": 27,
   "metadata": {
    "collapsed": true
   },
   "outputs": [],
   "source": [
    "SlitData=mask_coords(SlitData)"
   ]
  },
  {
   "cell_type": "code",
   "execution_count": 28,
   "metadata": {},
   "outputs": [
    {
     "data": {
      "text/plain": [
       "{'DEC': 1.1859542092569735,\n",
       " 'INDEX': 1,\n",
       " 'LEN1': 5.9932259659769613,\n",
       " 'LEN2': 5.9932259659769613,\n",
       " 'PA': 0.0,\n",
       " 'PCODE': 100,\n",
       " 'RA': 4.593661537941049,\n",
       " 'RELPA': -3.1415926535897931,\n",
       " 'SLWID': 1,\n",
       " 'STAT': False,\n",
       " 'X1': 173.80695331824097,\n",
       " 'X2': 185.79340525019489,\n",
       " 'XARCS': 179.80017928421793,\n",
       " 'XMM1': 126.75924121979983,\n",
       " 'XMM2': 135.50910230826906,\n",
       " 'XMM3': 135.50858868837594,\n",
       " 'XMM4': 126.75876081700332,\n",
       " 'Y1': 60.706929483850608,\n",
       " 'Y2': 60.706929483850608,\n",
       " 'YARCS': 60.706929483850608,\n",
       " 'YMM1': -84.989570429780954,\n",
       " 'YMM2': -84.93392134236251,\n",
       " 'YMM3': -84.201219490623714,\n",
       " 'YMM4': -84.256849532636579}"
      ]
     },
     "execution_count": 28,
     "metadata": {},
     "output_type": "execute_result"
    }
   ],
   "source": [
    "SlitData[1]"
   ]
  },
  {
   "cell_type": "code",
   "execution_count": 29,
   "metadata": {},
   "outputs": [
    {
     "data": {
      "image/png": "[encoded data removed]",
      "text/plain": [
       "<matplotlib.figure.Figure at 0x181b135390>"
      ]
     },
     "metadata": {},
     "output_type": "display_data"
    }
   ],
   "source": [
    "# plot\n",
    "fig,ax = plt.subplots(1,figsize=(16,8))\n",
    "ax.set_xlim([400, -400])\n",
    "ax.set_ylim([-120, -50])\n",
    "for slit in SlitData:\n",
    "    p1=[slit['XMM1'],slit['YMM1']]\n",
    "    p2=[slit['XMM2'],slit['YMM2']]\n",
    "    p3=[slit['XMM3'],slit['YMM3']]\n",
    "    p4=[slit['XMM4'],slit['YMM4']]\n",
    "    x = [slit['XMM1'],slit['XMM2'],slit['XMM3'],slit['XMM4'],slit['XMM1']]\n",
    "    y = [slit['YMM1'],slit['YMM2'],slit['YMM3'],slit['YMM4'],slit['YMM1']]\n",
    "    l = mlines.Line2D(x,y)\n",
    "    ax.add_line(l)"
   ]
  },
  {
   "cell_type": "code",
   "execution_count": 30,
   "metadata": {},
   "outputs": [
    {
     "data": {
      "image/png": "[encoded data removed]",
      "text/plain": [
       "<matplotlib.figure.Figure at 0x181e05b630>"
      ]
     },
     "metadata": {},
     "output_type": "display_data"
    }
   ],
   "source": [
    "# plot example\n",
    "slits = ascii.read('example/bluslits')\n",
    "fig,ax = plt.subplots(1,figsize=(16,8))\n",
    "ax.set_xlim([400, -400])\n",
    "ax.set_ylim([0, 250])\n",
    "for slit in slits:\n",
    "    x = [slit['slitX1'],slit['slitX2'],slit['slitX3'],slit['slitX4'],slit['slitX1']]\n",
    "    y = [slit['slitY1'],slit['slitY2'],slit['slitY3'],slit['slitY4'],slit['slitY1']]\n",
    "    l = mlines.Line2D(x,y)\n",
    "    ax.add_line(l)"
   ]
  },
  {
   "cell_type": "code",
   "execution_count": null,
   "metadata": {
    "collapsed": true
   },
   "outputs": [],
   "source": []
  }
 ],
 "metadata": {
  "kernelspec": {
   "display_name": "Python 3",
   "language": "python",
   "name": "python3"
  },
  "language_info": {
   "codemirror_mode": {
    "name": "ipython",
    "version": 3
   },
   "file_extension": ".py",
   "mimetype": "text/x-python",
   "name": "python",
   "nbconvert_exporter": "python",
   "pygments_lexer": "ipython3",
   "version": "3.6.3"
  }
 },
 "nbformat": 4,
 "nbformat_minor": 2
}
